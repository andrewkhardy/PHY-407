{
 "cells": [
  {
   "cell_type": "code",
   "execution_count": 1,
   "metadata": {},
   "outputs": [],
   "source": [
    "#import numpy\n",
    "import numpy as np #import numpy"
   ]
  },
  {
   "cell_type": "code",
   "execution_count": 3,
   "metadata": {},
   "outputs": [
    {
     "name": "stdout",
     "output_type": "stream",
     "text": [
      "What is the height of the particle?:0.25\n",
      "151.0 is the scattering angle (degrees)\n"
     ]
    }
   ],
   "source": [
    "# Problem 2 Part A\n",
    "f_height = float(input('What is the height of the particle?:'))\n",
    "f_scattering_angle = np.pi - 2* np.arcsin(f_height)  # Formula from Assignment Paper\n",
    "print(np.round(f_scattering_angle*(180/np.pi),0), 'is the scattering angle (degrees)')"
   ]
  },
  {
   "cell_type": "markdown",
   "metadata": {},
   "source": [
    "### 2 Part b Pseudo Code for  Simulation of Scattering\n",
    "1. Import required packages for handling arrays and plotting tools.\n",
    "2. Generate an array of random heights ranging from [0, 1] and input them into the equation derived in Part a.\n",
    "2. Take the input array and plot it as a histogram \n",
    "3. Take the output array and plot it as a histogram \n",
    "4. Given a sufficiently large input array that it emulates true randomness, calculate the probability that the scattering angle \\theta  lies in the range  $ 175 ^{\\circ} < \\theta < 185 ^{\\circ}   $ vs   $ 20 ^{\\circ} < \\theta <  30 ^{\\circ}   $ or  $ 170 ^{\\circ} < \\theta < 190 ^{\\circ}  $ vs   $  90 ^{\\circ} < \\theta <  110 ^{\\circ}   $ \n",
    "\n",
    "5. This calculation is done by comparing the ratios of particles within each range to the the total number of particles and to each range. Find ratios "
   ]
  },
  {
   "cell_type": "code",
   "execution_count": 2,
   "metadata": {},
   "outputs": [],
   "source": [
    "#import required packages\n",
    "import matplotlib.pyplot as plt #import stuff for plotting\n",
    "import time \n",
    "import seaborn as sns\n",
    "sns.set()"
   ]
  },
  {
   "cell_type": "code",
   "execution_count": 3,
   "metadata": {},
   "outputs": [
    {
     "name": "stdout",
     "output_type": "stream",
     "text": [
      "How many particles are you shooting? :10000000\n"
     ]
    }
   ],
   "source": [
    "i_number = int(input('How many particles are you shooting? :'))  # try 10000000. Not perfect but not a huge computation time\n",
    "a_height = np.random.uniform(-1, 1, i_number)            # now an array instead of single float\n",
    "a_scattering_angle = np.pi - 2* np.arcsin(a_height)  # Formula from Assignment Paper\n",
    "a_scattering_angle_deg = np.round(a_scattering_angle*(180/np.pi))"
   ]
  },
  {
   "cell_type": "code",
   "execution_count": 4,
   "metadata": {},
   "outputs": [
    {
     "data": {
      "image/png": "[encoded data removed]",
      "text/plain": [
       "<Figure size 504x288 with 1 Axes>"
      ]
     },
     "metadata": {},
     "output_type": "display_data"
    }
   ],
   "source": [
    "# Plotting Random Height Distribuition of Particles\n",
    "plt.figure(figsize = (7,4))\n",
    "plt.hist(a_height,edgecolor='black', linewidth=1.2, alpha = 0.7, color = 'mediumslateblue')\n",
    "plt.title('Random Height Distribuition of Particles')\n",
    "plt.xlabel('Height')\n",
    "plt.show()"
   ]
  },
  {
   "cell_type": "code",
   "execution_count": 5,
   "metadata": {},
   "outputs": [
    {
     "data": {
      "image/png": "[encoded data removed]",
      "text/plain": [
       "<Figure size 720x288 with 1 Axes>"
      ]
     },
     "metadata": {},
     "output_type": "display_data"
    }
   ],
   "source": [
    "# Plotting Angle Distribuition of Particles\n",
    "plt.figure(figsize = (10,4))\n",
    "\n",
    "data = a_scattering_angle_deg\n",
    "binwidth= 10\n",
    "bins=np.arange(min(data), max(data)+ binwidth, binwidth)\n",
    "plt.hist(data,bins  \\\n",
    "         , alpha = 0.7, color = 'salmon')\n",
    "plt.title('Scattering Angle Distribuition of Particles')\n",
    "plt.xlabel('Scattering Angle (deg)')\n",
    "plt.show()"
   ]
  },
  {
   "cell_type": "markdown",
   "metadata": {},
   "source": [
    "## 2 Part B\n",
    "The distribuition of $ \\theta\\ $ is not uniform, but rather is something like a wide gaussian. This makes intuitive sense because the surface area near the center is smaller for corresponding height, so their are more angles within within narrow ranges at the center then near the edges. "
   ]
  },
  {
   "cell_type": "code",
   "execution_count": 6,
   "metadata": {},
   "outputs": [
    {
     "name": "stdout",
     "output_type": "stream",
     "text": [
      "0.763941128842388\n",
      "0.10660319392683024\n"
     ]
    }
   ],
   "source": [
    "# probabilities \n",
    "a_histval,a_binedge = np.histogram(data, bins) # The histogram values and bin edges for probability\n",
    "# finding the cuts I want\n",
    "i_ninety_index = np.where(np.logical_or(a_binedge == 90,a_binedge == 100)) \n",
    "i_oneseventy_index =np.where(np.logical_or(a_binedge == 170,a_binedge == 180))\n",
    "i_twenty_index =np.where(a_binedge == 20)\n",
    "# Calculating the probabilities\n",
    "f_ninety_probability = np.sum(a_histval[i_ninety_index])/np.sum(a_histval) * 100\n",
    "f_oneseventy_probability = np.sum(a_histval[i_oneseventy_index])/np.sum(a_histval) * 100\n",
    "f_twenty_probability = np.sum(a_histval[i_twenty_index])/np.sum(a_histval) * 100\n",
    "#  little bit of a jig so I can get a cut offset by 5\n",
    "a_histval_weird, a_binedge_weird = np.histogram(data,1, range = (175,185))\n",
    "# more calculating probabilities\n",
    "f_oneseventyfive_probability = np.sum(a_histval_weird)/ np.sum(a_histval)*100\n",
    "# output of ratios of probabilities\n",
    "print(f_ninety_probability/f_oneseventy_probability )\n",
    "print(f_twenty_probability/f_oneseventy_probability )"
   ]
  },
  {
   "cell_type": "markdown",
   "metadata": {},
   "source": [
    "### 2 Part C Probalities of Scattering Angle\n",
    "Running the above code for 10000000 particles yields a probability output of  $ 76.246 \\% $ for the scattering angle will fall between  $  90 ^{\\circ} < \\theta <  110 ^{\\circ}   $  as  $ 170 ^{\\circ} < \\theta < 190 ^{\\circ}  $. Running the same code for 20000000 (double of number before) particles the probability changes neglibly to be $ 76.185 \\% $ for this angle range. \n",
    "\n",
    "Running the above code for 10000000 particles yields a probability output of $ 10.617 \\%  $ for the scattering angle will fall between  $  20 ^{\\circ} < \\theta <  30 ^{\\circ}   $  as  $ 175 ^{\\circ} < \\theta < 185 ^{\\circ}  $. Running the same code for 20000000 (double of number before) particles the probability changes neglibly to be $ 10.643 \\% $ for this angle range.\n",
    "\n",
    "In fact, re-running the code for the same number of particles numerous times, small variances in the ouput probabilities can be observed on the same order as those observed when doubling the sampling number. From this, one can safely conclude that variance observed is merely due to variances caused by the finite random sampling, and that doubling the number of samples when already sampling a large number has virtually no effect on the probability analysis. \n"
   ]
  },
  {
   "cell_type": "code",
   "execution_count": null,
   "metadata": {},
   "outputs": [],
   "source": []
  }
 ],
 "metadata": {
  "kernelspec": {
   "display_name": "Python 3",
   "language": "python",
   "name": "python3"
  },
  "language_info": {
   "codemirror_mode": {
    "name": "ipython",
    "version": 3
   },
   "file_extension": ".py",
   "mimetype": "text/x-python",
   "name": "python",
   "nbconvert_exporter": "python",
   "pygments_lexer": "ipython3",
   "version": "3.6.5"
  }
 },
 "nbformat": 4,
 "nbformat_minor": 2
}
