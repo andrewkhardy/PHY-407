{
 "cells": [
  {
   "cell_type": "code",
   "execution_count": 44,
   "metadata": {
    "ExecuteTime": {
     "end_time": "2018-10-25T18:15:05.404976Z",
     "start_time": "2018-10-25T18:15:05.392119Z"
    }
   },
   "outputs": [],
   "source": [
    "import numpy as np\n",
    "import scipy.constants as pc\n",
    "import scipy.integrate as scigrate\n",
    "import matplotlib.pyplot as plt\n",
    "import seaborn as sns\n",
    "sns.set()"
   ]
  },
  {
   "cell_type": "code",
   "execution_count": 65,
   "metadata": {
    "ExecuteTime": {
     "end_time": "2018-10-25T18:22:40.449924Z",
     "start_time": "2018-10-25T18:22:40.431352Z"
    }
   },
   "outputs": [],
   "source": [
    "# Constants\n",
    "\n",
    "a = pc.physical_constants['Bohr radius'][0] # Bohr radius \n",
    "E0 = pc.physical_constants['Rydberg constant times hc in eV'][0] #rydberg \n",
    "m = pc.m_e # electron mass\n",
    "hbar = pc.hbar # Planck's constant over 2*pi\n",
    "e = pc.e # elementary charge\n",
    "epsilon = pc.epsilon_0\n",
    "#N = 1000\n",
    "h = 0.0005*a #steps \n",
    "L = 25*a #r infinity\n",
    "# Potential function"
   ]
  },
  {
   "cell_type": "code",
   "execution_count": 66,
   "metadata": {
    "ExecuteTime": {
     "end_time": "2018-10-25T18:22:40.866778Z",
     "start_time": "2018-10-25T18:22:40.845968Z"
    }
   },
   "outputs": [],
   "source": [
    "def V(x): \n",
    "    return -e**2/(4*np.pi*epsilon*x)\n",
    "def f(r,x,E, l):\n",
    "    R = r[0] \n",
    "    S = r[1] \n",
    "    fR = S\n",
    "    fS = (l*(l+1)/x**2 + (2*m/hbar**2)*(V(x) - E))*R #COV R --> rR\n",
    "    return np.array([fR,fS],float)\n",
    "    # Calculate the wavefunction for a particular energy \n",
    "def solve(E,l): \n",
    "    R = 0.0 #R(h) = 0 \n",
    "    S = 1.0 #S(h) = 1 left boundary conditions \n",
    "    r = np.array([R,S],float)\n",
    "    for x in np.arange(h,L,h):#start integration starting at x=h \n",
    "        k1 = h*f(r,x,E,l) \n",
    "        k2 = h*f(r+0.5*k1,x+0.5*h,E,l)\n",
    "        k3 = h*f(r+0.5*k2,x+0.5*h,E,l)\n",
    "        k4 = h*f(r+k3,x+h,E,l) \n",
    "        r += (k1+2*k2+2*k3+k4)/6\n",
    "    return r[0]/L #division to accomodate for COV\n",
    "\n",
    "\n",
    " \n"
   ]
  },
  {
   "cell_type": "code",
   "execution_count": 67,
   "metadata": {
    "ExecuteTime": {
     "end_time": "2018-10-25T18:22:52.400657Z",
     "start_time": "2018-10-25T18:22:41.259268Z"
    }
   },
   "outputs": [
    {
     "name": "stdout",
     "output_type": "stream",
     "text": [
      "E = -13.578686450420925 eV\n"
     ]
    }
   ],
   "source": [
    "# Part B \n",
    "# Main program to find the energy using the secant method \n",
    "n = 1.0 \n",
    "l = 0.0\n",
    "E1 = -15*e/n**2 #bracket energies \n",
    "E2 = -13*e/n**2\n",
    "R2 = solve(E1,l)\n",
    "target = e/200\n",
    "while abs(E1-E2)>target: \n",
    "    R1,R2 = R2,solve(E2,l) \n",
    "    E1,E2 = E2,E2-R2*(E2-E1)/(R2-R1) \n",
    "print(\"E =\",E2/e,\"eV\")"
   ]
  },
  {
   "cell_type": "code",
   "execution_count": 68,
   "metadata": {
    "ExecuteTime": {
     "end_time": "2018-10-25T18:22:59.143203Z",
     "start_time": "2018-10-25T18:22:52.459352Z"
    }
   },
   "outputs": [
    {
     "name": "stdout",
     "output_type": "stream",
     "text": [
      "E = -3.3978308080004362 eV\n"
     ]
    }
   ],
   "source": [
    "n = 2.0 \n",
    "l = 0.0\n",
    "E1 = -15*e/n**2 #bracket energies \n",
    "E2 = -13*e/n**2\n",
    "R2 = solve(E1,l)\n",
    "while abs(E1-E2)>target: \n",
    "    R1,R2 = R2,solve(E2,l) \n",
    "    E1,E2 = E2,E2-R2*(E2-E1)/(R2-R1) \n",
    "print(\"E =\",E2/e,\"eV\")"
   ]
  },
  {
   "cell_type": "code",
   "execution_count": 69,
   "metadata": {
    "ExecuteTime": {
     "end_time": "2018-10-25T18:23:07.105141Z",
     "start_time": "2018-10-25T18:22:59.232990Z"
    }
   },
   "outputs": [
    {
     "name": "stdout",
     "output_type": "stream",
     "text": [
      "E = -3.401426058123551 eV\n"
     ]
    }
   ],
   "source": [
    "# Part B Part 2\n",
    "n = 2.0 \n",
    "l = 1.0\n",
    "E1 = -15*e/n**2 #bracket energies \n",
    "E2 = -13*e/n**2\n",
    "R2 = solve(E1,l)\n",
    "while abs(E1-E2)>target: \n",
    "    R1,R2 = R2,solve(E2,l) \n",
    "    E1,E2 = E2,E2-R2*(E2-E1)/(R2-R1) \n",
    "print(\"E =\",E2/e,\"eV\")"
   ]
  },
  {
   "cell_type": "code",
   "execution_count": 70,
   "metadata": {
    "ExecuteTime": {
     "end_time": "2018-10-25T18:23:07.184930Z",
     "start_time": "2018-10-25T18:23:07.180925Z"
    }
   },
   "outputs": [],
   "source": [
    "# Part C \n",
    "# Integration \n",
    "# you can use scigrate.simps, I asked the TA"
   ]
  },
  {
   "cell_type": "code",
   "execution_count": 71,
   "metadata": {
    "ExecuteTime": {
     "end_time": "2018-10-25T18:23:07.287538Z",
     "start_time": "2018-10-25T18:23:07.277716Z"
    }
   },
   "outputs": [],
   "source": [
    "# Part D\n",
    "a = 1\n",
    "r = np.arange(0,10, .1)\n",
    "# Analytic Solution for n = 1 , l = 0 \n",
    "pos_1_0 = 2/a **(3/2) * np.exp(-r/a)\n",
    "#Analytic Solution for n = 2, l = 0\n",
    "pos_2_0 = 1/(2*np.sqrt(2))* a ** (3/2)*(2-r/a)* np.exp(-r/a)\n",
    "#Analytic Solution for n = 2, l = 1\n",
    "pos_2_1 = 1/(2*np.sqrt(6))* a ** (3/2)*(r/a)* np.exp(-r/a)\n"
   ]
  },
  {
   "cell_type": "code",
   "execution_count": 48,
   "metadata": {
    "ExecuteTime": {
     "end_time": "2018-10-25T18:19:47.422638Z",
     "start_time": "2018-10-25T18:19:47.028585Z"
    }
   },
   "outputs": [
    {
     "data": {
      "text/plain": [
       "<matplotlib.legend.Legend at 0x7f9ce04d5748>"
      ]
     },
     "execution_count": 48,
     "metadata": {},
     "output_type": "execute_result"
    },
    {
     "data": {
      "image/png": "[encoded data removed]",
      "text/plain": [
       "<Figure size 504x504 with 1 Axes>"
      ]
     },
     "metadata": {},
     "output_type": "display_data"
    }
   ],
   "source": [
    "plt.figure(figsize =(7,7))\n",
    "plt.plot(r,pos_1_0 , label = 'n =1 , l = 0')\n",
    "plt.plot(r, pos_2_0 ,  label = 'n =2 , l = 0' )\n",
    "plt.plot(r, pos_2_1 ,  label = 'n =2 , l = 1')\n",
    "plt.title( 'Hydrogen Wave Functions ', fontsize = '18')\n",
    "plt.xlabel('R(r)', fontsize = '14')\n",
    "plt.ylabel('r', fontsize = '14')\n",
    "plt.legend(fontsize = '14')"
   ]
  }
 ],
 "metadata": {
  "kernelspec": {
   "display_name": "Python 3",
   "language": "python",
   "name": "python3"
  },
  "language_info": {
   "codemirror_mode": {
    "name": "ipython",
    "version": 3
   },
   "file_extension": ".py",
   "mimetype": "text/x-python",
   "name": "python",
   "nbconvert_exporter": "python",
   "pygments_lexer": "ipython3",
   "version": "3.6.5"
  },
  "varInspector": {
   "cols": {
    "lenName": 16,
    "lenType": 16,
    "lenVar": 40
   },
   "kernels_config": {
    "python": {
     "delete_cmd_postfix": "",
     "delete_cmd_prefix": "del ",
     "library": "var_list.py",
     "varRefreshCmd": "print(var_dic_list())"
    },
    "r": {
     "delete_cmd_postfix": ") ",
     "delete_cmd_prefix": "rm(",
     "library": "var_list.r",
     "varRefreshCmd": "cat(var_dic_list()) "
    }
   },
   "types_to_exclude": [
    "module",
    "function",
    "builtin_function_or_method",
    "instance",
    "_Feature"
   ],
   "window_display": false
  }
 },
 "nbformat": 4,
 "nbformat_minor": 2
}
