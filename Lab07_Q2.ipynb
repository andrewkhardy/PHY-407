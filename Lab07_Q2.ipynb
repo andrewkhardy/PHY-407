{
 "cells": [
  {
   "cell_type": "code",
   "execution_count": 1,
   "metadata": {
    "scrolled": true
   },
   "outputs": [
    {
     "name": "stdout",
     "output_type": "stream",
     "text": [
      "E = -13.499997095198509 eV\n"
     ]
    }
   ],
   "source": [
    "#a)\n",
    "from numpy import array,arange, pi\n",
    "import scipy.constants as pc\n",
    "\n",
    "# Constants\n",
    "a = pc.physical_constants['Bohr radius'][0] # Bohr radius\n",
    "E0 = pc.physical_constants['Rydberg constant times hc in eV'][0] #rydberg\n",
    "m = pc.m_e # electron mass\n",
    "hbar = pc.hbar # Planck's constant over 2*pi\n",
    "e = pc.e # elementary charge\n",
    "epsilon = pc.epsilon_0\n",
    "#N = 1000\n",
    "h = 0.002*a #steps\n",
    "L = 20*a #\"r infinity\"\n",
    "\n",
    "# Potential function\n",
    "def V(x):\n",
    "    return -e**2/(4*pi*epsilon*x)\n",
    "\n",
    "def f(r,x,E, l):\n",
    "    R = r[0]\n",
    "    S = r[1]\n",
    "    fR = S\n",
    "    fS = (l*(l+1)/x**2 + (2*m/hbar**2)*(V(x) - E))*R #COV R --> rR\n",
    "    return array([fR,fS],float)\n",
    "\n",
    "# Calculate the wavefunction for a particular energy\n",
    "def solve(E,l):\n",
    "    R = 0.0 #R(h) = 0 \n",
    "    S = 1.0 #S(h) = 1 left boundary conditions\n",
    "    r = array([R,S],float)\n",
    "\n",
    "    for x in arange(h,L,h):#start integration starting at x=h\n",
    "        k1 = h*f(r,x,E,l)\n",
    "        k2 = h*f(r+0.5*k1,x+0.5*h,E,l)\n",
    "        k3 = h*f(r+0.5*k2,x+0.5*h,E,l)\n",
    "        k4 = h*f(r+k3,x+h,E,l)\n",
    "        r += (k1+2*k2+2*k3+k4)/6\n",
    "    \n",
    "    return r[0]/L #division to accomodate for COV\n",
    "\n",
    "# Main program to find the energy using the secant method\n",
    "n = 1.0\n",
    "l = 0.0\n",
    "E1 = -15*e/n**2 #bracket energies\n",
    "E2 = -13*e/n**2\n",
    "R2 = solve(E1,l)\n",
    "\n",
    "target = e/1000\n",
    "while abs(E1-E2)>target:\n",
    "    R1,R2 = R2,solve(E2,l)\n",
    "    E1,E2 = E2,E2-R2*(E2-E1)/(R2-R1)\n",
    "\n",
    "print(\"E =\",E2/e,\"eV\") #not sure why we're getting divide by zero and E print as nan. \n",
    "#as far as I can tell solve(E2,1) = solve(E1,1) so at line 56 R1 = R2 and so you divide by zero. How to fix this\n",
    "#or why this is the case i cannot tell yet"
   ]
  },
  {
   "cell_type": "code",
   "execution_count": null,
   "metadata": {},
   "outputs": [],
   "source": []
  }
 ],
 "metadata": {
  "kernelspec": {
   "display_name": "Python 3",
   "language": "python",
   "name": "python3"
  },
  "language_info": {
   "codemirror_mode": {
    "name": "ipython",
    "version": 3
   },
   "file_extension": ".py",
   "mimetype": "text/x-python",
   "name": "python",
   "nbconvert_exporter": "python",
   "pygments_lexer": "ipython3",
   "version": "3.6.5"
  }
 },
 "nbformat": 4,
 "nbformat_minor": 2
}
