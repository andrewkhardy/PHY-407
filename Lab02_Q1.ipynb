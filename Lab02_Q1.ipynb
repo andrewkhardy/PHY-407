{
 "cells": [
  {
   "cell_type": "markdown",
   "metadata": {},
   "source": [
    "## Pseudocode for Question 1\n",
    "1. Import relevant modules \n",
    "2. calculate the standard deviation using the numpy package designated the \"true\" value\n",
    "3. Calculate the standard deviation using the equations \n",
    "\\begin{equation}\n",
    "\\bar{x} = \\frac{1}{n}\\sum_{i = 1}^{n} x_i \\qquad   (1)\n",
    "\\end{equation}\n",
    "\n",
    "\\begin{equation}\n",
    "  \\sigma = \\sqrt{\\frac{1}{n-1}\\sum_{i = 1}^{n} ((x_i - \\bar{x})^2)}  \\qquad   (2)\n",
    "\\end{equation}\n",
    "4. Calculate the standard deviation using the equation\n",
    "\\begin{equation}\n",
    "  \\sigma = \\sqrt{\\frac{1}{n-1}\\sum_{i = 1}^{n}( x_i^2 - n\\bar{x}^2)}  \\qquad   (3)\n",
    "\\end{equation}\n",
    "5. Compare the values from Part 3 and 4 to the value from 2, using the equation $\\frac{x-y}{y}$ for some true value $y$\n",
    "\n"
   ]
  },
  {
   "cell_type": "code",
   "execution_count": 1,
   "metadata": {
    "ExecuteTime": {
     "end_time": "2018-09-18T00:22:14.216325Z",
     "start_time": "2018-09-18T00:22:14.004307Z"
    }
   },
   "outputs": [],
   "source": [
    "import numpy as np\n",
    "import matplotlib as plt\n",
    "import time as time\n",
    "#Imported packages\n",
    "#Using Hungarian Notation"
   ]
  },
  {
   "cell_type": "code",
   "execution_count": 7,
   "metadata": {
    "ExecuteTime": {
     "end_time": "2018-09-19T13:14:57.258393Z",
     "start_time": "2018-09-19T13:14:57.243408Z"
    }
   },
   "outputs": [],
   "source": [
    "a_light_data = np.loadtxt('cdata.txt')      # gathered data\n",
    "i_n_length = len(a_light_data)              # n in the formulas\n",
    "f_std = np.std(a_light_data)"
   ]
  },
  {
   "cell_type": "code",
   "execution_count": 11,
   "metadata": {
    "ExecuteTime": {
     "end_time": "2018-09-19T13:15:46.981472Z",
     "start_time": "2018-09-19T13:15:46.968677Z"
    }
   },
   "outputs": [],
   "source": [
    "f_avg = np.mean(a_light_data)\n",
    "f_first_sigma = np.sqrt((1/i_n_length)*np.sum((a_light_data-f_avg)**2))\n",
    "f_first_error = (f_first_sigma - f_std)/f_std"
   ]
  },
  {
   "cell_type": "code",
   "execution_count": null,
   "metadata": {},
   "outputs": [],
   "source": [
    "f_sec_sigma = np.sqrt((1/i_n_length)*np.sum((a_light_data-f_avg)**2))\n",
    "f_sec_error = (f_sec_sigma - f_std)/f_std"
   ]
  }
 ],
 "metadata": {
  "kernelspec": {
   "display_name": "Python 3",
   "language": "python",
   "name": "python3"
  },
  "language_info": {
   "codemirror_mode": {
    "name": "ipython",
    "version": 3
   },
   "file_extension": ".py",
   "mimetype": "text/x-python",
   "name": "python",
   "nbconvert_exporter": "python",
   "pygments_lexer": "ipython3",
   "version": "3.6.5"
  },
  "varInspector": {
   "cols": {
    "lenName": 16,
    "lenType": 16,
    "lenVar": 40
   },
   "kernels_config": {
    "python": {
     "delete_cmd_postfix": "",
     "delete_cmd_prefix": "del ",
     "library": "var_list.py",
     "varRefreshCmd": "print(var_dic_list())"
    },
    "r": {
     "delete_cmd_postfix": ") ",
     "delete_cmd_prefix": "rm(",
     "library": "var_list.r",
     "varRefreshCmd": "cat(var_dic_list()) "
    }
   },
   "oldHeight": 292,
   "position": {
    "height": "40px",
    "left": "822px",
    "right": "135px",
    "top": "193px",
    "width": "354px"
   },
   "types_to_exclude": [
    "module",
    "function",
    "builtin_function_or_method",
    "instance",
    "_Feature"
   ],
   "varInspector_section_display": "none",
   "window_display": true
  }
 },
 "nbformat": 4,
 "nbformat_minor": 2
}
