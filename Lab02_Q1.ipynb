{
 "cells": [
  {
   "cell_type": "markdown",
   "metadata": {},
   "source": [
    "## Question 1\n",
    "Question 1 is asking us to explore different numerical methods for calculating standard deviation and the associated errors that arise from different methods. We will be computing the standard deviation using two different methods. We will also use data from a professor at UCLA and also normal distribuitions generated using the Numpy package. "
   ]
  },
  {
   "cell_type": "markdown",
   "metadata": {},
   "source": [
    "## Part a: Pseudocode to evaluate two different methods for estimating standard deviation\n",
    "1. Import relevant modules \n",
    "2. calculate the standard deviation using the numpy package designated the \"true\" value\n",
    "3. Calculate the standard deviation using the equations \n",
    "\\begin{equation}\n",
    "\\bar{x} = \\frac{1}{n}\\sum_{i = 1}^{n} x_i \\qquad   (1)\n",
    "\\end{equation}\n",
    "\n",
    "\\begin{equation}\n",
    "  \\sigma = \\sqrt{\\frac{1}{n-1}\\sum_{i = 1}^{n} ((x_i - \\bar{x})^2)}  \\qquad   (2)\n",
    "\\end{equation}\n",
    "4. this is done by first calculating the length of the data array to find n \n",
    "5. Then the sum of the data is initialized and computed in a for loop\n",
    "6. The average is calculated using the formula\n",
    "7. The sum of the deviation is initialized and computed in a separate for loop using the average\n",
    "8. Then these values are used to  compute the formula to find sigma\n",
    "9. Calculate the standard deviation using the other equation\n",
    "\\begin{equation}\n",
    "  \\sigma = \\sqrt{\\frac{1}{n-1}\\sum_{i = 1}^{n} x_i^2 - n\\bar{x}^2}  \\qquad   (3)\n",
    "\\end{equation}\n",
    "10. this is done by first calculating the length of the data array to find n \n",
    "11. Then the sum of the data and sum of the data squared is initialized and computed in a single for loop\n",
    "12. The average is computed following the formula\n",
    "12. Then all of these values are used to compute this other formula to also find sigma\n",
    "16. Compare the values from Part 3 and 4 to the value from 2, using the equation $\\frac{x-y}{y}$ for some true value $y$\n",
    "\n",
    "## Part b: Implementation of Pseudocode from Part a and evaluation of relative error to numpy.std method"
   ]
  },
  {
   "cell_type": "code",
   "execution_count": 2,
   "metadata": {
    "ExecuteTime": {
     "end_time": "2018-09-21T14:24:34.702808Z",
     "start_time": "2018-09-21T14:24:34.473248Z"
    }
   },
   "outputs": [],
   "source": [
    "import numpy as np\n",
    "import matplotlib as plt\n",
    "import time as time\n",
    "#Imported packages\n",
    "#Using Hungarian Notation"
   ]
  },
  {
   "cell_type": "code",
   "execution_count": 3,
   "metadata": {
    "ExecuteTime": {
     "end_time": "2018-09-21T14:24:34.727459Z",
     "start_time": "2018-09-21T14:24:34.721512Z"
    }
   },
   "outputs": [],
   "source": [
    "a_light_data = np.loadtxt('cdata.txt')      # gathered data\n",
    "f_std = np.std(a_light_data) #our 'truth' value for standard deviation of the dataset"
   ]
  },
  {
   "cell_type": "code",
   "execution_count": 4,
   "metadata": {
    "ExecuteTime": {
     "end_time": "2018-09-21T14:24:34.824158Z",
     "start_time": "2018-09-21T14:24:34.814612Z"
    }
   },
   "outputs": [],
   "source": [
    "def first_sigma(a_data):\n",
    "    i_n_length = len(a_data)              # n in the formulas\n",
    "    f_sum = 0\n",
    "    f_std_sum = 0\n",
    "    for i in range(i_n_length):                 # computing the sum as a forloop, basically np.sum\n",
    "        f_sum += a_data[i] \n",
    "    f_avg =  f_sum/i_n_length                   # basically np.mean. Following formula 1 for calculating mean\n",
    "   \n",
    "    for i in range(i_n_length):                 # sum required in formula 2 for standard deviation\n",
    "        f_std_sum += (a_data[i] - f_avg)**2\n",
    "    f_first_sigma = np.sqrt(1/(i_n_length-1)*f_std_sum)   # calculating standard deviation\n",
    "    #print(a_data[i], f_avg) # WHY ARE WE PRINTING THIS? - B\n",
    "    return f_first_sigma\n",
    "\n",
    "\n",
    "def second_sigma(a_data):\n",
    "    i_n_length = len(a_data)             # n in the formulas\n",
    "    f_sum = 0\n",
    "    f_sum_squared = 0\n",
    "    for i in range(i_n_length): \n",
    "        f_sum += a_data[i]                # computing the sum as a forloop, basically np.sum\n",
    "        f_sum_squared += a_data[i]**2 \n",
    "    f_avg = f_sum/i_n_length                # basically np.mean. Following formula 1 for calculating mean\n",
    "    try: #dont want to try to square root a negative number\n",
    "        f_sec_sigma = np.sqrt((1/(i_n_length-1))*(f_sum_squared-i_n_length*f_avg**2))\n",
    "    except IOerror:\n",
    "        print('Warning: encountered square-root of a negative number.')\n",
    "    return f_sec_sigma\n",
    "\n",
    "def RelativeErr(accepted, measured):\n",
    "    return (measured-accepted)/accepted"
   ]
  },
  {
   "cell_type": "code",
   "execution_count": 5,
   "metadata": {
    "ExecuteTime": {
     "end_time": "2018-09-21T14:24:34.999194Z",
     "start_time": "2018-09-21T14:24:34.993400Z"
    },
    "scrolled": true
   },
   "outputs": [
    {
     "name": "stdout",
     "output_type": "stream",
     "text": [
      "first error is  0.005037815259211947\n"
     ]
    }
   ],
   "source": [
    "f_first_sigma = first_sigma(a_light_data)\n",
    "f_first_error = RelativeErr(f_std, f_first_sigma)\n",
    "print('first error is ', f_first_error)"
   ]
  },
  {
   "cell_type": "code",
   "execution_count": 6,
   "metadata": {
    "ExecuteTime": {
     "end_time": "2018-09-21T14:24:35.164674Z",
     "start_time": "2018-09-21T14:24:35.159368Z"
    }
   },
   "outputs": [
    {
     "name": "stdout",
     "output_type": "stream",
     "text": [
      "second error is  0.005037819018453159\n"
     ]
    }
   ],
   "source": [
    "f_sec_sigma = second_sigma(a_light_data)\n",
    "f_sec_error = RelativeErr(f_std, f_sec_sigma)\n",
    "print('second error is ', f_sec_error)"
   ]
  },
  {
   "cell_type": "code",
   "execution_count": 7,
   "metadata": {
    "ExecuteTime": {
     "end_time": "2018-09-21T14:24:35.345782Z",
     "start_time": "2018-09-21T14:24:35.341201Z"
    }
   },
   "outputs": [
    {
     "name": "stdout",
     "output_type": "stream",
     "text": [
      "The difference in the relative errors (first method error minus second method error) is: -3.76E-09.\n"
     ]
    }
   ],
   "source": [
    "f_diff = f_first_error - f_sec_error #difference in errors to compare size\n",
    "print('The difference in the relative errors (first method error minus second method error) is: {0:.2E}.'.format(f_diff))"
   ]
  },
  {
   "cell_type": "markdown",
   "metadata": {},
   "source": [
    "The above print statement suggests that the second error is slightly larger by a difference on order of $10^{-9}$. Typically in practice, this difference is effectively negligble in any statistical analysis considering standard deviation. \n",
    "\n",
    "## Part c: Evaluate these methods on sample data sampled randomly from a Gaussian distibution"
   ]
  },
  {
   "cell_type": "code",
   "execution_count": 8,
   "metadata": {
    "ExecuteTime": {
     "end_time": "2018-09-21T14:24:35.725698Z",
     "start_time": "2018-09-21T14:24:35.718210Z"
    }
   },
   "outputs": [],
   "source": [
    "# Part C\n",
    "f_test_std = 1. # the standard deviation given in the lab manual \n",
    "# defining the two normal distribuitions as given in the manual \n",
    "a_seq_1 = np.random.normal(0.,f_test_std,2000)\n",
    "a_seq_2 = np.random.normal(1e7,f_test_std,2000)"
   ]
  },
  {
   "cell_type": "code",
   "execution_count": 9,
   "metadata": {
    "ExecuteTime": {
     "end_time": "2018-09-21T14:24:35.918909Z",
     "start_time": "2018-09-21T14:24:35.902910Z"
    }
   },
   "outputs": [
    {
     "name": "stdout",
     "output_type": "stream",
     "text": [
      "first error is  0.008977750126145434\n",
      "second error is  0.008977750126144768\n",
      "The difference in the relative errors (first method error minus second method error) is: 6.66E-16.\n"
     ]
    }
   ],
   "source": [
    "f_seq_firstsig_1 = first_sigma(a_seq_1)   # first method of standard deviation for first normal distribuition\n",
    "f_seq_secsig_1 = second_sigma(a_seq_1)    # second method of standard deviation for first normal distribuition\n",
    "f_first_error_1 = RelativeErr(f_test_std, f_seq_firstsig_1)  # error associated with first method \n",
    "f_sec_error_1 = RelativeErr(f_test_std, f_seq_secsig_1)      # error associated with second method \n",
    "print('first error is ',f_first_error_1)\n",
    "print('second error is ',f_sec_error_1)\n",
    "f_diff_normal_1 = f_first_error_1 - f_sec_error_1\n",
    "print('The difference in the relative errors (first method error minus second method error) is: {0:.2E}.'.format(f_diff_normal_1))"
   ]
  },
  {
   "cell_type": "markdown",
   "metadata": {},
   "source": [
    "In this case, the first method produces an error higher than the second method by a difference on the order of $10^{-16}$. Again, this difference in negligible in any practical setting."
   ]
  },
  {
   "cell_type": "code",
   "execution_count": 10,
   "metadata": {
    "ExecuteTime": {
     "end_time": "2018-09-21T14:24:36.334475Z",
     "start_time": "2018-09-21T14:24:36.308951Z"
    }
   },
   "outputs": [
    {
     "name": "stdout",
     "output_type": "stream",
     "text": [
      "first error is  -0.034097823709330566\n",
      "second error is  -0.07890054168615812\n",
      "The difference in the relative errors (first method error minus second method error) is: 4.48E-02.\n",
      "The second method produces a relative error 231.395 % the value of the first.\n"
     ]
    }
   ],
   "source": [
    "f_seq_firstsig_2 = first_sigma(a_seq_2) # first method of standard deviation for second normal distribuition\n",
    "f_seq_secsig_2 = second_sigma(a_seq_2)  # second method of standard deviation for second normal distribuition\n",
    "f_first_error_2 = RelativeErr(f_test_std, f_seq_firstsig_2)  # error associated with first method \n",
    "f_sec_error_2 = RelativeErr(f_test_std, f_seq_secsig_2)      # error associated with second method \n",
    "print('first error is ',f_first_error_2)\n",
    "print('second error is ',f_sec_error_2)\n",
    "f_diff_normal_2 = f_first_error_2 - f_sec_error_2\n",
    "print('The difference in the relative errors (first method error minus second method error) is: {0:.2E}.'.format(f_diff_normal_2))\n",
    "f_ratio_2 = abs(f_sec_error_2*100/f_first_error_2)\n",
    "print('The second method produces a relative error {0:.3f} % the value of the first.'.format(f_ratio_2))"
   ]
  },
  {
   "cell_type": "markdown",
   "metadata": {},
   "source": [
    "Clearly, the second method produces a much greater error (a factor on the order of $10^4$ larger) than the first in the case that the mean of the random Gaussian sampling is set to be large. This notion would hold for 'real' data of a continuous random variable whose value was supposed to be constant. The reason we observe this stark difference in relative error for the two methods in this case when we didn't for the other cases with comparatively small means is because numerical errors are accumulating due to truncation of values when Python stores them between each subsequent step in the for-loop during the computation of $\\sum_{i = 1}^{n} x_i^2 \\text{ and } n\\bar{x}^2$. \n",
    "## Question 1c\n",
    "I postulate that shifting the 'dataset' down by a value comparable to the size of its mean would solve this large numerical error in method 2. We cannot simply subract the mean itself because this would require an additional loop and would defeat the purpose of this single-pass method. The value could be chosen to be the mid-point between the largest and smallest value in the dataset. In general this will be on the same order as the mean is, and is better than just shifting down by the largest value because this may be very large in comparison to the smallest value (depending on the size of the standard deviation in fact) which would result in numerical errors due to smallness of the values and the precision of floating point storage in memory. In otherwords, subtract the mid-point (sometimes reffered to as mode) of the dataset from each element of the data array, thus centering the Gaussian closer to zero. This in no way affects the standard deviation of the set, which is evident by considering that the standard deviation of a dataset sampled from a Gaussian distribution is effectively the 'width' of the Gaussian curve about it's mean. Shifting the mean of course preserves this width. "
   ]
  },
  {
   "cell_type": "code",
   "execution_count": 14,
   "metadata": {
    "ExecuteTime": {
     "end_time": "2018-09-21T14:28:57.082287Z",
     "start_time": "2018-09-21T14:28:57.044791Z"
    }
   },
   "outputs": [
    {
     "name": "stdout",
     "output_type": "stream",
     "text": [
      "0.9659021762906691  corrected sigma\n",
      "0.9210994583138419 original sigma with larger error\n",
      "The relative error for the improved second method with data shifting is -0.0340978237093309.\n",
      "The relative error for the first method is -0.034097823709330566.\n",
      "The difference in the relative errors (first method error minus second method error) is: 3.33E-16.\n"
     ]
    }
   ],
   "source": [
    "def second_sigma_v2(a_data): # a new and improved version of method 2 of standard deviation calculation with data shifting to correct numerical errors\n",
    "    i_n_length = len(a_data)             # n in the formulas\n",
    "    f_sum = 0\n",
    "    f_sum_squared = 0\n",
    "    a_data = a_data - (min(a_data)+max(a_data))/2 #THIS IS THE FIX: shift the data\n",
    "    for i in range(i_n_length): \n",
    "        f_sum += a_data[i]                # computing the sum as a forloop, basically np.sum\n",
    "        f_sum_squared += a_data[i]**2 \n",
    "    f_avg = f_sum/i_n_length                # basically np.mean. Following formula 1 for calculating mean\n",
    "    try: #dont want to try to square root a negative number\n",
    "        f_sec_sigma = np.sqrt((1/(i_n_length-1))*(f_sum_squared-i_n_length*f_avg**2))\n",
    "    except IOerror:\n",
    "        print('Warning: encountered square-root of a negative number.')\n",
    "    #print(f_sum_squared, i_n_length*f_avg**2) #WHY ARE WE PRINTING THIS? -B\n",
    "    return f_sec_sigma\n",
    "\n",
    "f_seq_secsig_2_new = second_sigma_v2(a_seq_2)\n",
    "f_sec_error_2_new = RelativeErr(f_test_std, f_seq_secsig_2_new)\n",
    "print(f_seq_secsig_2_new,' corrected sigma')\n",
    "print(f_seq_secsig_2, 'original sigma with larger error')\n",
    "print('The relative error for the improved second method with data shifting is {0}.'.format(f_sec_error_2_new))\n",
    "print('The relative error for the first method is {0}.'.format(f_first_error_2))\n",
    "f_diff_new = f_first_error_2 - f_sec_error_2_new\n",
    "print('The difference in the relative errors (first method error minus second method error) is: {0:.2E}.'.format(f_diff_new))\n"
   ]
  },
  {
   "cell_type": "markdown",
   "metadata": {},
   "source": [
    "This difference in relative error between the first and second method is comparably small to the first two situations where the difference in relative error was deemed neglible. This means our proposed 'fix' for the numerical error indeed worked!"
   ]
  },
  {
   "cell_type": "code",
   "execution_count": null,
   "metadata": {},
   "outputs": [],
   "source": []
  }
 ],
 "metadata": {
  "kernelspec": {
   "display_name": "Python 3",
   "language": "python",
   "name": "python3"
  },
  "language_info": {
   "codemirror_mode": {
    "name": "ipython",
    "version": 3
   },
   "file_extension": ".py",
   "mimetype": "text/x-python",
   "name": "python",
   "nbconvert_exporter": "python",
   "pygments_lexer": "ipython3",
   "version": "3.6.5"
  },
  "varInspector": {
   "cols": {
    "lenName": 16,
    "lenType": 16,
    "lenVar": 40
   },
   "kernels_config": {
    "python": {
     "delete_cmd_postfix": "",
     "delete_cmd_prefix": "del ",
     "library": "var_list.py",
     "varRefreshCmd": "print(var_dic_list())"
    },
    "r": {
     "delete_cmd_postfix": ") ",
     "delete_cmd_prefix": "rm(",
     "library": "var_list.r",
     "varRefreshCmd": "cat(var_dic_list()) "
    }
   },
   "oldHeight": 294,
   "position": {
    "height": "40px",
    "left": "537px",
    "right": "102px",
    "top": "128px",
    "width": "672px"
   },
   "types_to_exclude": [
    "module",
    "function",
    "builtin_function_or_method",
    "instance",
    "_Feature"
   ],
   "varInspector_section_display": "none",
   "window_display": true
  }
 },
 "nbformat": 4,
 "nbformat_minor": 2
}
