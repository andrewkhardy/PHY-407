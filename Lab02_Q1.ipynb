{
 "cells": [
  {
   "cell_type": "markdown",
   "metadata": {},
   "source": [
    "## Question 1 Restatement\n",
    "Question 1 is asking us to explore different numerical methods for calculating standard deviation and the associated errors that arise from different methods. We will be computing the standard deviation using two different methods. We will also use data from a professor at UCLA and also normal distribuitions generated using the Numpy package. "
   ]
  },
  {
   "cell_type": "markdown",
   "metadata": {},
   "source": [
    "## Pseudocode for Question 1\n",
    "1. Import relevant modules \n",
    "2. calculate the standard deviation using the numpy package designated the \"true\" value\n",
    "3. Calculate the standard deviation using the equations \n",
    "\\begin{equation}\n",
    "\\bar{x} = \\frac{1}{n}\\sum_{i = 1}^{n} x_i \\qquad   (1)\n",
    "\\end{equation}\n",
    "\n",
    "\\begin{equation}\n",
    "  \\sigma = \\sqrt{\\frac{1}{n-1}\\sum_{i = 1}^{n} ((x_i - \\bar{x})^2)}  \\qquad   (2)\n",
    "\\end{equation}\n",
    "4. this is done by first calculating the length of the data array to find n \n",
    "5. Then the sum of the data is initialized and computed in a for loop\n",
    "6. The average is calculated using the formula\n",
    "7. The sum of the deviation is initialized and computed in a separate for loop using the average\n",
    "8. Then these values are used to  compute the formula to find sigma\n",
    "9. Calculate the standard deviation using the other equation\n",
    "\\begin{equation}\n",
    "  \\sigma = \\sqrt{\\frac{1}{n-1}\\sum_{i = 1}^{n} x_i^2 - n\\bar{x}^2}  \\qquad   (3)\n",
    "\\end{equation}\n",
    "10. this is done by first calculating the length of the data array to find n \n",
    "11. Then the sum of the data and sum of the data squared is initialized and computed in a single for loop\n",
    "12. The average is computed following the formula\n",
    "12. Then all of these values are used to compute this other formula to also find sigma\n",
    "16. Compare the values from Part 3 and 4 to the value from 2, using the equation $\\frac{x-y}{y}$ for some true value $y$\n",
    "\n"
   ]
  },
  {
   "cell_type": "code",
   "execution_count": 1,
   "metadata": {
    "ExecuteTime": {
     "end_time": "2018-09-19T14:46:23.261964Z",
     "start_time": "2018-09-19T14:46:23.193748Z"
    }
   },
   "outputs": [],
   "source": [
    "import numpy as np\n",
    "import matplotlib as plt\n",
    "import time as time\n",
    "#Imported packages\n",
    "#Using Hungarian Notation"
   ]
  },
  {
   "cell_type": "code",
   "execution_count": 2,
   "metadata": {
    "ExecuteTime": {
     "end_time": "2018-09-19T14:46:23.719450Z",
     "start_time": "2018-09-19T14:46:23.713706Z"
    }
   },
   "outputs": [],
   "source": [
    "a_light_data = np.loadtxt('cdata.txt')      # gathered data\n",
    "f_std = np.std(a_light_data)"
   ]
  },
  {
   "cell_type": "code",
   "execution_count": 21,
   "metadata": {
    "ExecuteTime": {
     "end_time": "2018-09-19T14:58:18.164139Z",
     "start_time": "2018-09-19T14:58:18.150462Z"
    }
   },
   "outputs": [],
   "source": [
    "def first_sigma(a_data):\n",
    "    i_n_length = len(a_data)              # n in the formulas\n",
    "    f_sum = 0\n",
    "     f_std_sum = 0\n",
    "    for i in range(i_n_length):                 # computing the sum as a forloop, basically np.sum\n",
    "        f_sum += a_data[i] \n",
    "    f_avg =  f_sum/i_n_length                   # basically np.mean. Following formula 1 for calculating mean\n",
    "   \n",
    "    for i in range(i_n_length):                 # sum required in formula 2 for standard deviation\n",
    "        f_std_sum += (a_data[i] - f_avg)**2\n",
    "    f_first_sigma = np.sqrt(1/(i_n_length-1)*f_std_sum)   # calculating standard deviation\n",
    "    return f_first_sigma\n",
    "\n",
    "\n",
    "def second_sigma(data):\n",
    "    i_n_length = len(a_data)             # n in the formulas\n",
    "    f_sum = 0\n",
    "    f_sum_squared = 0\n",
    "    for i in range(i_n_length): \n",
    "        f_sum += a_data[i]                # computing the sum as a forloop, basically np.sum\n",
    "        f_sum_squared += a_data[i]**2 \n",
    "    f_avg = f_sum/i_n_length                # basically np.mean. Following formula 1 for calculating mean\n",
    "    f_sec_sigma = np.sqrt((1/(i_n_length-1))*(f_sum_squared-i_n_length*f_avg**2))\n",
    "    return f_sec_sigma\n",
    "def truth_error(value, true):\n",
    "    error = (value-true)/true\n",
    "    return error"
   ]
  },
  {
   "cell_type": "code",
   "execution_count": 22,
   "metadata": {
    "ExecuteTime": {
     "end_time": "2018-09-19T14:58:19.092332Z",
     "start_time": "2018-09-19T14:58:19.083192Z"
    },
    "scrolled": true
   },
   "outputs": [
    {
     "name": "stdout",
     "output_type": "stream",
     "text": [
      "first error is  0.005037815259211947\n"
     ]
    }
   ],
   "source": [
    "f_first_sigma = first_sigma(a_light_data)\n",
    "f_first_error = truth_error(f_first_sigma, f_std)\n",
    "print('first error is ', f_first_error)"
   ]
  },
  {
   "cell_type": "code",
   "execution_count": 23,
   "metadata": {
    "ExecuteTime": {
     "end_time": "2018-09-19T14:58:20.119227Z",
     "start_time": "2018-09-19T14:58:20.114693Z"
    }
   },
   "outputs": [
    {
     "name": "stdout",
     "output_type": "stream",
     "text": [
      "8991146.178575996\n",
      "second error is  0.005037819018453159\n"
     ]
    }
   ],
   "source": [
    "f_sec_sigma = second_sigma(a_light_data)\n",
    "f_sec_error = truth_error(f_sec_sigma, f_std)\n",
    "print('second error is ', f_sec_error)"
   ]
  },
  {
   "cell_type": "code",
   "execution_count": 18,
   "metadata": {
    "ExecuteTime": {
     "end_time": "2018-09-19T14:53:20.147423Z",
     "start_time": "2018-09-19T14:53:20.138837Z"
    }
   },
   "outputs": [],
   "source": [
    "# Part B \n",
    "f_test_std = 1.\n",
    "a_seq_1 = np.random.normal(0.,f_test_std,2000)\n",
    "a_seq_2 = np.random.normal(1e7,f_test_std,2000)"
   ]
  },
  {
   "cell_type": "code",
   "execution_count": 19,
   "metadata": {
    "ExecuteTime": {
     "end_time": "2018-09-19T14:53:20.833054Z",
     "start_time": "2018-09-19T14:53:20.810609Z"
    }
   },
   "outputs": [
    {
     "name": "stdout",
     "output_type": "stream",
     "text": [
      "first error is  0.025166462677977064\n",
      "second error is  0.025166462677977508\n"
     ]
    }
   ],
   "source": [
    "f_seq_firstsig_1 = first_sigma(a_seq_1)\n",
    "f_seq_secsig_1 = second_sigma(a_seq_1)\n",
    "f_first_error_1 = truth_error(f_seq_firstsig_1, f_test_std)\n",
    "f_sec_error_1 = truth_error(f_seq_secsig_1, f_test_std)\n",
    "print('first error is ',f_first_error_1)\n",
    "print('second error is ',f_sec_error_1)\n"
   ]
  },
  {
   "cell_type": "code",
   "execution_count": 20,
   "metadata": {
    "ExecuteTime": {
     "end_time": "2018-09-19T14:53:42.876816Z",
     "start_time": "2018-09-19T14:53:42.858037Z"
    }
   },
   "outputs": [
    {
     "name": "stdout",
     "output_type": "stream",
     "text": [
      "first error is  0.021563866968776324\n",
      "second error is  0.11741859307784841\n"
     ]
    }
   ],
   "source": [
    "f_seq_firstsig_2 = first_sigma(a_seq_2)\n",
    "f_seq_secsig_2 = second_sigma(a_seq_2)\n",
    "f_first_error_2 = truth_error(f_seq_firstsig_2, f_test_std)\n",
    "f_sec_error_2 = truth_error(f_seq_secsig_2, f_test_std)\n",
    "print('first error is ',f_first_error_2)\n",
    "print('second error is ',f_sec_error_2)\n"
   ]
  },
  {
   "cell_type": "markdown",
   "metadata": {},
   "source": [
    "## Question 1c\n",
    "The large error in the second method comes from the massive numbers $\\sum_{i = 1}^{n} x_i^2 \\text{ and } n\\bar{x}^2$. When these numbers become too large, small decimal differences are lost in roundoff error. The easiest solution would probably be to scale them down and then reverse this scaling after they have been subtracted. "
   ]
  },
  {
   "cell_type": "code",
   "execution_count": null,
   "metadata": {},
   "outputs": [],
   "source": []
  }
 ],
 "metadata": {
  "kernelspec": {
   "display_name": "Python 3",
   "language": "python",
   "name": "python3"
  },
  "language_info": {
   "codemirror_mode": {
    "name": "ipython",
    "version": 3
   },
   "file_extension": ".py",
   "mimetype": "text/x-python",
   "name": "python",
   "nbconvert_exporter": "python",
   "pygments_lexer": "ipython3",
   "version": "3.6.5"
  },
  "varInspector": {
   "cols": {
    "lenName": 16,
    "lenType": 16,
    "lenVar": 40
   },
   "kernels_config": {
    "python": {
     "delete_cmd_postfix": "",
     "delete_cmd_prefix": "del ",
     "library": "var_list.py",
     "varRefreshCmd": "print(var_dic_list())"
    },
    "r": {
     "delete_cmd_postfix": ") ",
     "delete_cmd_prefix": "rm(",
     "library": "var_list.r",
     "varRefreshCmd": "cat(var_dic_list()) "
    }
   },
   "oldHeight": 294,
   "position": {
    "height": "40px",
    "left": "537px",
    "right": "102px",
    "top": "128px",
    "width": "672px"
   },
   "types_to_exclude": [
    "module",
    "function",
    "builtin_function_or_method",
    "instance",
    "_Feature"
   ],
   "varInspector_section_display": "none",
   "window_display": true
  }
 },
 "nbformat": 4,
 "nbformat_minor": 2
}
