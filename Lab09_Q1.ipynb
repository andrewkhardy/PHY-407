{
 "cells": [
  {
   "cell_type": "markdown",
   "metadata": {},
   "source": [
    "#### Question 9\n",
    "Consider the wave function of the form\n",
    "\\begin{equation}\n",
    "\\frac { \\partial ^ { 2 } \\phi } { \\partial t ^ { 2 } } = v ^ { 2 } \\frac { \\partial ^ { 2 } \\phi } { \\partial x ^ { 2 } }\n",
    "\\end{equation}\n",
    "This wave has the initial conditions that the string is fixed\n",
    "\\begin{equation}\n",
    "\\phi ( x = 0 , t ) = \\phi ( x = L , t ) = 0\n",
    "\\end{equation}\n",
    "with the additional restrictions on the displacement and velocity,written as\n",
    "\\begin{equation}\n",
    "\\phi _ { 0 } ( x ) = \\phi ( x , t = 0 ) , \\psi _ { 0 } ( x ) = \\psi ( x , t = 0 ) = \\frac { \\partial \\phi ( x , t = 0 ) } { \\partial t }\n",
    "\\end{equation}"
   ]
  },
  {
   "cell_type": "markdown",
   "metadata": {},
   "source": [
    "These initial conditions can be written as Fourier Sine Series\n",
    "\\begin{equation}\n",
    "\\phi _ { 0 } ( x ) = \\sum _ { k = 1 } ^ { \\infty } \\tilde { \\phi } _ { 0 , k } \\sin ( k \\pi x / L ) , \\psi _ { 0 } ( x ) = \\sum _ { k = 1 } ^ { \\infty } \\tilde { \\psi } _ { 0 , k } \\sin ( k \\pi x / L )\n",
    "\\end{equation}\n",
    "Now the wave function has a unique solution that consists of separation of variables\n",
    "\\begin{equation}\n",
    "\\phi( x , t ) = X ( x ) T ( t )\n",
    "\\end{equation}\n",
    "which allow us to solve two separate ODEs\n",
    "\\begin{equation}\n",
    "X ^ { \\prime \\prime } + \\beta ^ { 2 } X = 0 \\quad \\text { and } \\quad T ^ { \\prime \\prime } + v^ { 2 } \\beta ^ { 2 } T = 0\n",
    "\\end{equation}\n",
    "which have the solutions\n",
    "\\begin{equation}\n",
    "\\begin{aligned} X ( x ) & = C \\cos \\beta x + D \\sin \\beta x \\\\ T ( t ) & = A \\cos \\beta v t + B \\sin \\beta v t \\end{aligned}\n",
    "\\end{equation}\n",
    "Now given the initial boundary conditions, we arrive at the desired result\n",
    "\\begin{equation}\n",
    "\\phi ( x , t ) = \\sum _ { k = 1 } ^ { \\infty } \\sin ( k \\pi x / L ) \\left[ \\tilde { \\phi } _ { 0 , k } \\cos \\left( \\omega _ { k } t \\right) + \\frac { \\tilde { \\psi } _ { 0 , k } } { \\omega _ { k } } \\sin \\left( \\omega _ { k } t \\right) \\right]\n",
    "\\end{equation}\n",
    "where \n",
    "\\begin{equation}\n",
    "\\omega =  \\frac{\\pi v k}{L}\n",
    "\\end{equation}\n",
    "\n",
    "From this analytic solution, I can use the spectral method to arrive at my answer. \n",
    "The particular problem I am looking at is 9.5 from Newman, which gives an initial condition of \n",
    "\\begin{equation}\n",
    "\\phi(x) = C\\frac{x(L-x)}{L^2}\\text{exp}[-\\frac{(x-d)^2}{2\\sigma^2}]\n",
    "\\end{equation}\n",
    "and zero initial displacement, which mean the $\\cos$ term is zero."
   ]
  },
  {
   "cell_type": "code",
   "execution_count": 2,
   "metadata": {
    "ExecuteTime": {
     "end_time": "2018-11-16T15:14:48.738316Z",
     "start_time": "2018-11-16T15:14:48.689212Z"
    }
   },
   "outputs": [],
   "source": [
    "######################################################################\n",
    "#\n",
    "# Functions to perform fast discrete cosine and sine transforms and\n",
    "# their inverses in one and two dimensions.  These functions work by\n",
    "# wrapping the DFT function from numpy, rather than explicitly\n",
    "# performing the cosine and sine transforms themselves.  The sine\n",
    "# transforms take arrays whose first element is zero and return arrays\n",
    "# whose first element is also zero.  This differs from some other\n",
    "# implementations, which drop the first element, since it is always\n",
    "# zero.\n",
    "#\n",
    "#   dct(y): Type-II discrete cosine transform (DCT) of real data y\n",
    "#   idct(a): Type-II inverse DCT of a\n",
    "#   dct2(y): 2D DCT of 2D real array y\n",
    "#   idct2(a): 2D inverse DCT real array a\n",
    "#   dst(y): Type-I discrete sine transform (DST) of real data y\n",
    "#   idst(a): Type-I inverse DST of a\n",
    "#   dst2(y): 2D DST of 2D real array y\n",
    "#   idst2(a): 2D inverse DST real array a\n",
    "#\n",
    "# Written by Mark Newman <mejn@umich.edu>, June 24, 2011\n",
    "# You may use, share, or modify this file freely\n",
    "#\n",
    "######################################################################\n",
    "\n",
    "\n",
    "from numpy import empty,arange,exp,real,imag,pi\n",
    "from numpy.fft import rfft,irfft\n",
    "\n",
    "\n",
    "######################################################################\n",
    "# 1D DCT Type-II\n",
    "\n",
    "def dct(y):\n",
    "    N = len(y)\n",
    "    y2 = empty(2*N,float)\n",
    "    y2[:N] = y[:]\n",
    "    y2[N:] = y[::-1]\n",
    "\n",
    "    c = rfft(y2)\n",
    "    phi = exp(-1j*pi*arange(N)/(2*N))\n",
    "    return real(phi*c[:N])\n",
    "\n",
    "\n",
    "######################################################################\n",
    "# 1D inverse DCT Type-II\n",
    "\n",
    "def idct(a):\n",
    "    N = len(a)\n",
    "    c = empty(N+1,complex)\n",
    "\n",
    "    phi = exp(1j*pi*arange(N)/(2*N))\n",
    "    c[:N] = phi*a\n",
    "    c[N] = 0.0\n",
    "    return irfft(c)[:N]\n",
    "\n",
    "\n",
    "######################################################################\n",
    "# 2D DCT\n",
    "\n",
    "def dct2(y):\n",
    "    M = y.shape[0]\n",
    "    N = y.shape[1]\n",
    "    a = empty([M,N],float)\n",
    "    b = empty([M,N],float)\n",
    "\n",
    "    for i in range(M):\n",
    "        a[i,:] = dct(y[i,:])\n",
    "    for j in range(N):\n",
    "        b[:,j] = dct(a[:,j])\n",
    "\n",
    "    return b\n",
    "\n",
    "\n",
    "######################################################################\n",
    "# 2D inverse DCT\n",
    "\n",
    "def idct2(b):\n",
    "    M = b.shape[0]\n",
    "    N = b.shape[1]\n",
    "    a = empty([M,N],float)\n",
    "    y = empty([M,N],float)\n",
    "\n",
    "    for i in range(M):\n",
    "        a[i,:] = idct(b[i,:])\n",
    "    for j in range(N):\n",
    "        y[:,j] = idct(a[:,j])\n",
    "\n",
    "    return y\n",
    "\n",
    "\n",
    "######################################################################\n",
    "# 1D DST Type-I\n",
    "\n",
    "def dst(y):\n",
    "    N = len(y)\n",
    "    y2 = empty(2*N,float)\n",
    "    y2[0] = y2[N] = 0.0\n",
    "    y2[1:N] = y[1:]\n",
    "    y2[:N:-1] = -y[1:]\n",
    "    a = -imag(rfft(y2))[:N]\n",
    "    a[0] = 0.0\n",
    "\n",
    "    return a\n",
    "\n",
    "\n",
    "######################################################################\n",
    "# 1D inverse DST Type-I\n",
    "\n",
    "def idst(a):\n",
    "    N = len(a)\n",
    "    c = empty(N+1,complex)\n",
    "    c[0] = c[N] = 0.0\n",
    "    c[1:N] = -1j*a[1:]\n",
    "    y = irfft(c)[:N]\n",
    "    y[0] = 0.0\n",
    "\n",
    "    return y\n",
    "\n",
    "\n",
    "######################################################################\n",
    "# 2D DST\n",
    "\n",
    "def dst2(y):\n",
    "    M = y.shape[0]\n",
    "    N = y.shape[1]\n",
    "    a = empty([M,N],float)\n",
    "    b = empty([M,N],float)\n",
    "\n",
    "    for i in range(M):\n",
    "        a[i,:] = dst(y[i,:])\n",
    "    for j in range(N):\n",
    "        b[:,j] = dst(a[:,j])\n",
    "\n",
    "    return b\n",
    "\n",
    "\n",
    "######################################################################\n",
    "# 2D inverse DST\n",
    "\n",
    "def idst2(b):\n",
    "    M = b.shape[0]\n",
    "    N = b.shape[1]\n",
    "    a = empty([M,N],float)\n",
    "    y = empty([M,N],float)\n",
    "\n",
    "    for i in range(M):\n",
    "        a[i,:] = idst(b[i,:])\n",
    "    for j in range(N):\n",
    "        y[:,j] = idst(a[:,j])\n",
    "\n",
    "    return y\n"
   ]
  },
  {
   "cell_type": "code",
   "execution_count": 3,
   "metadata": {
    "ExecuteTime": {
     "end_time": "2018-11-16T15:14:49.611317Z",
     "start_time": "2018-11-16T15:14:49.096241Z"
    }
   },
   "outputs": [],
   "source": [
    "import numpy as np\n",
    "import matplotlib.pyplot as plt"
   ]
  },
  {
   "cell_type": "code",
   "execution_count": 4,
   "metadata": {
    "ExecuteTime": {
     "end_time": "2018-11-16T15:14:49.645757Z",
     "start_time": "2018-11-16T15:14:49.641644Z"
    }
   },
   "outputs": [],
   "source": [
    "# Defining Constants\n",
    "h = 10e-6  # time step\n",
    "L = 1   # Length of wire in metres\n",
    "v = 100 # velocity in m/s\n",
    "d = 0.1 # distance of hammer\n",
    "C = 1   # 1 m/s\n",
    "sigma = 0.3  # sigma in metres\n",
    "N = 100 # grid spacings\n",
    "a = L/N"
   ]
  },
  {
   "cell_type": "code",
   "execution_count": 9,
   "metadata": {
    "ExecuteTime": {
     "end_time": "2018-11-16T15:15:11.650561Z",
     "start_time": "2018-11-16T15:15:11.632977Z"
    }
   },
   "outputs": [],
   "source": [
    "\n",
    "iterations = np.array([2,4,6,12,100])/100.\n",
    "index = len(iterations)\n",
    "displacement = np.zeros([index,N+1],float)\n",
    "velocity = np.zeros([index,N+1],float)\n",
    "displacement_fourier_value = np.empty([index,N+1])\n",
    "x = np.linspace(0,L,N+1)\n",
    "velocity[0,:] = C * x*(L-x)/L**2*np.exp( -1*(x-d)**2/(2*sigma**2))\n",
    "coeff_num = 101"
   ]
  },
  {
   "cell_type": "code",
   "execution_count": 10,
   "metadata": {
    "ExecuteTime": {
     "end_time": "2018-11-16T15:15:12.024523Z",
     "start_time": "2018-11-16T15:15:12.016128Z"
    }
   },
   "outputs": [],
   "source": [
    "def frequency(k):\n",
    "    return (v*k*np.pi/L)"
   ]
  },
  {
   "cell_type": "code",
   "execution_count": 11,
   "metadata": {
    "ExecuteTime": {
     "end_time": "2018-11-16T15:15:12.516433Z",
     "start_time": "2018-11-16T15:15:12.451279Z"
    },
    "scrolled": true
   },
   "outputs": [],
   "source": [
    "for j in range(index):\n",
    "    displacement_fourier_value = np.empty(coeff_num)\n",
    "    for i in range(coeff_num):\n",
    "        coeff = dst(velocity[0,:])\n",
    "        displacement_fourier_value[i] = coeff[i]/frequency(i+1)*np.sin(frequency(i+1)*iterations[j])\n",
    "    displacement[j,:] = idst(displacement_fourier_value)"
   ]
  },
  {
   "cell_type": "code",
   "execution_count": 15,
   "metadata": {
    "ExecuteTime": {
     "end_time": "2018-11-16T15:29:34.701490Z",
     "start_time": "2018-11-16T15:29:34.252669Z"
    }
   },
   "outputs": [],
   "source": [
    "dt= 0.01\n",
    "old_iterations = int(dt/h)\n",
    "old_displacement = np.zeros([old_iterations,N+1],float)\n",
    "old_velocity = np.zeros([old_iterations,N+1],float)\n",
    "for i in range(old_iterations-1): # time iteration\n",
    "    for j in range(1,len(x)-1): # space iterations\n",
    "        old_displacement[i+1,j] = old_displacement[i,j] +  h*old_velocity[i,j]\n",
    "        old_velocity[i+1,j] = old_velocity[i,j] + \\\n",
    "        h*(v**2)/(a**2)*(old_displacement[i,j+1] + old_displacement[i,j-1] - 2*old_displacement[i,j])  "
   ]
  },
  {
   "cell_type": "code",
   "execution_count": 17,
   "metadata": {
    "ExecuteTime": {
     "end_time": "2018-11-16T15:30:31.505844Z",
     "start_time": "2018-11-16T15:30:31.492632Z"
    }
   },
   "outputs": [
    {
     "name": "stdout",
     "output_type": "stream",
     "text": [
      "0.06\n"
     ]
    }
   ],
   "source": [
    "print(iterations[2])"
   ]
  },
  {
   "cell_type": "code",
   "execution_count": 18,
   "metadata": {
    "ExecuteTime": {
     "end_time": "2018-11-16T15:30:48.721890Z",
     "start_time": "2018-11-16T15:30:48.008534Z"
    },
    "scrolled": true
   },
   "outputs": [
    {
     "data": {
      "image/png": "[encoded data removed]",
      "text/plain": [
       "<Figure size 432x288 with 1 Axes>"
      ]
     },
     "metadata": {},
     "output_type": "display_data"
    },
    {
     "data": {
      "image/png": "[encoded data removed]",
      "text/plain": [
       "<Figure size 432x288 with 1 Axes>"
      ]
     },
     "metadata": {},
     "output_type": "display_data"
    },
    {
     "data": {
      "image/png": "[encoded data removed]",
      "text/plain": [
       "<Figure size 432x288 with 1 Axes>"
      ]
     },
     "metadata": {},
     "output_type": "display_data"
    },
    {
     "data": {
      "image/png": "[encoded data removed]",
      "text/plain": [
       "<Figure size 432x288 with 1 Axes>"
      ]
     },
     "metadata": {},
     "output_type": "display_data"
    },
    {
     "data": {
      "image/png": "[encoded data removed]",
      "text/plain": [
       "<Figure size 432x288 with 1 Axes>"
      ]
     },
     "metadata": {},
     "output_type": "display_data"
    }
   ],
   "source": [
    "for j in range(index):\n",
    "    plt.plot(displacement[j,:])\n",
    "    plt.plot(old_displacement[np.int(iterations[j]*100),:])\n",
    "    plt.show()"
   ]
  }
 ],
 "metadata": {
  "kernelspec": {
   "display_name": "Python 3",
   "language": "python",
   "name": "python3"
  },
  "language_info": {
   "codemirror_mode": {
    "name": "ipython",
    "version": 3
   },
   "file_extension": ".py",
   "mimetype": "text/x-python",
   "name": "python",
   "nbconvert_exporter": "python",
   "pygments_lexer": "ipython3",
   "version": "3.6.5"
  },
  "varInspector": {
   "cols": {
    "lenName": 16,
    "lenType": 16,
    "lenVar": 40
   },
   "kernels_config": {
    "python": {
     "delete_cmd_postfix": "",
     "delete_cmd_prefix": "del ",
     "library": "var_list.py",
     "varRefreshCmd": "print(var_dic_list())"
    },
    "r": {
     "delete_cmd_postfix": ") ",
     "delete_cmd_prefix": "rm(",
     "library": "var_list.r",
     "varRefreshCmd": "cat(var_dic_list()) "
    }
   },
   "position": {
    "height": "874px",
    "left": "1550px",
    "right": "20px",
    "top": "120px",
    "width": "350px"
   },
   "types_to_exclude": [
    "module",
    "function",
    "builtin_function_or_method",
    "instance",
    "_Feature"
   ],
   "window_display": true
  }
 },
 "nbformat": 4,
 "nbformat_minor": 2
}
