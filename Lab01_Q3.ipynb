{
 "cells": [
  {
   "cell_type": "code",
   "execution_count": 1,
   "metadata": {},
   "outputs": [],
   "source": [
    "#import required packages\n",
    "import numpy as np #import numpy\n",
    "import matplotlib.pyplot as plt #import stuff for plotting\n",
    "import time \n",
    "import seaborn as sns\n",
    "sns.set()"
   ]
  },
  {
   "cell_type": "code",
   "execution_count": null,
   "metadata": {},
   "outputs": [],
   "source": [
    "# Problem 3 \n",
    "i_matrixsize = 200  # the  max matrix size\n",
    "a_time = np.empty(i_matrixsize) # empty array of time to be filled\n",
    "i_N = 2                         # initial matrix size \n",
    "for l in range(len(a_time)):\n",
    "    # creates the matrices\n",
    "    a_A = np.ones([i_N, i_N], float)*3\n",
    "    a_B = np.ones([i_N, i_N], float)*3\n",
    "    a_C = np.zeros([i_N,i_N],float)\n",
    "    f_start = time.time()               # begin timer\n",
    "    # forloop for matrix multiplication from Example 4.3 in Computational Physics by Mark Newman\n",
    "    for i in range(i_N):\n",
    "        for j in range(i_N):\n",
    "            for k in range(i_N):\n",
    "                a_C[i,j] += a_A[i,k]*a_B[k,j]\n",
    "    f_end = time.time()                 # end timer\n",
    "    a_time[l] = (f_end - f_start)       # fill array of times\n",
    "    i_N += 1                            # increase matrix size\n",
    "print(a_time)    "
   ]
  },
  {
   "cell_type": "code",
   "execution_count": null,
   "metadata": {},
   "outputs": [],
   "source": [
    "a_dottime = np.empty(i_matrixsize)     # empty array for times for different calculation method\n",
    "i_N = 2                                #  initial matrix size again\n",
    "for l in range(len(a_dottime)): \n",
    "    # generate matrices\n",
    "    a_A = np.ones([i_N, i_N], float)*3\n",
    "    a_B = np.ones([i_N, i_N], float)*3\n",
    "    a_C = np.zeros([i_N,i_N],float)\n",
    "    f_start = time.time()              # begin timer\n",
    "    a_C = np.dot(a_A,a_B)              # numpy package for matrix multiplication\n",
    "    f_end = time.time()                # begin timer\n",
    "    a_dottime[l] = (f_end - f_start) \n",
    "    i_N += 1                           # increase matrix size   \n",
    "print(a_dottime)"
   ]
  },
  {
   "cell_type": "code",
   "execution_count": null,
   "metadata": {},
   "outputs": [],
   "source": [
    "a_N = np.linspace(2,(i_matrixsize+2),num = i_matrixsize)\n",
    "print(len(a_N), len(a_time))\n",
    "plt.figure(figsize = (7,7))\n",
    "plt.scatter(a_N, a_time, color = 'c', s = 11, label = \"Newman Multiplication Technique\")\n",
    "plt.scatter(a_N, a_dottime, color = 'r',s = 8, label = \"Numpy Multiplication Technique\")\n",
    "plt.title('Time of Computation as  function of Matrix Size')\n",
    "plt.xlabel(\" NxN Matrix Size (N)\")\n",
    "plt.ylabel(\"Time (s)\")\n",
    "plt.legend()\n",
    "plt.show()"
   ]
  },
  {
   "cell_type": "code",
   "execution_count": null,
   "metadata": {},
   "outputs": [],
   "source": [
    "a_N_cubed = a_N**3\n",
    "plt.figure(figsize = (7,7))\n",
    "plt.scatter(a_N_cubed, a_time, color = 'c', s = 11, label = \"Newman Multiplication Technique\")\n",
    "plt.scatter(a_N_cubed, a_dottime, color = 'r', s = 11, label = \"Numpy Multiplication Technique\")\n",
    "plt.title('Time of Computation as  function of Matrix Size ^3')\n",
    "plt.xlabel(\" NxN Matrix Size (N^3)\")\n",
    "plt.ylabel(\"Time (s)\")\n",
    "plt.legend()\n",
    "plt.show()"
   ]
  },
  {
   "cell_type": "markdown",
   "metadata": {},
   "source": [
    "### Question 3\n",
    "We notice that the nested for-loops that Newman suggested scaled in computational time as $N^3$ which is what he describes in the section. You can see this in the linearization of the graph as a function of $ N^3 $. In comparison, the numpy.dot() function operates at a roughly constant speed"
   ]
  }
 ],
 "metadata": {
  "kernelspec": {
   "display_name": "Python 3",
   "language": "python",
   "name": "python3"
  },
  "language_info": {
   "codemirror_mode": {
    "name": "ipython",
    "version": 3
   },
   "file_extension": ".py",
   "mimetype": "text/x-python",
   "name": "python",
   "nbconvert_exporter": "python",
   "pygments_lexer": "ipython3",
   "version": "3.6.5"
  }
 },
 "nbformat": 4,
 "nbformat_minor": 2
}
