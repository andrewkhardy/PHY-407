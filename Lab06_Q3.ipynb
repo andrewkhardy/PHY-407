{
 "cells": [
  {
   "cell_type": "markdown",
   "metadata": {
    "ExecuteTime": {
     "end_time": "2018-10-17T13:08:09.561398Z",
     "start_time": "2018-10-17T13:08:09.536971Z"
    }
   },
   "source": [
    "# Q3\n",
    "Pseudocode:\n",
    "1. Define functions for x and y components of acceleration as found in part a) for each particle.\n",
    "2. Instantiate variables N = 1000 steps and h = 0.001 step size, as well as initial conditions for velocity components for each particle (in this case all 0).\n",
    "3. Definine initial conditions for position components as specified.\n",
    "4. Preallocate memory to an empty arrays of length N to later store x and y components for position and velocity for each particle.\n",
    "5. Store initial conditions for velocity and position components in the 0th index position of their respective arrays.\n",
    "6. Implement equations 8-11 component-wise from lab manual with acceleration components mentioned in step 1 as the components of $\\vec{f}$\n",
    "7. In a for-loop from 2 to N-1 (since we index from zero this corresponds to N iterations in total) update values for trajectory and velocity components according to the series of equations 8-11 in the lab manual (Verlet method) and store the values at each iteration in the appropriate array that we instantiated in step 4. \n"
   ]
  },
  {
   "cell_type": "code",
   "execution_count": null,
   "metadata": {},
   "outputs": [],
   "source": [
    "import numpy as np"
   ]
  },
  {
   "cell_type": "code",
   "execution_count": 2,
   "metadata": {
    "ExecuteTime": {
     "end_time": "2018-10-17T13:08:22.839650Z",
     "start_time": "2018-10-17T13:08:22.776569Z"
    }
   },
   "outputs": [],
   "source": [
    "def doVerlet(r1_xi, r1_yi, r2_xi, r2_yi):\n",
    "    '''\n",
    "    Function: DoVerlet: This function performs the Verlet algorithim \n",
    "    in order to calculate the position of two particles. \n",
    "    Input: The positions of the particles. \n",
    "    '''\n",
    "    \n",
    "    # acceleration\n",
    "    def f_ij(ui, uj, vi, vj):\n",
    "        '''\n",
    "        Function f_ij: Gives the acceleration experienced by particle i due to\n",
    "        Lennard-Jones potential wrt particle j. If u=x v=y then this gives the x component\n",
    "        of the acceleration, if u=y v=x then this gives y component of the acceleration. \n",
    "        '''\n",
    "        r = np.sqrt((uj- ui)**2 + (vj - vi)**2)  # separation distance\n",
    "        return 24 * (uj - ui) * r**(-8) * (2 * r**(-6) - 1)\n",
    "\n",
    "    N = 1000\n",
    "    h = 0.001\n",
    "\n",
    "    v1_xi = 0.0\n",
    "    v1_yi = 0.0\n",
    "    v2_xi = 0.0\n",
    "    v2_yi = 0.0\n",
    "\n",
    "    r1_x = np.empty(N)\n",
    "    r1_y = np.empty(N)\n",
    "    v1_x = np.empty(N)\n",
    "    v1_y = np.empty(N)\n",
    "    r2_x = np.empty(N)\n",
    "    r2_y = np.empty(N)\n",
    "    v2_x = np.empty(N)\n",
    "    v2_y = np.empty(N)\n",
    "    \n",
    "    v1_x[0] = v1_xi\n",
    "    v1_y[0] = v1_yi\n",
    "    v2_x[0] = v2_xi\n",
    "    v2_y[0] = v2_yi\n",
    "    r1_x[0] = r1_xi\n",
    "    r1_y[0] = r1_yi\n",
    "    r2_x[0] = r2_xi\n",
    "    r2_y[0] = r2_yi\n",
    "\n",
    "    #eq 7\n",
    "    #variables with _prep suffix get updated at each iteration and represent\n",
    "    #v(t+h/2) in Verlet algorithm (eq 8 - 11) in lab manual\n",
    "    v1_x_prep = v1_x[0] + 0.5 * h * a1_x(r1_xi, r2_xi,r1_yi, r2_yi)\n",
    "    v1_y_prep = v1_y[0] + 0.5 * h * a1_y(r1_xi, r2_xi,r1_yi, r2_yi)\n",
    "    v2_x_prep = v2_x[0] + 0.5 * h * a2_x(r1_xi, r2_xi,r1_yi, r2_yi)\n",
    "    v2_y_prep = v2_y[0] + 0.5 * h * a2_y(r1_xi, r2_xi,r1_yi, r2_yi)\n",
    "\n",
    "    for i in range(1,N):\n",
    "        #eq 8                                  \n",
    "        r1_x[i] = r1_x[i-1] + h * v1_x_prep\n",
    "        r1_y[i] = r1_y[i-1] + h * v1_y_prep\n",
    "        r2_x[i] = r2_x[i-1] + h * v2_x_prep\n",
    "        r2_y[i] = r2_y[i-1] + h * v2_y_prep\n",
    "        #eq 10\n",
    "        v1_x[i] = v1_x_prep + 0.5 * h * a1_x(r1_x[i], r2_x[i], r1_y[i], r2_y[i])\n",
    "        v1_x[i] = v1_y_prep + 0.5 * h * a1_x(r1_x[i], r2_x[i], r1_y[i], r2_y[i])\n",
    "        v2_x[i] = v2_x_prep + 0.5 * h * a2_x(r1_x[i], r2_x[i], r1_y[i], r2_y[i])                 \n",
    "        v2_y[i] = v2_y_prep + 0.5 * h * a2_y(r1_x[i], r2_x[i], r1_y[i], r2_y[i])\n",
    "        #eq 9 and 11 combined\n",
    "        v1_x_prep = v1_x_prep + h * a1_x(r1_x[i], r2_x[i], r1_y[i], r2_y[i])\n",
    "        v1_y_prep = v1_y_prep + h * a1_y(r1_x[i], r2_x[i], r1_y[i], r2_y[i])\n",
    "        v2_x_prep = v2_x_prep + h * a2_x(r1_x[i], r2_x[i], r1_y[i], r2_y[i])\n",
    "        v2_x_prep = v2_x_prep + h * a2_y(r1_x[i], r2_x[i], r1_y[i], r2_y[i])\n",
    "    t = np.linspace(0,h*(N-1),N)\n",
    "    return v1_x, v1_y, v2_x, v2_y, r1_x, r1_y, r2_x, r2_y, t"
   ]
  },
  {
   "cell_type": "code",
   "execution_count": null,
   "metadata": {},
   "outputs": [],
   "source": [
    "# Initial Conditions\n",
    "N = 16      # number of particles\n",
    "Lx = 4.0    # X component of momentum\n",
    "Ly = 4.0    # Y component of momentum\n",
    "dx = Lx/sqrt(N)\n",
    "dy = Ly/sqrt(N)\n",
    "x_grid = arange(dx/2, Lx, dx)\n",
    "y_grid = arange(dy/2, Ly, dy)\n",
    "xx_grid, yy_grid = meshgrid(x_grid, y_grid)\n",
    "x_initial = xx_grid.flatten()\n",
    "y_initial = yy_grid.flatten()"
   ]
  },
  {
   "cell_type": "code",
   "execution_count": 3,
   "metadata": {},
   "outputs": [
    {
     "name": "stdout",
     "output_type": "stream",
     "text": [
      "[[1 2]\n",
      " [3 4]]\n"
     ]
    }
   ],
   "source": [
    "import numpy as np\n",
    "\n",
    "print(np.array([[1,2],[3,4]]))"
   ]
  }
 ],
 "metadata": {
  "kernelspec": {
   "display_name": "Python 3",
   "language": "python",
   "name": "python3"
  },
  "language_info": {
   "codemirror_mode": {
    "name": "ipython",
    "version": 3
   },
   "file_extension": ".py",
   "mimetype": "text/x-python",
   "name": "python",
   "nbconvert_exporter": "python",
   "pygments_lexer": "ipython3",
   "version": "3.6.5"
  },
  "varInspector": {
   "cols": {
    "lenName": 16,
    "lenType": 16,
    "lenVar": 40
   },
   "kernels_config": {
    "python": {
     "delete_cmd_postfix": "",
     "delete_cmd_prefix": "del ",
     "library": "var_list.py",
     "varRefreshCmd": "print(var_dic_list())"
    },
    "r": {
     "delete_cmd_postfix": ") ",
     "delete_cmd_prefix": "rm(",
     "library": "var_list.r",
     "varRefreshCmd": "cat(var_dic_list()) "
    }
   },
   "types_to_exclude": [
    "module",
    "function",
    "builtin_function_or_method",
    "instance",
    "_Feature"
   ],
   "window_display": false
  }
 },
 "nbformat": 4,
 "nbformat_minor": 2
}
