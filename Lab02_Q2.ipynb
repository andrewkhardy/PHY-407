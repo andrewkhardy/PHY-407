{
 "cells": [
  {
   "cell_type": "code",
   "execution_count": 42,
   "metadata": {},
   "outputs": [],
   "source": [
    "#PART A\n",
    "#i) \n",
    "#import packages\n",
    "import numpy as np\n",
    "from scipy.special import erf"
   ]
  },
  {
   "cell_type": "code",
   "execution_count": 43,
   "metadata": {},
   "outputs": [],
   "source": [
    "#define a function for Trapezoid rule \n",
    "def Trapzzz(funktion, N, a, b):\n",
    "    \"\"\"\n",
    "    A function for performing numerical integration of the mathematical function denoted funktion according to \n",
    "    the trapezoid rule for N steps between a and b.\n",
    "    INPUT:\n",
    "    funktion [function handle of single variable] is the function whose integral is to be numerically approximated \n",
    "    N [int] number of steps\n",
    "    a [float] lower bound of integration\n",
    "    b [float] upper bound of integration\n",
    "    \"\"\"\n",
    "    h = (b-a)/N #width of slices\n",
    "    s = 0.5*funktion(a) + 0.5*funktion(b) #the constant terms in the series expansion defining the trapezoid rule as in equation 5.3 of Newman\n",
    "\n",
    "    for j in range(1,N):\n",
    "        s += funktion(a+j*h)\n",
    "        \n",
    "    the_integral = h*s\n",
    "    return the_integral\n",
    "\n",
    "#define a function for Simpson's rule\n",
    "def Simpson(funktion, N, a, b):\n",
    "    \"\"\"\n",
    "    A function for performing numerical integration of the mathematical funktion according to\n",
    "    Simpson's rule for N steps between a and b.\n",
    "    INPUT:\n",
    "    funktion [function handle of single variable] is the function whose integral is to be numerically approximated \n",
    "    N [int] number of steps\n",
    "    a [float] lower bound of integration\n",
    "    b [float] upper bound of integration\n",
    "    \"\"\"\n",
    "    h = (b-a)/N #width of slices\n",
    "    s = funktion(a) + funktion(b) #the constant terms in the series expansion defining the trapezoid rule as in equation 5.3 of Newman\n",
    "    \n",
    "    for k in range(1,N,2): #loop over odd terms\n",
    "        s += 4*funktion(a+k*h)\n",
    "    for k in range(2,N,2): #loop over even terms\n",
    "        s += 2*funktion(a+k*h)\n",
    "        \n",
    "    the_integral = h*s/3\n",
    "    return the_integral"
   ]
  },
  {
   "cell_type": "code",
   "execution_count": 44,
   "metadata": {},
   "outputs": [],
   "source": [
    "#define function to be integrated\n",
    "def the_fun(t):\n",
    "    return np.exp(-t**2)\n"
   ]
  },
  {
   "cell_type": "code",
   "execution_count": 45,
   "metadata": {},
   "outputs": [
    {
     "name": "stdout",
     "output_type": "stream",
     "text": [
      "The built-in error function from scipy.optimize evaluated at 3 yields: 0.9999779095030014\n",
      "Trapezoid approximation of erf(3) yields 0.9999719125941186, with relative error -5.9970413604346325e-06.\n",
      "Simpsons approximation of erf(3) yields 0.9999770112979359, with relative error -8.982249076706578e-07.\n"
     ]
    }
   ],
   "source": [
    "N = 10\n",
    "a = 0\n",
    "b = 3\n",
    "\n",
    "Trapezoid_integral_approx = Trapzzz(the_fun, N, a, b) #approximated integral using Trapezoid rule\n",
    "Simpson_integral_approx = Simpson(the_fun, N, a, b) #approximated integral using Simpson's rule\n",
    "\n",
    "def RelativeErr(accepted, measured):\n",
    "    return (measured-accepted)/accepted\n",
    "\n",
    "#the integrals above multiplied by 2/sqrt(pi) are an approximation of the error function erf(x) evaluated at x=3\n",
    "erf_Trapezoid_at_three = (2/np.sqrt(np.pi))*Trapezoid_integral_approx #erf(3) approximated by Trapezoid rule with N=10 steps\n",
    "\n",
    "erf_Simpson_at_three = (2/np.sqrt(np.pi))*Simpson_integral_approx #erf(3) approximated by Simpson's rule with N=10 steps\n",
    "\n",
    "erf_SCIpy_at_three = erf(3) #evaluating erf(3) using scipy's built in error function\n",
    "print('The built-in error function from scipy.optimize evaluated at 3 yields: {0}'.format(erf_SCIpy_at_three))\n",
    "\n",
    "err_Trapezoid_ten_steps = RelativeErr(erf_SCIpy_at_three, erf_Trapezoid_at_three) #relative error between Trapezoid approximation for N=10 steps and scipy's value\n",
    "print('Trapezoid approximation of erf(3) yields {0}, with relative error {1}.'.format(erf_Trapezoid_at_three, err_Trapezoid_ten_steps))\n",
    "\n",
    "err_Simpson_ten_steps = RelativeErr(erf_SCIpy_at_three, erf_Simpson_at_three) #relative error between Trapezoid approximation for N=10 steps and scipy's value\n",
    "print('Simpsons approximation of erf(3) yields {0}, with relative error {1}.'.format(erf_Simpson_at_three, err_Simpson_ten_steps))"
   ]
  },
  {
   "cell_type": "code",
   "execution_count": 46,
   "metadata": {},
   "outputs": [
    {
     "name": "stdout",
     "output_type": "stream",
     "text": [
      "Need order of 100000 steps to achieve relative error on order e-11 using Trapezoid rule.\n",
      "Need order of 10000 steps to achieve relative error on order e-11 using Simpson rule.\n"
     ]
    }
   ],
   "source": [
    "#ii) \n",
    "i = 0\n",
    "N_Trapezoid = 100\n",
    "err_Trapezoid = abs(err_Trapezoid_ten_steps)\n",
    "while err_Trapezoid>10**(-11):\n",
    "    integral_Trapezoid = Trapzzz(the_fun, N_Trapezoid, a, b)\n",
    "    erf_at_three_Trapezoid = (2/np.sqrt(np.pi))*integral_Trapezoid\n",
    "    err_Trapezoid = abs(RelativeErr(erf_SCIpy_at_three, erf_at_three_Trapezoid))\n",
    "    i += 1\n",
    "    N_Trapezoid *= 10\n",
    "    \n",
    "print('Need order of {0} steps to achieve relative error on order e-11 using Trapezoid rule.'.format(N_Trapezoid))\n",
    "\n",
    "i = 0\n",
    "N_Simpson = 100\n",
    "err_Simpson = abs(err_Simpson_ten_steps)\n",
    "while err_Simpson>10**(-11):\n",
    "    integral_Simpsons = Simpson(the_fun, N_Simpson, a, b)\n",
    "    erf_at_three_Simpsons = (2/np.sqrt(np.pi))*integral_Simpsons\n",
    "    err_Simpson = abs(RelativeErr(erf_SCIpy_at_three, erf_at_three_Simpsons))\n",
    "    i += 1\n",
    "    N_Simpson *= 10\n",
    "    \n",
    "print('Need order of {0} steps to achieve relative error on order e-11 using Simpson rule.'.format(N_Simpson))\n"
   ]
  },
  {
   "cell_type": "code",
   "execution_count": 47,
   "metadata": {},
   "outputs": [
    {
     "name": "stdout",
     "output_type": "stream",
     "text": [
      "Trapezoid rule with 100000 steps took 0.17505145072937012s to compute erf(3).\n",
      "Simpsons rule with 10000 steps took 0.02094268798828125s to compute erf(3).\n",
      "erf function in scipy.optimize took 0.00000000000000000000s to compute erf(3).\n"
     ]
    }
   ],
   "source": [
    "#timing Trapezoid, and Simpsons computation with N s.t. order e-11 relative error to scipy value, and timing scipy computation\n",
    "import time\n",
    "\n",
    "start_Trapezoid = time.time()\n",
    "erf_at_three_Trapezoid_small_err = (2/np.sqrt(np.pi))*Trapzzz(the_fun, N_Trapezoid, a, b)\n",
    "end_Trapezoid = time.time()\n",
    "time_Trapezoid = end_Trapezoid - start_Trapezoid\n",
    "print('Trapezoid rule with {0} steps took {1}s to compute erf(3).'.format(N_Trapezoid, time_Trapezoid))\n",
    "\n",
    "start_Simpsons = time.time()\n",
    "erf_at_three_Simpsons_small_err = (2/np.sqrt(np.pi))*Simpson(the_fun, N_Simpson, a, b)\n",
    "end_Simpsons = time.time()\n",
    "time_Simpsons = end_Simpsons - start_Simpsons\n",
    "print('Simpsons rule with {0} steps took {1}s to compute erf(3).'.format(N_Simpson,time_Simpsons))\n",
    "\n",
    "start_Scipy = time.time()\n",
    "erf_at_three_Scipy = erf(3)\n",
    "end_Scipy = time.time()\n",
    "time_Scipy = end_Scipy - start_Scipy\n",
    "print('erf function in scipy.optimize took {0:.20f}s to compute erf(3).'.format(time_Scipy))"
   ]
  },
  {
   "cell_type": "code",
   "execution_count": 48,
   "metadata": {},
   "outputs": [
    {
     "name": "stdout",
     "output_type": "stream",
     "text": [
      "The practical error estimation as in Newman 5.2.1 for Trapezoid rule in this case gives: 1.4825790867941298e-06.\n",
      "The practical error estimation as in Newman 5.2.1 for Simpsons rule in this case gives: 5.544083530040211e-08.\n"
     ]
    }
   ],
   "source": [
    "#iii)\n",
    "# to estimate the error we need the value of the integral approximation N steps and 2*N steps.\n",
    "# we already have the value for N=10 steps from previous steps, so we just need to compute for 2*N=20 steps\n",
    "N2 = 2*N\n",
    "Trapezoid_integral_approx_N_doubled = Trapzzz(the_fun, N2, a, b) #approximated integral using Trapezoid rule with N doubled\n",
    "Simpson_integral_approx_N_doubled = Simpson(the_fun, N2, a, b) #approximated integral using Simpson's rule with N doubled\n",
    "\n",
    "erf_Trapezoid_at_three_N_doubled = (2/np.sqrt(np.pi))*Trapezoid_integral_approx_N_doubled\n",
    "erf_Simpson_at_three_N_doubled = (2/np.sqrt(np.pi))*Simpson_integral_approx_N_doubled\n",
    "\n",
    "practical_err_est_Trapezoid = (erf_Trapezoid_at_three_N_doubled - erf_Trapezoid_at_three)/3\n",
    "practical_err_est_Simpson = (erf_Simpson_at_three_N_doubled - erf_Simpson_at_three)/15\n",
    "\n",
    "print('The practical error estimation as in Newman 5.2.1 for Trapezoid rule in this case gives: {0}.'.format(practical_err_est_Trapezoid))\n",
    "print('The practical error estimation as in Newman 5.2.1 for Simpsons rule in this case gives: {0}.'.format(practical_err_est_Simpson))"
   ]
  },
  {
   "cell_type": "code",
   "execution_count": 49,
   "metadata": {},
   "outputs": [
    {
     "name": "stdout",
     "output_type": "stream",
     "text": [
      "Euler-Maclaurin error estimation for Trapezoid rule in this case gives: 0.0021154498388316857\n",
      "Euler-Maclaurin error estimation for Simpsons rule in this case gives: -1.2720897776009332e-05\n"
     ]
    }
   ],
   "source": [
    "#iv)\n",
    "#We ought to use N=10 to compute the h in Euler-Maclaurin error formula in order to compare it to 'practical error estimation' in part iii)\n",
    "def first_derivative_of_erf(x):\n",
    "    return (2/np.sqrt(np.pi))*np.exp(-x**2)\n",
    "\n",
    "def third_derivative_of_erf(x):\n",
    "    return (4/np.sqrt(np.pi))*np.exp(-x**2)*(2*x**2 - 1)\n",
    "\n",
    "h = (b-a)/20 #a, b, N already defined to be 0, 3, and 10 respectively from part i) as desired here as well. No use re-defining\n",
    "\n",
    "euler_mac_err_Trapezoid = (h**2)*(first_derivative_of_erf(a) - first_derivative_of_erf(b))/12\n",
    "euler_mac_err_Simpson = (h**4)*(third_derivative_of_erf(a) - third_derivative_of_erf(b))/90\n",
    "\n",
    "print('Euler-Maclaurin error estimation for Trapezoid rule in this case gives: {0}'.format(euler_mac_err_Trapezoid))\n",
    "print('Euler-Maclaurin error estimation for Simpsons rule in this case gives: {0}'.format(euler_mac_err_Simpson))"
   ]
  },
  {
   "cell_type": "code",
   "execution_count": null,
   "metadata": {},
   "outputs": [],
   "source": []
  }
 ],
 "metadata": {
  "kernelspec": {
   "display_name": "Python 3",
   "language": "python",
   "name": "python3"
  },
  "language_info": {
   "codemirror_mode": {
    "name": "ipython",
    "version": 3
   },
   "file_extension": ".py",
   "mimetype": "text/x-python",
   "name": "python",
   "nbconvert_exporter": "python",
   "pygments_lexer": "ipython3",
   "version": "3.6.5"
  },
  "varInspector": {
   "cols": {
    "lenName": 16,
    "lenType": 16,
    "lenVar": 40
   },
   "kernels_config": {
    "python": {
     "delete_cmd_postfix": "",
     "delete_cmd_prefix": "del ",
     "library": "var_list.py",
     "varRefreshCmd": "print(var_dic_list())"
    },
    "r": {
     "delete_cmd_postfix": ") ",
     "delete_cmd_prefix": "rm(",
     "library": "var_list.r",
     "varRefreshCmd": "cat(var_dic_list()) "
    }
   },
   "types_to_exclude": [
    "module",
    "function",
    "builtin_function_or_method",
    "instance",
    "_Feature"
   ],
   "window_display": false
  }
 },
 "nbformat": 4,
 "nbformat_minor": 2
}
