{
 "cells": [
  {
   "cell_type": "markdown",
   "metadata": {},
   "source": [
    "# Question 2: Trapezoidal and Simpson's rules for integration and their errors\n",
    "## Part a: Evaluating the error function and the error incurred using two numerical integration methods\n",
    "The error function is defined as follows:\n",
    "\\begin{equation}\n",
    "    \\mathrm{erf}(x) = \\frac{2}{\\sqrt{\\pi}} \\int_0^x e^{-t^2}\\mathrm{d}t\n",
    "\\end{equation}\n",
    "We will be looking to evaluate the error function at $x = 3$. Mathematically, we will be evaluating the integral:\n",
    "\\begin{equation}\n",
    "    \\mathrm{erf}(3) = \\frac{2}{\\sqrt{\\pi}} \\int_0^3 e^{-t^2}\\mathrm{d}t\n",
    "\\end{equation}\n",
    "### i) Evaluate $\\mathrm{erf}(3)$ using Trapezoid rule and Simpson's rule both for $N=10$ steps and compare their results with scipy's value."
   ]
  },
  {
   "cell_type": "code",
   "execution_count": 1,
   "metadata": {
    "ExecuteTime": {
     "end_time": "2018-09-21T14:32:37.769640Z",
     "start_time": "2018-09-21T14:32:37.648483Z"
    }
   },
   "outputs": [],
   "source": [
    "#PART A\n",
    "#i) \n",
    "#import packages\n",
    "import numpy as np\n",
    "from scipy.special import erf"
   ]
  },
  {
   "cell_type": "code",
   "execution_count": 2,
   "metadata": {
    "ExecuteTime": {
     "end_time": "2018-09-21T14:32:38.109332Z",
     "start_time": "2018-09-21T14:32:38.087491Z"
    }
   },
   "outputs": [],
   "source": [
    "#define a function for Trapezoid rule \n",
    "def Trapzzz(funktion, N, a, b):\n",
    "    \"\"\"\n",
    "    A function for performing numerical integration of the mathematical function denoted funktion according to \n",
    "    the trapezoid rule for N steps between a and b.\n",
    "    INPUT:\n",
    "    funktion [function handle of single variable] is the function whose integral is to be numerically approximated \n",
    "    N [int] number of steps\n",
    "    a [float] lower bound of integration\n",
    "    b [float] upper bound of integration\n",
    "    \"\"\"\n",
    "    h = (b-a)/N #width of slices\n",
    "    s = 0.5*funktion(a) + 0.5*funktion(b) #the constant terms in the series expansion defining the trapezoid rule as in equation 5.3 of Newman\n",
    "\n",
    "    for j in range(1,N):\n",
    "        s += funktion(a+j*h)\n",
    "        \n",
    "    the_integral = h*s\n",
    "    return the_integral\n",
    "\n",
    "#define a function for Simpson's rule\n",
    "def Simpson(funktion, N, a, b):\n",
    "    \"\"\"\n",
    "    A function for performing numerical integration of the mathematical funktion according to\n",
    "    Simpson's rule for N steps between a and b.\n",
    "    INPUT:\n",
    "    funktion [function handle of single variable] is the function whose integral is to be numerically approximated \n",
    "    N [int] number of steps\n",
    "    a [float] lower bound of integration\n",
    "    b [float] upper bound of integration\n",
    "    \"\"\"\n",
    "    h = (b-a)/N #width of slices\n",
    "    s = funktion(a) + funktion(b) #the constant terms in the series expansion defining the trapezoid rule as in equation 5.3 of Newman\n",
    "    \n",
    "    for k in range(1,N,2): #loop over odd terms\n",
    "        s += 4*funktion(a+k*h)\n",
    "    for k in range(2,N,2): #loop over even terms\n",
    "        s += 2*funktion(a+k*h)\n",
    "        \n",
    "    the_integral = h*s/3\n",
    "    return the_integral"
   ]
  },
  {
   "cell_type": "code",
   "execution_count": 3,
   "metadata": {
    "ExecuteTime": {
     "end_time": "2018-09-21T14:32:38.549685Z",
     "start_time": "2018-09-21T14:32:38.542732Z"
    }
   },
   "outputs": [],
   "source": [
    "#define function to be integrated\n",
    "def the_fun(t):\n",
    "    return np.exp(-t**2)\n"
   ]
  },
  {
   "cell_type": "code",
   "execution_count": 21,
   "metadata": {
    "ExecuteTime": {
     "end_time": "2018-09-21T14:41:09.934238Z",
     "start_time": "2018-09-21T14:41:09.906275Z"
    }
   },
   "outputs": [
    {
     "name": "stdout",
     "output_type": "stream",
     "text": [
      "The built-in error function from scipy.optimize evaluated at 3 yields: 0.9999779095030014\n",
      "Trapezoid approximation of erf(3) yields 0.9999719125941186, with relative error to scipy value of -5.9970413604346325e-06.\n",
      "Simpsons approximation of erf(3) yields 0.9999770112979359, with relative error to scipy value of -8.982249076706578e-07.\n"
     ]
    }
   ],
   "source": [
    "#define number of steps N, LB a, and UB b\n",
    "N = 10\n",
    "a = 0\n",
    "b = 3\n",
    "\n",
    "#a function for evaluating relative error\n",
    "def RelativeErr(accepted, measured):\n",
    "    return (measured-accepted)/accepted\n",
    "\n",
    "#the integrals above multiplied by 2/sqrt(pi) are an approximation of the error function erf(x) evaluated at x=3, by definition\n",
    "erf_Trapezoid = (2/np.sqrt(np.pi))*Trapzzz(the_fun, N, a, b) #erf(3) approximated by Trapezoid rule with N=10 steps\n",
    "\n",
    "erf_Simpson = (2/np.sqrt(np.pi))*Simpson(the_fun, N, a, b) #erf(3) approximated by Simpson's rule with N=10 steps\n",
    "\n",
    "erf_SCIpy = erf(3) #evaluating erf(3) using scipy's built in error function\n",
    "print('The built-in error function from scipy.optimize evaluated at 3 yields: {0}'.format(erf_SCIpy))\n",
    "\n",
    "err_Trapezoid_10 = RelativeErr(erf_SCIpy, erf_Trapezoid) #relative error between Trapezoid approximation for N=10 steps and scipy's value\n",
    "print('Trapezoid approximation of erf(3) yields {0}, with relative error to scipy value of {1}.'.format(erf_Trapezoid, err_Trapezoid_10))\n",
    "\n",
    "err_Simpson_10 = RelativeErr(erf_SCIpy, erf_Simpson) #relative error between Trapezoid approximation for N=10 steps and scipy's value\n",
    "print('Simpsons approximation of erf(3) yields {0}, with relative error to scipy value of {1}.'.format(erf_Simpson, err_Simpson_10))"
   ]
  },
  {
   "cell_type": "markdown",
   "metadata": {},
   "source": [
    "Note: the float values depicted below were intentionally not formatted to a lesser number of 'significant figures' in order to depict the agreeances of the numerical approximations with scipys value up to a certain number of digits. In particular, it can be observed that the Trapezoid rule produced an approximation accurate with scipy's value up to 5 decimals places, and Simpson's rule produced an approximation accurate with scipy's value up to 6 digits. These are excellent degrees of accuracy for most practical applications, whih is remarkable for integrating with only 10 steps!\n",
    "\n",
    "### ii) How many steps $N$ do we need for each method of Trapezoid rule and Simpson's rule integration to achieve relative error to scipy's value of order $10^{-11}$?\n",
    "Since we are only looking for an order of magnitude we can evaluate the integrals for each method for different values of $N$ incrementing by factors of 10. This will save us on computation time in comparison to computing the integral approximations for increments of $1$ each step. "
   ]
  },
  {
   "cell_type": "code",
   "execution_count": 22,
   "metadata": {
    "ExecuteTime": {
     "end_time": "2018-09-21T14:41:10.804389Z",
     "start_time": "2018-09-21T14:41:10.700717Z"
    }
   },
   "outputs": [
    {
     "name": "stdout",
     "output_type": "stream",
     "text": [
      "Need order of 10000 steps to achieve relative error on order e-11 using Trapezoid rule.\n",
      "Need order of 1000 steps to achieve relative error on order e-11 using Simpson rule.\n"
     ]
    }
   ],
   "source": [
    "#ii)  \n",
    "N_Trapezoid = 10 #starting value for N. We already approximated the integral for N=10, so as soon as we enter the while loop N will be incrememnted to 100 (factor of 10 increment)\n",
    "err_Trapezoid_new = abs(err_Trapezoid_10) #initial value for relative error for trapezoid method from N=10 approximation to enter the while loop\n",
    "while err_Trapezoid_new>10**(-11): #we will keep computing the integral approximation and relative error for values of N incrementing by factors of 10 untill our error no longer exceeds our desired order of e-11\n",
    "    N_Trapezoid *= 10 #increment N by a factor of 10\n",
    "    erf_Trapezoid_new = (2/np.sqrt(np.pi))*Trapzzz(the_fun, N_Trapezoid, a, b) #integral approx and conversion to erf value by multiplication by 2/sqrt(pi)\n",
    "    err_Trapezoid_new = abs(RelativeErr(erf_SCIpy, erf_Trapezoid_new)) #simple relative error estimation in absolute value (only care about magnitiude right now)\n",
    "    \n",
    "print('Need order of {0} steps to achieve relative error on order e-11 using Trapezoid rule.'.format(N_Trapezoid))\n",
    "#below we repeat the same process as for Trapezoid rule for Simpson's rule. All of the comments above hold.\n",
    "N_Simpson = 10\n",
    "err_Simpson_new = abs(err_Simpson_10)\n",
    "while err_Simpson_new>10**(-11):\n",
    "    N_Simpson *= 10\n",
    "    erf_Simpson_new = (2/np.sqrt(np.pi))*Simpson(the_fun, N_Simpson, a, b)\n",
    "    err_Simpson_new = abs(RelativeErr(erf_SCIpy, erf_Simpson_new))\n",
    "    \n",
    "print('Need order of {0} steps to achieve relative error on order e-11 using Simpson rule.'.format(N_Simpson))"
   ]
  },
  {
   "cell_type": "markdown",
   "metadata": {},
   "source": [
    "From this simple analysis, we see that we need order of $10,000$ steps for Trapezoid rule to produce a relative error to scipy's value on order or $10^{-11}$, and Simpson's rule requires an order of magnitude less steps (i.e. $1,000$) steps to achieve an error of the same order. This is not surprising since the integrand $e^{-x^2}$ is a well-behaved function and Simpson's rule is a higher order (2nd order) approximation that Trapezoid rule (1st order).\n",
    "\n",
    "Below we complete the second part of Question 2 Part a: iii) being to time how long the computations take for this many steps, as well as how long scipy.special.erf(3) takes to produce a result. We will simply use the crude time estimation method of Python's time package. "
   ]
  },
  {
   "cell_type": "code",
   "execution_count": 23,
   "metadata": {
    "ExecuteTime": {
     "end_time": "2018-09-21T14:41:13.121165Z",
     "start_time": "2018-09-21T14:41:11.500038Z"
    },
    "scrolled": true
   },
   "outputs": [
    {
     "name": "stdout",
     "output_type": "stream",
     "text": [
      "Trapezoid rule with 10000 steps took an average time of 1.43267E-02s to compute erf(3) with standard dev. of 5.50948E-03.\n",
      "Simpsons rule with 1000 steps took an average time of 1.67371E-03s to compute erf(3) with standard dev. of 6.54308E-04.\n",
      "erf function in scipy.optimize took an average time of 3.25441E-06s to compute erf(3) with standard dev. of 2.57125E-06.\n"
     ]
    }
   ],
   "source": [
    "#timing Trapezoid, and Simpsons computation with N s.t. order e-11 relative error to scipy value, and timing scipy computation\n",
    "import time\n",
    "\n",
    "steps = 100\n",
    "time_Trapezoid = np.empty(100)\n",
    "time_Simpsons = np.empty(100)\n",
    "time_Scipy = np.empty(100)\n",
    "\n",
    "for i in range(steps): #since these computations are fast, we'll time them a bunch of times and take an average\n",
    "    start_Trapezoid = time.time() #start time\n",
    "    erf_Trapezoid_small_err = (2/np.sqrt(np.pi))*Trapzzz(the_fun, N_Trapezoid, a, b) #compute erf(3) using trapezoid rule and N=10000 steps\n",
    "    end_Trapezoid = time.time() #end time\n",
    "    time_Trapezoid[i] = end_Trapezoid - start_Trapezoid #difference in start and end time gives an estimate of computation time\n",
    "\n",
    "    start_Simpsons = time.time() #start time\n",
    "    erf_Simpsons_small_err = (2/np.sqrt(np.pi))*Simpson(the_fun, N_Simpson, a, b) #compute erf(3) using Simpson's rule and N=1000 steps\n",
    "    end_Simpsons = time.time() #end time\n",
    "    time_Simpsons[i] = end_Simpsons - start_Simpsons #difference in start and end time gives an estimate of computation time\n",
    "\n",
    "    start_Scipy = time.time() #start time\n",
    "    erf_Scipy = erf(3) #reurn erf(3) using scipy's error function function\n",
    "    end_Scipy = time.time() #end time\n",
    "    time_Scipy[i] = end_Scipy - start_Scipy #difference in start and end time gives an estimate of computation time\n",
    "\n",
    "avg_time_Trapezoid = np.mean(time_Trapezoid)\n",
    "avg_time_Simpsons = np.mean(time_Simpsons)\n",
    "avg_time_Scipy = np.mean(time_Scipy)\n",
    "stdv_time_Trapezoid = np.std(time_Trapezoid)\n",
    "stdv_time_Simpsons = np.std(time_Simpsons)\n",
    "stdv_time_Scipy = np.std(time_Scipy)\n",
    "\n",
    "print('Trapezoid rule with {0} steps took an average time of {1:.5E}s to compute erf(3) with standard dev. of {2:.5E}.'.format(N_Trapezoid, avg_time_Trapezoid, stdv_time_Trapezoid))\n",
    "print('Simpsons rule with {0} steps took an average time of {1:.5E}s to compute erf(3) with standard dev. of {2:.5E}.'.format(N_Simpson, avg_time_Simpsons, stdv_time_Simpsons))\n",
    "print('erf function in scipy.optimize took an average time of {0:.5E}s to compute erf(3) with standard dev. of {1:.5E}.'.format(avg_time_Scipy, stdv_time_Scipy))\n",
    "\n",
    "\n",
    "\n"
   ]
  },
  {
   "cell_type": "markdown",
   "metadata": {},
   "source": [
    "We can see from the above print-outs that scipy's error function function runs much faster than both Simpson's and Trapezoid rule for numerical approximation of the error function evaluated for $x=3$. In particular, it runs 2 orders of magnitude faster than Simpson's and 3 orders of magnitude faster than Trapezoid rule. Also, interestingly, Trapezoid rule is an order of magnitude slower than Simpson's when run for an order of magnitude more steps (as required to reach the desired accuracy in this case).\n",
    "\n",
    "### iii) Use Newman's practical estimation of errors method to evaluate the error in Trapezoid and Simpons method for this numerical integration task\n",
    "In section 5.2.1 Newman describes a method for practical error estimation of error when employing Trapezoid and Simpson's rule for numerical integration. This method is particular useful when the integrad is not representable as an analytical function, since Euler-Maclaurin error estimation is no longer feasible if we cannot compute the derivatives of the integrand (Trapezoid required the first derivative and Simpson's requires the third derivative for Euler-Maclaurin error estimation). \n",
    "\n",
    "Below are the formulas for practical error estimation. Notation: $I_1$ is the integral approximated using the given method (Trapezoid or Simpson's) for $N_1$ steps, $I_2$ is the integral estimated using the same method for $N_2 = 2N_1$ steps.\n",
    "1) Practical error estimation for Trapezoid rule:\n",
    "\\begin{equation}\n",
    "    \\epsilon_2 = \\frac{1}{3}(I_2 - I_1)\n",
    "\\end{equation}\n",
    "2) Practical error estimation for Simpson's rule:\n",
    "\\begin{equation}\n",
    "    \\epsilon_2 = \\frac{1}{15}(I_2 - I_1)\n",
    "\\end{equation}\n",
    "Note: we denote these with a subscript $2$ because they represent the error on the second estimate, $I_2$."
   ]
  },
  {
   "cell_type": "code",
   "execution_count": 24,
   "metadata": {
    "ExecuteTime": {
     "end_time": "2018-09-21T14:41:13.148410Z",
     "start_time": "2018-09-21T14:41:13.136849Z"
    },
    "scrolled": false
   },
   "outputs": [
    {
     "name": "stdout",
     "output_type": "stream",
     "text": [
      "0.9999719125941186 0.9999770112979359 values for 10 steps\n",
      "0.999956616482667 0.9992118063402974 values for 5 steps\n",
      "0.9999779095030014 true values\n",
      "The practical error estimation as in Newman 5.2.1 for Trapezoid rule in this case gives: 5.099E-06.\n",
      "The practical error estimation as in Newman 5.2.1 for Simpsons rule in this case gives: 5.101E-05.\n"
     ]
    }
   ],
   "source": [
    "#iii)\n",
    "# to estimate the error we need the value of the integral approximation N steps and 2*N steps.\n",
    "# we already have the value for N=10 steps from previous steps, so we just need to compute for 2*N=20 steps\n",
    "N1 = N//2 #we want the error of approximation for N=10 therefore N2=10 and we want N1 to be half of that so that N2=2N1 as required. (see above markdown cell)\n",
    "#N2 = N (dont need to define this, but just denoting it for the readers understanding)\n",
    "\n",
    "erf_Trapezoid_1 = (2/np.sqrt(np.pi))*Trapzzz(the_fun, N1, a, b) #approximated erf(3) using Trapezoid rule with N halved\n",
    "erf_Simpson_1 = (2/np.sqrt(np.pi))*Simpson(the_fun, N1, a, b) #approximated erf(3) using Simpson's rule with N halved\n",
    "\n",
    "erf_Trapezoid_2 = erf_Trapezoid #just changing the name for code readablility. This is the value of erf(3) computed for N2=10\n",
    "erf_Simpson_2 = erf_Simpson\n",
    "practical_err_est_Trapezoid = abs((erf_Trapezoid_2 - erf_Trapezoid_1)/3)\n",
    "practical_err_est_Simpson = abs((erf_Simpson_2 - erf_Simpson_1)/15)\n",
    "print(erf_Trapezoid_2, erf_Simpson_2, 'values for 10 steps')\n",
    "print(erf_Trapezoid_1, erf_Simpson_1, \"values for 5 steps\")\n",
    "print(erf(3), 'true values')\n",
    "\n",
    "print('The practical error estimation as in Newman 5.2.1 for Trapezoid rule in this case gives: {0:.3E}.'.format(practical_err_est_Trapezoid))\n",
    "print('The practical error estimation as in Newman 5.2.1 for Simpsons rule in this case gives: {0:.3E}.'.format(practical_err_est_Simpson))\n",
    "\n"
   ]
  },
  {
   "cell_type": "markdown",
   "metadata": {},
   "source": [
    "### iv)\n",
    "Now we will compute Euler-Maclaurin error estimates according to the following two formulas from Newman:\n",
    "1) For Trapezoid rule, Euler-Maclaurin error is given by:\n",
    "\\begin{equation}\n",
    "    \\epsilon = \\frac{1}{15}(f'(a) - f'(b))\n",
    "\\end{equation}\n",
    "2) For Simpson's rule, Euler-Maclaurin error is given by:\n",
    "\\begin{equation}\n",
    "    \\epsilon = \\frac{1}{180}(f'''(a) - f'''(b))\n",
    "\\end{equation}"
   ]
  },
  {
   "cell_type": "code",
   "execution_count": 25,
   "metadata": {
    "ExecuteTime": {
     "end_time": "2018-09-21T14:41:13.180063Z",
     "start_time": "2018-09-21T14:41:13.169583Z"
    }
   },
   "outputs": [
    {
     "name": "stdout",
     "output_type": "stream",
     "text": [
      "Euler-Maclaurin error estimation for Trapezoid rule in this case gives: 8.462E-03\n",
      "Euler-Maclaurin error estimation for Simpsons rule in this case gives: 1.018E-04\n"
     ]
    }
   ],
   "source": [
    "#iv)\n",
    "#We ought to use N=10 to compute the h in Euler-Maclaurin error formula in order to compare it to 'practical error estimation' in part iii)\n",
    "def first_derivative_of_erf(x):\n",
    "    return (2/np.sqrt(np.pi))*np.exp(-x**2)\n",
    "\n",
    "def third_derivative_of_erf(x):\n",
    "    return (np.exp(-x**2)/np.sqrt(np.pi))*(8*x**2 - 4)\n",
    "\n",
    "h = (b-a)/N #a, b, N already defined to be 0, 3, and 10 respectively from part i) as desired here as well. No use re-defining\n",
    "\n",
    "euler_mac_err_Trapezoid = abs((h**2)*(first_derivative_of_erf(a) - first_derivative_of_erf(b))/12)\n",
    "euler_mac_err_Simpson = abs((h**4)*(third_derivative_of_erf(a) - third_derivative_of_erf(b))/180)\n",
    "\n",
    "print('Euler-Maclaurin error estimation for Trapezoid rule in this case gives: {0:.3E}'.format(euler_mac_err_Trapezoid))\n",
    "print('Euler-Maclaurin error estimation for Simpsons rule in this case gives: {0:.3E}'.format(euler_mac_err_Simpson))"
   ]
  },
  {
   "cell_type": "markdown",
   "metadata": {},
   "source": [
    "For $N = N_1 = 5$ steps, Simpson's rule gives a very poor estimate of $\\mathrm{erf}(3)$ compared to scipy's value, which we are taking to be the true value. In fact, the relative error for Trapezoid rule at $5$ steps in this case is lower than for Simpson's. This is likely because the 2nd order approximation in Simpson's rule fails to provide a reasonable approximation for integration of this function for sufficiently small steps. This therefore results in an over estimate of the error in Simpson's method for $N = N_1 = 10$ steps in this case. This is justified by the fact that the relative error produced by Simpson's method for $10$ steps is lesser than that for Trapezoizd rule, and thus the absolute error 'should' be lower, but Newman's practical error estimation provides a value for Simpson's higher than for Trapezoid. I would argue then, that Euler-Maclaurin is a more accurate error estimation and that it is superior in the case where a closed-form, analytical expression exists for the integrand. Here, we see that Euler-Maclaurin estimate of error produces a lower error for Simpson's rule by an order of magnitude when compared to error estimate for Trapezoid rule, which is what we'd expect considering the smaller relative error for Simpson's compared to Trapezoid from part i). "
   ]
  },
  {
   "cell_type": "markdown",
   "metadata": {},
   "source": [
    "## Question 2 Part B: Exercise 5.4\n",
    "Part A of 5.4 asks to write a Python funtion that calculate the Bessel functions using Simpson's Rule for 1000 points. Then this function will make a plot of three Bessel functions as a function of $x$ from $x=0$ to $x=20$"
   ]
  },
  {
   "cell_type": "code",
   "execution_count": 22,
   "metadata": {
    "ExecuteTime": {
     "end_time": "2018-09-20T22:34:23.061019Z",
     "start_time": "2018-09-20T22:34:23.051286Z"
    }
   },
   "outputs": [],
   "source": [
    "import scipy.special as spy\n",
    "import numpy as np\n",
    "import matplotlib.pyplot as plt\n",
    "import seaborn as sns\n",
    "sns.set()"
   ]
  },
  {
   "cell_type": "code",
   "execution_count": 47,
   "metadata": {
    "ExecuteTime": {
     "end_time": "2018-09-20T22:40:40.500247Z",
     "start_time": "2018-09-20T22:40:40.478306Z"
    }
   },
   "outputs": [],
   "source": [
    "def J(m,x):\n",
    "    \"\"\"\n",
    "    A function that computes Bessel Functions using Simpson's Rule\n",
    "    INPUT:\n",
    "    m [int] subscript of Bessel function\n",
    "    x [array] the array of input values\n",
    "    \"\"\"\n",
    "    def Bessel(m,x,theta):\n",
    "        y = np.cos(m*theta - x*np.sin(theta))\n",
    "        return y\n",
    "    N = 10000\n",
    "    a = 0.\n",
    "    b = np.pi\n",
    "    h = (b-a)/N #width of slices\n",
    "\n",
    "    s = Bessel(m,x,a) + Bessel(m,x,b) #the constant terms in the series expansion defining the trapezoid rule as in equation 5.3 of Newman\n",
    "    for k in range(1,N,2): #loop over odd terms\n",
    "        s += 4*Bessel(m,x,a+k*h)\n",
    "    for k in range(2,N,2): #loop over even terms\n",
    "        s += 2*Bessel(m,x,a+k*h) \n",
    "    the_integral = h*s/(3*np.pi)\n",
    "    return the_integral"
   ]
  },
  {
   "cell_type": "code",
   "execution_count": 48,
   "metadata": {
    "ExecuteTime": {
     "end_time": "2018-09-20T22:40:41.987697Z",
     "start_time": "2018-09-20T22:40:40.905282Z"
    }
   },
   "outputs": [],
   "source": [
    "x = np.linspace(0,20,1000)\n",
    "m_len = 3\n",
    "bessel_val = np.empty((len(x),m_len))\n",
    "for m in range(m_len):\n",
    "    bessel_val[:,m] = J(m,x)\n",
    "#print(bessel_val[:,2])\n",
    "    "
   ]
  },
  {
   "cell_type": "code",
   "execution_count": 57,
   "metadata": {
    "ExecuteTime": {
     "end_time": "2018-09-20T22:45:13.763147Z",
     "start_time": "2018-09-20T22:45:13.741362Z"
    }
   },
   "outputs": [],
   "source": [
    "x = np.linspace(0,20,1000)\n",
    "m_len = 3\n",
    "scipy_val = np.empty((len(x),m_len))\n",
    "for m in range(m_len):\n",
    "    scipy_val[:,m] = spy.jv(m,x)"
   ]
  },
  {
   "cell_type": "code",
   "execution_count": 61,
   "metadata": {
    "ExecuteTime": {
     "end_time": "2018-09-21T01:43:45.712432Z",
     "start_time": "2018-09-21T01:43:45.468240Z"
    },
    "scrolled": false
   },
   "outputs": [
    {
     "data": {
      "image/png": "[encoded data removed]",
      "text/plain": [
       "<Figure size 576x576 with 1 Axes>"
      ]
     },
     "metadata": {},
     "output_type": "display_data"
    }
   ],
   "source": [
    "plt.figure(figsize = (8,8))\n",
    "plt.scatter(x, bessel_val[:,0],c = 'red', s = 4, label = (' Bessel Function 0'))\n",
    "plt.scatter(x, bessel_val[:,1],c = 'salmon', s = 4, label = (' Bessel Function 1'))\n",
    "plt.scatter(x, bessel_val[:,2],c = 'coral', s =4, label = (' Bessel Function 2'))\n",
    "plt.scatter(x, scipy_val[:,0],c = 'blue', s = 2, alpha = 0.7, label = ('Scipy  Bessel Function 0'))\n",
    "plt.scatter(x, scipy_val[:,1],c ='cadetblue',  s = 2, alpha = 0.8, label = ('Scipy  Bessel Function 1'))\n",
    "plt.scatter(x, scipy_val[:,2],c = 'aquamarine', s =2, alpha = 0.8, label = (' Scipy Bessel Function 2'))\n",
    "plt.title('Bessel Functions')\n",
    "plt.legend()\n",
    "plt.ylabel('Output Value')\n",
    "plt.show()"
   ]
  },
  {
   "cell_type": "code",
   "execution_count": 67,
   "metadata": {
    "ExecuteTime": {
     "end_time": "2018-09-21T01:47:25.168576Z",
     "start_time": "2018-09-21T01:47:25.017318Z"
    },
    "scrolled": false
   },
   "outputs": [
    {
     "data": {
      "image/png": "[encoded data removed]",
      "text/plain": [
       "<Figure size 576x576 with 1 Axes>"
      ]
     },
     "metadata": {},
     "output_type": "display_data"
    },
    {
     "name": "stdout",
     "output_type": "stream",
     "text": [
      "7.935811025244071e-18  Mean Difference for J0\n",
      "5.647945762697152e-17  Mean Difference for J1\n",
      "-5.113602445852341e-17  Mean Difference for J2\n"
     ]
    }
   ],
   "source": [
    "plt.figure(figsize = (8,8))\n",
    "plt.scatter(x, bessel_val[:,0]-scipy_val[:,0],c = 'red', s = 4)\n",
    "plt.scatter(x, bessel_val[:,1]-scipy_val[:,1],c = 'salmon', s = 4)\n",
    "plt.scatter(x, bessel_val[:,2]-scipy_val[:,2],c = 'coral', s =4)\n",
    "plt.title('Difference between Newman technique and Scipy Bessel Function')\n",
    "plt.xlabel('input')\n",
    "plt.ylabel('output')\n",
    "plt.show()\n",
    "print(np.mean(bessel_val[:,0]-scipy_val[:,0]), ' Mean Difference for J0')\n",
    "print(np.mean(bessel_val[:,1]-scipy_val[:,1]), ' Mean Difference for J1')\n",
    "print(np.mean(bessel_val[:,2]-scipy_val[:,2]), ' Mean Difference for J2')"
   ]
  },
  {
   "cell_type": "markdown",
   "metadata": {},
   "source": [
    "# Answers\n",
    "As shown in in the graph, the scipy bessel functions match the Newman coded problems quite well. I included a difference between the two plot to show how well they match. There doesn't seem to be a better method of visualizing this. Quantitatively, the average that they differed for each point was of the order of $E-17$ or  $E-18$ "
   ]
  },
  {
   "cell_type": "markdown",
   "metadata": {
    "ExecuteTime": {
     "end_time": "2018-09-20T22:30:05.644982Z",
     "start_time": "2018-09-20T22:30:05.631929Z"
    }
   },
   "source": [
    "# 5.4b \n",
    "This question asks us to compute a density plot of the intensity of the different diffraction patterns that come from a point light source with $\\lambda=500$nm. The question asks us to look in a square region of the focal plane. The formula used is \n",
    "\\begin{equation}\n",
    "I(r)=\\frac{J_1(kr)}{kr}^2\n",
    "\\end{equation}\n",
    "The radius range will be $0  \\text{ to } 1\\mu\\text{m}$ and $k = \\frac{2\\pi}{\\lambda}$"
   ]
  },
  {
   "cell_type": "code",
   "execution_count": 73,
   "metadata": {
    "ExecuteTime": {
     "end_time": "2018-09-21T01:51:36.637349Z",
     "start_time": "2018-09-21T01:51:35.945828Z"
    },
    "scrolled": true
   },
   "outputs": [
    {
     "data": {
      "image/png": "[encoded data removed]",
      "text/plain": [
       "<Figure size 432x288 with 1 Axes>"
      ]
     },
     "metadata": {},
     "output_type": "display_data"
    }
   ],
   "source": [
    "x_grid,y_grid = np.mgrid[-1:1:100j,-1:1:100j]\n",
    "r = np.sqrt(x_grid**2 + y_grid**2)\n",
    "wavelength = 0.5\n",
    "k = 2*np.pi/wavelength\n",
    "\n",
    "I = (J(1,r*k)/k/r)**2\n",
    "plt.imshow(I,vmax=0.1/10,extent=(-1,1,-1,1), cmap = 'viridis')\n",
    "plt.title('Density Plot of Light Diffusion')\n",
    "plt.xlabel('x axis')\n",
    "plt.ylabel('y label')\n",
    "ax = plt.gca()\n",
    "ax.grid(False)\n"
   ]
  }
 ],
 "metadata": {
  "kernelspec": {
   "display_name": "Python 3",
   "language": "python",
   "name": "python3"
  },
  "language_info": {
   "codemirror_mode": {
    "name": "ipython",
    "version": 3
   },
   "file_extension": ".py",
   "mimetype": "text/x-python",
   "name": "python",
   "nbconvert_exporter": "python",
   "pygments_lexer": "ipython3",
   "version": "3.6.5"
  },
  "varInspector": {
   "cols": {
    "lenName": 16,
    "lenType": 16,
    "lenVar": 40
   },
   "kernels_config": {
    "python": {
     "delete_cmd_postfix": "",
     "delete_cmd_prefix": "del ",
     "library": "var_list.py",
     "varRefreshCmd": "print(var_dic_list())"
    },
    "r": {
     "delete_cmd_postfix": ") ",
     "delete_cmd_prefix": "rm(",
     "library": "var_list.r",
     "varRefreshCmd": "cat(var_dic_list()) "
    }
   },
   "types_to_exclude": [
    "module",
    "function",
    "builtin_function_or_method",
    "instance",
    "_Feature"
   ],
   "window_display": false
  }
 },
 "nbformat": 4,
 "nbformat_minor": 2
}
