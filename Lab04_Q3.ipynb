{
 "cells": [
  {
   "cell_type": "markdown",
   "metadata": {},
   "source": [
    "### Question 3 Part a (6.10 Newman)\n",
    "The question asks us to use the relaxation method on a function and then examine the accuracy and other parameters of the function. "
   ]
  },
  {
   "cell_type": "code",
   "execution_count": 1,
   "metadata": {
    "ExecuteTime": {
     "end_time": "2018-10-03T22:05:33.300511Z",
     "start_time": "2018-10-03T22:05:32.972270Z"
    }
   },
   "outputs": [],
   "source": [
    "import numpy as np\n",
    "import matplotlib.pylab as plt"
   ]
  },
  {
   "cell_type": "code",
   "execution_count": 2,
   "metadata": {
    "ExecuteTime": {
     "end_time": "2018-10-03T21:49:09.357073Z",
     "start_time": "2018-10-03T21:49:09.352358Z"
    }
   },
   "outputs": [],
   "source": [
    "def Relax_Error(f_x,f_xprime,f_constant, func_deriv):\n",
    "    return (f_x - f_xprime)/(1-(1/func_deriv(f_x,f_constant)))"
   ]
  },
  {
   "cell_type": "code",
   "execution_count": 3,
   "metadata": {
    "ExecuteTime": {
     "end_time": "2018-10-03T21:49:09.598159Z",
     "start_time": "2018-10-03T21:49:09.588083Z"
    }
   },
   "outputs": [],
   "source": [
    "def Offset_Exponential(f_x, f_constant):\n",
    "    return 1 - np.exp(-1*f_constant*f_x)"
   ]
  },
  {
   "cell_type": "code",
   "execution_count": 4,
   "metadata": {
    "ExecuteTime": {
     "end_time": "2018-10-03T21:49:09.821061Z",
     "start_time": "2018-10-03T21:49:09.813810Z"
    }
   },
   "outputs": [],
   "source": [
    "def Exponential_Derivative(f_x, f_constant):\n",
    "    return f_constant*np.exp(-1*f_constant*f_x)"
   ]
  },
  {
   "cell_type": "code",
   "execution_count": 5,
   "metadata": {
    "ExecuteTime": {
     "end_time": "2018-10-03T21:49:10.037368Z",
     "start_time": "2018-10-03T21:49:10.026293Z"
    }
   },
   "outputs": [],
   "source": [
    "def Root_Estimator(f_constant):\n",
    "    f_x = 0.1\n",
    "    counter = 0\n",
    "    f_error = 1\n",
    "    f_errorlimit = 10**(-6)                 \n",
    "    while np.abs(f_error) > f_errorlimit:\n",
    "        f_xnew = Offset_Exponential(f_x,f_constant)\n",
    "        f_error = Relax_Error(f_x,f_xnew,f_constant,Exponential_Derivative)\n",
    "        f_x = f_xnew\n",
    "        counter += 1\n",
    "    #print('The final answer is...',f_x)\n",
    "    #print('COMPLETE')\n",
    "    return f_x, counter"
   ]
  },
  {
   "cell_type": "code",
   "execution_count": 6,
   "metadata": {
    "ExecuteTime": {
     "end_time": "2018-10-03T21:49:10.291699Z",
     "start_time": "2018-10-03T21:49:10.283205Z"
    }
   },
   "outputs": [
    {
     "name": "stdout",
     "output_type": "stream",
     "text": [
      "0.7968111529033527\n"
     ]
    }
   ],
   "source": [
    "# Part A\n",
    "f_constant = 2.0\n",
    "f_x,i_steps  = Root_Estimator(f_constant)\n",
    "print(f_x)"
   ]
  },
  {
   "cell_type": "code",
   "execution_count": 7,
   "metadata": {
    "ExecuteTime": {
     "end_time": "2018-10-03T21:49:16.372822Z",
     "start_time": "2018-10-03T21:49:10.498332Z"
    },
    "scrolled": true
   },
   "outputs": [
    {
     "name": "stdout",
     "output_type": "stream",
     "text": [
      "0.0\n",
      "0.01\n",
      "0.02\n",
      "0.03\n",
      "0.04\n",
      "0.05\n",
      "0.06\n",
      "0.07\n",
      "0.08\n",
      "0.09\n",
      "0.1\n",
      "0.11\n",
      "0.12\n",
      "0.13\n",
      "0.14\n",
      "0.15\n",
      "0.16\n",
      "0.17\n",
      "0.18\n",
      "0.19\n",
      "0.2\n",
      "0.21\n",
      "0.22\n",
      "0.23\n",
      "0.24\n",
      "0.25\n",
      "0.26\n",
      "0.27\n",
      "0.28\n",
      "0.29\n",
      "0.3\n",
      "0.31\n",
      "0.32\n",
      "0.33\n",
      "0.34\n",
      "0.35000000000000003\n",
      "0.36\n",
      "0.37\n",
      "0.38\n",
      "0.39\n",
      "0.4\n",
      "0.41000000000000003\n",
      "0.42\n",
      "0.43\n",
      "0.44\n",
      "0.45\n",
      "0.46\n",
      "0.47000000000000003\n",
      "0.48\n",
      "0.49\n",
      "0.5\n",
      "0.51\n",
      "0.52\n",
      "0.53\n",
      "0.54\n",
      "0.55\n",
      "0.56\n",
      "0.5700000000000001\n",
      "0.58\n",
      "0.59\n",
      "0.6\n",
      "0.61\n",
      "0.62\n",
      "0.63\n",
      "0.64\n",
      "0.65\n",
      "0.66\n",
      "0.67\n",
      "0.68\n",
      "0.6900000000000001\n",
      "0.7000000000000001\n",
      "0.71\n",
      "0.72\n",
      "0.73\n",
      "0.74\n",
      "0.75\n",
      "0.76\n",
      "0.77\n",
      "0.78\n",
      "0.79\n",
      "0.8\n",
      "0.81\n",
      "0.8200000000000001\n",
      "0.8300000000000001\n",
      "0.84\n",
      "0.85\n",
      "0.86\n",
      "0.87\n",
      "0.88\n",
      "0.89\n",
      "0.9\n",
      "0.91\n",
      "0.92\n",
      "0.93\n",
      "0.9400000000000001\n",
      "0.9500000000000001\n",
      "0.96\n",
      "0.97\n",
      "0.98\n",
      "0.99\n",
      "1.0\n"
     ]
    },
    {
     "name": "stderr",
     "output_type": "stream",
     "text": [
      "/home/andrew/Programs/anaconda3/lib/python3.6/site-packages/ipykernel_launcher.py:2: RuntimeWarning: divide by zero encountered in double_scalars\n",
      "  \n"
     ]
    },
    {
     "name": "stdout",
     "output_type": "stream",
     "text": [
      "1.01\n",
      "1.02\n",
      "1.03\n",
      "1.04\n",
      "1.05\n",
      "1.06\n",
      "1.07\n",
      "1.08\n",
      "1.09\n",
      "1.1\n",
      "1.11\n",
      "1.12\n",
      "1.1300000000000001\n",
      "1.1400000000000001\n",
      "1.1500000000000001\n",
      "1.16\n",
      "1.17\n",
      "1.18\n",
      "1.19\n",
      "1.2\n",
      "1.21\n",
      "1.22\n",
      "1.23\n",
      "1.24\n",
      "1.25\n",
      "1.26\n",
      "1.27\n",
      "1.28\n",
      "1.29\n",
      "1.3\n",
      "1.31\n",
      "1.32\n",
      "1.33\n",
      "1.34\n",
      "1.35\n",
      "1.36\n",
      "1.37\n",
      "1.3800000000000001\n",
      "1.3900000000000001\n",
      "1.4000000000000001\n",
      "1.41\n",
      "1.42\n",
      "1.43\n",
      "1.44\n",
      "1.45\n",
      "1.46\n",
      "1.47\n",
      "1.48\n",
      "1.49\n",
      "1.5\n",
      "1.51\n",
      "1.52\n",
      "1.53\n",
      "1.54\n",
      "1.55\n",
      "1.56\n",
      "1.57\n",
      "1.58\n",
      "1.59\n",
      "1.6\n",
      "1.61\n",
      "1.62\n",
      "1.6300000000000001\n",
      "1.6400000000000001\n",
      "1.6500000000000001\n",
      "1.6600000000000001\n",
      "1.67\n",
      "1.68\n",
      "1.69\n",
      "1.7\n",
      "1.71\n",
      "1.72\n",
      "1.73\n",
      "1.74\n",
      "1.75\n",
      "1.76\n",
      "1.77\n",
      "1.78\n",
      "1.79\n",
      "1.8\n",
      "1.81\n",
      "1.82\n",
      "1.83\n",
      "1.84\n",
      "1.85\n",
      "1.86\n",
      "1.87\n",
      "1.8800000000000001\n",
      "1.8900000000000001\n",
      "1.9000000000000001\n",
      "1.9100000000000001\n",
      "1.92\n",
      "1.93\n",
      "1.94\n",
      "1.95\n",
      "1.96\n",
      "1.97\n",
      "1.98\n",
      "1.99\n",
      "2.0\n",
      "2.0100000000000002\n",
      "2.02\n",
      "2.0300000000000002\n",
      "2.04\n",
      "2.05\n",
      "2.06\n",
      "2.07\n",
      "2.08\n",
      "2.09\n",
      "2.1\n",
      "2.11\n",
      "2.12\n",
      "2.13\n",
      "2.14\n",
      "2.15\n",
      "2.16\n",
      "2.17\n",
      "2.18\n",
      "2.19\n",
      "2.2\n",
      "2.21\n",
      "2.22\n",
      "2.23\n",
      "2.24\n",
      "2.25\n",
      "2.2600000000000002\n",
      "2.27\n",
      "2.2800000000000002\n",
      "2.29\n",
      "2.3000000000000003\n",
      "2.31\n",
      "2.32\n",
      "2.33\n",
      "2.34\n",
      "2.35\n",
      "2.36\n",
      "2.37\n",
      "2.38\n",
      "2.39\n",
      "2.4\n",
      "2.41\n",
      "2.42\n",
      "2.43\n",
      "2.44\n",
      "2.45\n",
      "2.46\n",
      "2.47\n",
      "2.48\n",
      "2.49\n",
      "2.5\n",
      "2.5100000000000002\n",
      "2.52\n",
      "2.5300000000000002\n",
      "2.54\n",
      "2.5500000000000003\n",
      "2.56\n",
      "2.57\n",
      "2.58\n",
      "2.59\n",
      "2.6\n",
      "2.61\n",
      "2.62\n",
      "2.63\n",
      "2.64\n",
      "2.65\n",
      "2.66\n",
      "2.67\n",
      "2.68\n",
      "2.69\n",
      "2.7\n",
      "2.71\n",
      "2.72\n",
      "2.73\n",
      "2.74\n",
      "2.75\n",
      "2.7600000000000002\n",
      "2.77\n",
      "2.7800000000000002\n",
      "2.79\n",
      "2.8000000000000003\n",
      "2.81\n",
      "2.82\n",
      "2.83\n",
      "2.84\n",
      "2.85\n",
      "2.86\n",
      "2.87\n",
      "2.88\n",
      "2.89\n",
      "2.9\n",
      "2.91\n",
      "2.92\n",
      "2.93\n",
      "2.94\n",
      "2.95\n",
      "2.96\n",
      "2.97\n",
      "2.98\n",
      "2.99\n"
     ]
    }
   ],
   "source": [
    "a_constant = np.arange(0,3,0.01)\n",
    "a_xval = np.empty(len(a_constant))\n",
    "a_steps = np.empty(len(a_constant))\n",
    "for i in range(len(a_constant)):\n",
    "    print(a_constant[i])\n",
    "    a_xval[i], a_steps[i] = Root_Estimator(a_constant[i])\n",
    "\n"
   ]
  },
  {
   "cell_type": "code",
   "execution_count": 8,
   "metadata": {
    "ExecuteTime": {
     "end_time": "2018-10-03T21:49:16.670649Z",
     "start_time": "2018-10-03T21:49:16.449569Z"
    },
    "scrolled": false
   },
   "outputs": [
    {
     "data": {
      "text/plain": [
       "<matplotlib.collections.PathCollection at 0x7f87059edc88>"
      ]
     },
     "execution_count": 8,
     "metadata": {},
     "output_type": "execute_result"
    },
    {
     "data": {
      "image/png": "[encoded data removed]",
      "text/plain": [
       "<Figure size 720x720 with 1 Axes>"
      ]
     },
     "metadata": {},
     "output_type": "display_data"
    }
   ],
   "source": [
    "plt.figure(figsize= (10,10))\n",
    "plt.scatter(a_constant,a_xval, s = 3)"
   ]
  },
  {
   "cell_type": "markdown",
   "metadata": {},
   "source": [
    "### Question 3 Part B\n",
    "Now Question 6.11B just wanted to adapt 6.10 code to count the number of steps it took for c = 2. For 6.11C we will compare the number of steps for relaxation method versus overrelaxation"
   ]
  },
  {
   "cell_type": "code",
   "execution_count": 10,
   "metadata": {
    "ExecuteTime": {
     "end_time": "2018-10-03T21:49:29.198406Z",
     "start_time": "2018-10-03T21:49:29.176631Z"
    }
   },
   "outputs": [],
   "source": [
    "def Root_Overestimator(f_constant):\n",
    "    f_x = 2\n",
    "    f_w = 0.75\n",
    "    counter = 0\n",
    "    f_error = 1\n",
    "    f_errorlimit = 10**(-6)                 \n",
    "    while np.abs(f_error) > f_errorlimit:\n",
    "        f_xnew = (1+f_w)*Offset_Exponential(f_x,f_constant)-f_w*f_x\n",
    "        f_error = Relax_Error(f_x,f_xnew,f_constant,Exponential_Derivative)\n",
    "        f_x = f_xnew\n",
    "        counter += 1\n",
    "    #print('The final answer is...',f_x)\n",
    "    #print('COMPLETE')\n",
    "    return f_x, counter"
   ]
  },
  {
   "cell_type": "code",
   "execution_count": 11,
   "metadata": {
    "ExecuteTime": {
     "end_time": "2018-10-03T21:49:29.932305Z",
     "start_time": "2018-10-03T21:49:29.918716Z"
    }
   },
   "outputs": [
    {
     "name": "stdout",
     "output_type": "stream",
     "text": [
      "0.7968121237701278\n"
     ]
    }
   ],
   "source": [
    "# Part A\n",
    "f_constant = 2.0\n",
    "f_x,i_oversteps  = Root_Overestimator(f_constant)\n",
    "print(f_x)"
   ]
  },
  {
   "cell_type": "code",
   "execution_count": 12,
   "metadata": {
    "ExecuteTime": {
     "end_time": "2018-10-03T21:49:30.743069Z",
     "start_time": "2018-10-03T21:49:30.732456Z"
    }
   },
   "outputs": [
    {
     "name": "stdout",
     "output_type": "stream",
     "text": [
      "18 8\n"
     ]
    }
   ],
   "source": [
    "print(i_steps, i_oversteps)"
   ]
  },
  {
   "cell_type": "markdown",
   "metadata": {
    "ExecuteTime": {
     "end_time": "2018-10-03T15:41:40.410461Z",
     "start_time": "2018-10-03T15:41:40.404001Z"
    }
   },
   "source": [
    "##### Question 6.11D\n",
    "Yes, that would be "
   ]
  },
  {
   "cell_type": "markdown",
   "metadata": {},
   "source": [
    "## Question 6.13\n",
    "The question wants us to solve another nonlinear equation, this time with the binary search function. \n",
    "The function is \n",
    "\\begin{equation}\n",
    "5e^{-x}+x-5 = 0\n",
    "\\end{equation}"
   ]
  },
  {
   "cell_type": "code",
   "execution_count": 85,
   "metadata": {
    "ExecuteTime": {
     "end_time": "2018-10-03T22:28:37.972688Z",
     "start_time": "2018-10-03T22:28:37.962415Z"
    }
   },
   "outputs": [],
   "source": [
    "def Binary_Search(function):\n",
    "    f_errorlimit = 10**(-6)   \n",
    "    f_error = 1\n",
    "    #\n",
    "    f_x1 =  -10\n",
    "    f_x2 =  12\n",
    "    while np.abs(f_error) > f_errorlimit:\n",
    "        f_val1 = function(f_x1)\n",
    "        f_val2 = function(f_x2)\n",
    "        if np.sign(f_val1) != np.sign(f_val2):\n",
    "            f_midpoint = (f_x1+f_x2)/2.0\n",
    "            f_midval = function(f_midpoint)\n",
    "        else:\n",
    "            print('Something is very wrong')\n",
    "        if np.sign(f_x1) != np.sign(f_midpoint):\n",
    "            f_x2 = f_midpoint\n",
    "        elif np.sign(f_x2) != np.sign(f_midpoint):\n",
    "            f_x1 = f_midpoint\n",
    "        else:\n",
    "            print('Something is very wrong')\n",
    "        f_error = np.abs(f_val1 - f_val2)\n",
    "    return (f_x1 - f_x2)//2 \n",
    "    "
   ]
  },
  {
   "cell_type": "code",
   "execution_count": 86,
   "metadata": {
    "ExecuteTime": {
     "end_time": "2018-10-03T22:28:38.321884Z",
     "start_time": "2018-10-03T22:28:38.311952Z"
    }
   },
   "outputs": [],
   "source": [
    "def forgotname(x):\n",
    "    return 5 -5*np.exp(-1*x)"
   ]
  },
  {
   "cell_type": "code",
   "execution_count": 88,
   "metadata": {
    "ExecuteTime": {
     "end_time": "2018-10-03T22:28:44.867397Z",
     "start_time": "2018-10-03T22:28:44.853715Z"
    },
    "scrolled": false
   },
   "outputs": [
    {
     "name": "stdout",
     "output_type": "stream",
     "text": [
      "-1.0\n"
     ]
    }
   ],
   "source": [
    "f_answer = Binary_Search(forgotname)\n",
    "print(f_answer)"
   ]
  },
  {
   "cell_type": "code",
   "execution_count": null,
   "metadata": {},
   "outputs": [],
   "source": []
  }
 ],
 "metadata": {
  "kernelspec": {
   "display_name": "Python 3",
   "language": "python",
   "name": "python3"
  },
  "language_info": {
   "codemirror_mode": {
    "name": "ipython",
    "version": 3
   },
   "file_extension": ".py",
   "mimetype": "text/x-python",
   "name": "python",
   "nbconvert_exporter": "python",
   "pygments_lexer": "ipython3",
   "version": "3.6.5"
  },
  "varInspector": {
   "cols": {
    "lenName": 16,
    "lenType": 16,
    "lenVar": 40
   },
   "kernels_config": {
    "python": {
     "delete_cmd_postfix": "",
     "delete_cmd_prefix": "del ",
     "library": "var_list.py",
     "varRefreshCmd": "print(var_dic_list())"
    },
    "r": {
     "delete_cmd_postfix": ") ",
     "delete_cmd_prefix": "rm(",
     "library": "var_list.r",
     "varRefreshCmd": "cat(var_dic_list()) "
    }
   },
   "types_to_exclude": [
    "module",
    "function",
    "builtin_function_or_method",
    "instance",
    "_Feature"
   ],
   "window_display": false
  }
 },
 "nbformat": 4,
 "nbformat_minor": 2
}
