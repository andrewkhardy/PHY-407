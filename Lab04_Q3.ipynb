{
 "cells": [
  {
   "cell_type": "markdown",
   "metadata": {},
   "source": [
    "### Question 3 Part a (6.10 Newman)\n",
    "The question asks us to use the relaxation method on a function and then examine the accuracy and other parameters of the function. Particularly, how how the root of the function $ 1 - e^{-cx} $ changes with values of $c$."
   ]
  },
  {
   "cell_type": "code",
   "execution_count": 10,
   "metadata": {
    "ExecuteTime": {
     "end_time": "2018-10-04T22:22:33.749800Z",
     "start_time": "2018-10-04T22:22:33.742934Z"
    }
   },
   "outputs": [],
   "source": [
    "import numpy as np\n",
    "import matplotlib\n",
    "import matplotlib.pylab as plt\n",
    "matplotlib.rcParams['figure.figsize'] = (7, 7)\n",
    "matplotlib.rcParams['font.size'] = 12"
   ]
  },
  {
   "cell_type": "code",
   "execution_count": 11,
   "metadata": {
    "ExecuteTime": {
     "end_time": "2018-10-04T22:22:34.199507Z",
     "start_time": "2018-10-04T22:22:34.193159Z"
    }
   },
   "outputs": [],
   "source": [
    "def Relax_Error(f_x,f_xprime, func_deriv,f_constant= 1.0):\n",
    "    # Define the Relaxation Error using a function, it's derivative\n",
    "    # and two floats of successive estimates of x\n",
    "    return (f_x - f_xprime)/(1-(1/func_deriv(f_x,f_constant)))"
   ]
  },
  {
   "cell_type": "code",
   "execution_count": 12,
   "metadata": {
    "ExecuteTime": {
     "end_time": "2018-10-04T22:22:34.573169Z",
     "start_time": "2018-10-04T22:22:34.565819Z"
    }
   },
   "outputs": [],
   "source": [
    "def Offset_Exponential(f_x, f_constant = 1.0):\n",
    "    # The equation given. I defined a default for the constant \n",
    "    #so the code is more modularized for use in later parts\n",
    "    return 1 - np.exp(-1*f_constant*f_x)"
   ]
  },
  {
   "cell_type": "code",
   "execution_count": 13,
   "metadata": {
    "ExecuteTime": {
     "end_time": "2018-10-04T22:22:34.891194Z",
     "start_time": "2018-10-04T22:22:34.883359Z"
    }
   },
   "outputs": [],
   "source": [
    "def Exponential_Derivative(f_x, f_constant = 1.0):\n",
    "    # The derivative of the above function\n",
    "    return f_constant*np.exp(-1*f_constant*f_x)"
   ]
  },
  {
   "cell_type": "code",
   "execution_count": 14,
   "metadata": {
    "ExecuteTime": {
     "end_time": "2018-10-04T22:22:35.267237Z",
     "start_time": "2018-10-04T22:22:35.258219Z"
    }
   },
   "outputs": [],
   "source": [
    "def Root_Estimator(function, function_deriv, f_constant = 1.0,f_x =0.1):\n",
    "    # This code estimates roots using relaxation method\n",
    "    counter = 0   # counting steps\n",
    "    f_error = 1   # meaningless default error\n",
    "    f_errorlimit = 10**(-6)             # limit of error for order 10^-6\n",
    "    # while loop for the error above the threshold OoM\n",
    "    while np.abs(f_error) > f_errorlimit:   \n",
    "        f_xnew = function(f_x,f_constant)   # calculates a new estimate\n",
    "        f_error = Relax_Error(f_x,f_xnew,function_deriv,f_constant)\n",
    "        # the above line calculates the error\n",
    "        f_x = f_xnew  # redefines the initial guess\n",
    "        counter += 1\n",
    "    #print('The final answer is...',f_x)\n",
    "    #print('COMPLETE')\n",
    "    return f_x, counter"
   ]
  },
  {
   "cell_type": "code",
   "execution_count": 15,
   "metadata": {
    "ExecuteTime": {
     "end_time": "2018-10-04T22:22:35.690800Z",
     "start_time": "2018-10-04T22:22:35.686807Z"
    }
   },
   "outputs": [
    {
     "name": "stdout",
     "output_type": "stream",
     "text": [
      "0.7968111529033527\n"
     ]
    }
   ],
   "source": [
    "# Part A\n",
    "# Testing that the functions work for c = 2\n",
    "f_constant = 2.0\n",
    "f_x,i_steps  = Root_Estimator(Offset_Exponential, Exponential_Derivative,f_constant)\n",
    "print(f_x)"
   ]
  },
  {
   "cell_type": "code",
   "execution_count": 18,
   "metadata": {
    "ExecuteTime": {
     "end_time": "2018-10-04T22:24:26.006766Z",
     "start_time": "2018-10-04T22:24:19.791577Z"
    },
    "scrolled": false
   },
   "outputs": [],
   "source": [
    "a_constant = np.arange(0.01,3,0.01)     # define an array of different constants to sample\n",
    "a_xval = np.empty(len(a_constant))   # empty array to be filled\n",
    "a_steps = np.empty(len(a_constant))  # number of steps each run take\n",
    "                                     # for loop to test each sample\n",
    "for i in range(len(a_constant)): \n",
    "    #print(a_constant[i])\n",
    "    a_xval[i], a_steps[i] = Root_Estimator(Offset_Exponential, Exponential_Derivative,a_constant[i])\n",
    "\n"
   ]
  },
  {
   "cell_type": "code",
   "execution_count": 20,
   "metadata": {
    "ExecuteTime": {
     "end_time": "2018-10-04T22:26:03.140674Z",
     "start_time": "2018-10-04T22:26:02.964923Z"
    },
    "scrolled": false
   },
   "outputs": [
    {
     "data": {
      "text/plain": [
       "Text(0.5,1,'Root of Nonlinear Function as a function of Constant')"
      ]
     },
     "execution_count": 20,
     "metadata": {},
     "output_type": "execute_result"
    },
    {
     "data": {
      "image/png": "[encoded data removed]",
      "text/plain": [
       "<Figure size 504x504 with 1 Axes>"
      ]
     },
     "metadata": {},
     "output_type": "display_data"
    }
   ],
   "source": [
    "plt.figure()\n",
    "plt.scatter(a_constant,a_xval, s = 3)\n",
    "plt.xlabel('Constant(C)')\n",
    "plt.ylabel('Root(x)')\n",
    "plt.title('Root of Nonlinear Function as a function of Constant')\n"
   ]
  },
  {
   "cell_type": "markdown",
   "metadata": {},
   "source": [
    "### Question 3 Part B\n",
    "Now Question 6.11B just wanted to adapt 6.10 code to count the number of steps it took for c = 2. For 6.11C we will compare the number of steps for relaxation method versus overrelaxation"
   ]
  },
  {
   "cell_type": "code",
   "execution_count": 22,
   "metadata": {
    "ExecuteTime": {
     "end_time": "2018-10-04T22:27:06.907150Z",
     "start_time": "2018-10-04T22:27:06.902853Z"
    }
   },
   "outputs": [],
   "source": [
    "def Root_Overestimator(function, function_deriv,f_constant = 1):\n",
    "    # same relaxation function except with overrelaxation\n",
    "    f_x = 0.1  # initial guess\n",
    "    f_w = 0.75 # overstepping parameter\n",
    "    counter = 0  # initial counter\n",
    "    f_error = 1  # initial meaningless error\n",
    "    f_errorlimit = 10**(-6)             \n",
    "    while np.abs(f_error) > f_errorlimit:\n",
    "        f_xnew = (1+f_w)*function(f_x,f_constant)-f_w*f_x  # overrelaxation method \n",
    "        f_error = Relax_Error(f_x,f_xnew,function_deriv,f_constant)\n",
    "        f_x = f_xnew\n",
    "        counter += 1\n",
    "    #print('The final answer is...',f_x)\n",
    "    #print('COMPLETE')\n",
    "    return f_x, counter"
   ]
  },
  {
   "cell_type": "code",
   "execution_count": 24,
   "metadata": {
    "ExecuteTime": {
     "end_time": "2018-10-04T22:29:28.003589Z",
     "start_time": "2018-10-04T22:29:27.999105Z"
    }
   },
   "outputs": [
    {
     "name": "stdout",
     "output_type": "stream",
     "text": [
      "0.7968121277836699\n"
     ]
    }
   ],
   "source": [
    "# 6.11, checking 6.10 with Overestimnator now\n",
    "f_constant = 2.0\n",
    "f_x,i_oversteps  = Root_Overestimator(Offset_Exponential, Exponential_Derivative,f_constant)\n",
    "print(f_x)"
   ]
  },
  {
   "cell_type": "code",
   "execution_count": 25,
   "metadata": {
    "ExecuteTime": {
     "end_time": "2018-10-04T22:29:28.787513Z",
     "start_time": "2018-10-04T22:29:28.783506Z"
    }
   },
   "outputs": [
    {
     "name": "stdout",
     "output_type": "stream",
     "text": [
      "18 relaxation method step number\n",
      "8 overrelaxation method step number\n"
     ]
    }
   ],
   "source": [
    "print('relaxation method step number...', i_steps )\n",
    "print('overrelaxation method step number...', i_oversteps)"
   ]
  },
  {
   "cell_type": "markdown",
   "metadata": {},
   "source": [
    "#### Question 6.11c\n",
    "Here it is quite clear that the overstepping method takes less than half the number of iterated steps"
   ]
  },
  {
   "cell_type": "markdown",
   "metadata": {
    "ExecuteTime": {
     "end_time": "2018-10-03T15:41:40.410461Z",
     "start_time": "2018-10-03T15:41:40.404001Z"
    }
   },
   "source": [
    "##### Question 6.11D\n",
    "Yes, Newman states that a $w > 0 $ changes $x$ by some amount larger than the original $\\Delta x$. If the derivative was steep enough that you needed very small changes, then a negative $w$ would be useful."
   ]
  },
  {
   "cell_type": "markdown",
   "metadata": {},
   "source": [
    "## Question 6.13\n",
    "The question wants us to solve another nonlinear equation, this time with the binary search function and the Newton Method. With this, we can estimate the surface temperature of the sun.\n",
    "The function is \n",
    "\\begin{equation}\n",
    "5e^{-x}+x-5 = 0\n",
    "\\end{equation}"
   ]
  },
  {
   "cell_type": "code",
   "execution_count": 34,
   "metadata": {
    "ExecuteTime": {
     "end_time": "2018-10-04T22:46:27.148028Z",
     "start_time": "2018-10-04T22:46:27.137843Z"
    }
   },
   "outputs": [],
   "source": [
    "def Binary_Search(function):\n",
    "    f_errorlimit = 10**(-6)   \n",
    "    f_error = 1\n",
    "    #\n",
    "    f_x1 =  2\n",
    "    f_x2 =  10\n",
    "    counter = 0\n",
    "    while np.abs(f_error) > f_errorlimit:\n",
    "    #for i in range(10):\n",
    "        f_val1 = function(f_x1)\n",
    "        f_val2 = function(f_x2)\n",
    "        #print(f_val1, f_val2)\n",
    "        if np.sign(f_val1) != np.sign(f_val2):\n",
    "            f_midpoint = (f_x1+f_x2)/2.0\n",
    "            f_midval = function(f_midpoint)\n",
    "            #print(f_midpoint)\n",
    "        else:\n",
    "            print('Something is very wrong #1')\n",
    "        #print(f_x1, f_x2, f_midpoint)\n",
    "        if np.sign(f_midval) != np.sign(f_val1):\n",
    "            f_x2 = f_midpoint\n",
    "        elif np.sign(f_midval) != np.sign(f_val2):\n",
    "            f_x1 = f_midpoint\n",
    "        else:\n",
    "            print('Something is very wrong #2')\n",
    "        f_error = np.abs(f_val1 - f_val2)\n",
    "        counter += 1\n",
    "    return (f_x1 + f_x2)/2.0 , counter\n",
    "    "
   ]
  },
  {
   "cell_type": "code",
   "execution_count": 35,
   "metadata": {
    "ExecuteTime": {
     "end_time": "2018-10-04T22:46:27.475225Z",
     "start_time": "2018-10-04T22:46:27.469396Z"
    }
   },
   "outputs": [],
   "source": [
    "def Newton_Method(Wein_Displacement_Relax, Wein_Displacement_Deriv,f_guess):\n",
    "    counter = 0\n",
    "    f_error = 100\n",
    "    f_errorlimit = 10**(-6)   \n",
    "    while np.abs(f_error) > f_errorlimit:\n",
    "        f_xnew = f_guess - Wein_Displacement(f_guess)/Wein_Displacement_Deriv(f_guess)\n",
    "        f_error = f_xnew - f_guess\n",
    "        f_guess = f_xnew\n",
    "        counter += 1\n",
    "    return(f_xnew, counter)\n",
    "    "
   ]
  },
  {
   "cell_type": "code",
   "execution_count": 36,
   "metadata": {
    "ExecuteTime": {
     "end_time": "2018-10-04T22:46:27.830723Z",
     "start_time": "2018-10-04T22:46:27.820276Z"
    }
   },
   "outputs": [],
   "source": [
    "def Wein_Displacement(x):\n",
    "    '''\n",
    "    input of a float x \n",
    "    output of a float computed for Wein's Displacement Constant\n",
    "    '''\n",
    "    return  5*np.exp(-1*x) + x -5"
   ]
  },
  {
   "cell_type": "code",
   "execution_count": 37,
   "metadata": {
    "ExecuteTime": {
     "end_time": "2018-10-04T22:46:28.149483Z",
     "start_time": "2018-10-04T22:46:28.144202Z"
    }
   },
   "outputs": [],
   "source": [
    "def Wein_Displacement_Deriv(x):\n",
    "    '''\n",
    "    input and output of a float\n",
    "    derivative of  Weins Displacement Constant nonlinear calculator\n",
    "    '''\n",
    "    return -5*np.exp(-1*x) + 1"
   ]
  },
  {
   "cell_type": "code",
   "execution_count": 38,
   "metadata": {
    "ExecuteTime": {
     "end_time": "2018-10-04T22:46:28.490510Z",
     "start_time": "2018-10-04T22:46:28.484712Z"
    }
   },
   "outputs": [],
   "source": [
    "def Wein_Displacement_Relax(x, f_constant = 1):\n",
    "    '''\n",
    "    input and output of a float\n",
    "    Wein's Displacement Constant rewritten to solve for roots\n",
    "    '''\n",
    "    return 5 - 5*np.exp(-1*x)"
   ]
  },
  {
   "cell_type": "code",
   "execution_count": 39,
   "metadata": {
    "ExecuteTime": {
     "end_time": "2018-10-04T22:46:28.502536Z",
     "start_time": "2018-10-04T22:46:28.495416Z"
    }
   },
   "outputs": [],
   "source": [
    "def Wein_Displacement_Relax_Deriv(x, f_constant = 1):\n",
    "    '''\n",
    "    input and output of a float\n",
    "    Wein's Displacement Constant derivative rewritten to solve for roots\n",
    "    '''\n",
    "    \n",
    "    return 5*np.exp(-1*x)"
   ]
  },
  {
   "cell_type": "code",
   "execution_count": 40,
   "metadata": {
    "ExecuteTime": {
     "end_time": "2018-10-04T22:46:28.512755Z",
     "start_time": "2018-10-04T22:46:28.506873Z"
    }
   },
   "outputs": [],
   "source": [
    "def Wein_Constant(f_solution):\n",
    "    f_planck   = 6.62607004*10**-34     # Planck's Constant\n",
    "    f_boltzman = 1.38064852*10**-23     # Boltzman Constant\n",
    "    f_light    = 299792458             #Speed of light\n",
    "    f_factor = (f_planck/f_boltzman)*f_light\n",
    "    # calculate the Wein's Displacement constant given certain natural constants\n",
    "    return f_factor/f_solution"
   ]
  },
  {
   "cell_type": "code",
   "execution_count": 41,
   "metadata": {
    "ExecuteTime": {
     "end_time": "2018-10-04T22:46:28.631496Z",
     "start_time": "2018-10-04T22:46:28.623045Z"
    },
    "scrolled": true
   },
   "outputs": [
    {
     "name": "stdout",
     "output_type": "stream",
     "text": [
      "0.002897772842539955\n",
      "24\n"
     ]
    }
   ],
   "source": [
    "# Calculate Wein's Displacement Constant using Binary Search\n",
    "f_exp_answer, i_binary_steps = Binary_Search(Wein_Displacement)\n",
    "f_const_answer = Wein_Constant(f_exp_answer)\n",
    "print(f_const_answer)\n",
    "print(i_binary_steps)"
   ]
  },
  {
   "cell_type": "code",
   "execution_count": 42,
   "metadata": {
    "ExecuteTime": {
     "end_time": "2018-10-04T22:46:29.698905Z",
     "start_time": "2018-10-04T22:46:29.688366Z"
    }
   },
   "outputs": [
    {
     "name": "stdout",
     "output_type": "stream",
     "text": [
      "0.002897772942109512\n",
      "6\n"
     ]
    }
   ],
   "source": [
    "# Calculate Wein's Displacement Constant using Relaxation Method\n",
    "f_exp_answer2, i_root_steps = Root_Estimator(Wein_Displacement_Relax, Wein_Displacement_Relax_Deriv,f_x =2 )\n",
    "f_const_answer2 = Wein_Constant(f_exp_answer2)\n",
    "print(f_const_answer2)\n",
    "print(i_root_steps)"
   ]
  },
  {
   "cell_type": "code",
   "execution_count": 43,
   "metadata": {
    "ExecuteTime": {
     "end_time": "2018-10-04T22:46:31.419804Z",
     "start_time": "2018-10-04T22:46:31.409016Z"
    }
   },
   "outputs": [
    {
     "name": "stdout",
     "output_type": "stream",
     "text": [
      "0.002897772914526216\n",
      "5\n"
     ]
    }
   ],
   "source": [
    "# Calculate Wein's Displacement Constant using Newton's Method\n",
    "f_exp_answer3, i_newt_steps = Newton_Method(Wein_Displacement_Relax, Wein_Displacement_Deriv, 2)\n",
    "f_const_answer3 = Wein_Constant(f_exp_answer3)\n",
    "print(f_const_answer3)\n",
    "print(i_newt_steps)"
   ]
  },
  {
   "cell_type": "markdown",
   "metadata": {},
   "source": [
    "### Question 6.13C \n",
    "The question wants us to calculate the surface temperature of the sun. I can rewrite the Wein Displacement law as \n",
    "\\begin{equation}\n",
    "T = \\frac{b}{\\lambda}\n",
    "\\end{equation} \n",
    "and then just plug in the wavelength $\\lambda = 502\\text{ nm}$ and the value of the displacement constant from above. "
   ]
  },
  {
   "cell_type": "code",
   "execution_count": 44,
   "metadata": {
    "ExecuteTime": {
     "end_time": "2018-10-04T22:46:35.333376Z",
     "start_time": "2018-10-04T22:46:35.328222Z"
    },
    "scrolled": true
   },
   "outputs": [
    {
     "name": "stdout",
     "output_type": "stream",
     "text": [
      "the surface temperature(K) of the Sun is... 5772.455861633377\n"
     ]
    }
   ],
   "source": [
    "f_surface_temp = f_const_answer/(502*10**-9)\n",
    "print('the surface temperature(K) of the Sun is...',f_surface_temp)"
   ]
  },
  {
   "cell_type": "markdown",
   "metadata": {},
   "source": [
    "### Note on the Accuracy of Surface Temperature\n",
    "Wikipedia defines the surface temperature of the sun as approx. $5778$K. This means are errors are of the order $10^{-3}$\n"
   ]
  },
  {
   "cell_type": "code",
   "execution_count": null,
   "metadata": {},
   "outputs": [],
   "source": []
  }
 ],
 "metadata": {
  "kernelspec": {
   "display_name": "Python 3",
   "language": "python",
   "name": "python3"
  },
  "language_info": {
   "codemirror_mode": {
    "name": "ipython",
    "version": 3
   },
   "file_extension": ".py",
   "mimetype": "text/x-python",
   "name": "python",
   "nbconvert_exporter": "python",
   "pygments_lexer": "ipython3",
   "version": "3.6.5"
  },
  "varInspector": {
   "cols": {
    "lenName": 16,
    "lenType": 16,
    "lenVar": 40
   },
   "kernels_config": {
    "python": {
     "delete_cmd_postfix": "",
     "delete_cmd_prefix": "del ",
     "library": "var_list.py",
     "varRefreshCmd": "print(var_dic_list())"
    },
    "r": {
     "delete_cmd_postfix": ") ",
     "delete_cmd_prefix": "rm(",
     "library": "var_list.r",
     "varRefreshCmd": "cat(var_dic_list()) "
    }
   },
   "types_to_exclude": [
    "module",
    "function",
    "builtin_function_or_method",
    "instance",
    "_Feature"
   ],
   "window_display": false
  }
 },
 "nbformat": 4,
 "nbformat_minor": 2
}
