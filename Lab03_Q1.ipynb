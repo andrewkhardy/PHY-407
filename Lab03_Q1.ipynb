{
 "cells": [
  {
   "cell_type": "markdown",
   "metadata": {},
   "source": [
    "## Question 1: Gaussian Quadrature\n",
    "\\begin{equation}\n",
    "    \\mathrm{erf}(3) = \\frac{2}{\\sqrt{\\pi}} \\int_0^3 e^{-t^2}\\mathrm{d}t\n",
    "\\end{equation}"
   ]
  },
  {
   "cell_type": "code",
   "execution_count": 52,
   "metadata": {
    "ExecuteTime": {
     "end_time": "2018-09-28T02:59:15.437251Z",
     "start_time": "2018-09-28T02:59:15.414809Z"
    }
   },
   "outputs": [],
   "source": [
    "#PART A\n",
    "# Andrew Hardy\n",
    "#i) \n",
    "#import packages\n",
    "import numpy as np\n",
    "from scipy.special import erf\n",
    "from gaussxw import gaussxw\n",
    "import matplotlib.pyplot as plt\n",
    "import seaborn as sns\n",
    "sns.set()"
   ]
  },
  {
   "cell_type": "code",
   "execution_count": 8,
   "metadata": {
    "ExecuteTime": {
     "end_time": "2018-09-28T01:44:22.104507Z",
     "start_time": "2018-09-28T01:44:22.078801Z"
    }
   },
   "outputs": [],
   "source": [
    "# defining variables taken from Q2.A from Lab 2, done by Brayden.\n",
    "#define a function for Trapezoid rule \n",
    "def Trapezoid(function, i_N, f_a, f_b):\n",
    "    \"\"\"\n",
    "    A function for performing numerical integration of the mathematical function \n",
    "    the trapezoid rule for N steps between a and b.\n",
    "    INPUT:\n",
    "    function [function handle of single variable] is the function whose integral is to be numerically approximated \n",
    "    N [int] number of steps\n",
    "    a [float] lower bound of integration\n",
    "    b [float] upper bound of integration\n",
    "    \"\"\"\n",
    "    f_h = (f_b-f_a)/i_N #width of slices\n",
    "    f_s = 0.5*function(f_a) + 0.5*function(f_b) #the constant terms in the series expansion defining the trapezoid rule as in equation 5.3 of Newman\n",
    "\n",
    "    for j in range(1,i_N):\n",
    "        f_s += function(f_a+j*f_h)\n",
    "        \n",
    "    f_integral = f_h*f_s\n",
    "    return f_integral\n",
    "\n",
    "#define a function for Simpson's rule\n",
    "def Simpson(function, i_N, f_a, f_b):\n",
    "    \"\"\"\n",
    "    A function for performing numerical integration of the mathematical function according to\n",
    "    Simpson's rule for N steps between a and b.\n",
    "    INPUT:\n",
    "    function [function handle of single variable] is the function whose integral is to be numerically approximated \n",
    "    N [int] number of steps\n",
    "    a [float] lower bound of integration\n",
    "    b [float] upper bound of integration\n",
    "    \"\"\"\n",
    "    f_h = (f_b-f_a)/i_N #width of slices\n",
    "    f_s = function(f_a) + function(f_b) #the constant terms in the series expansion defining the trapezoid rule as in equation 5.3 of Newman\n",
    "    \n",
    "    for k in range(1,i_N,2): #loop over odd terms\n",
    "        f_s += 4*function(f_a+k*f_h)\n",
    "    for k in range(2,i_N,2): #loop over even terms\n",
    "        f_s += 2*function(f_a+k*f_h)\n",
    "        \n",
    "    f_integral = f_h*f_s/3\n",
    "    return f_integral\n",
    "def Gaussian(function, i_N, f_a, f_b):\n",
    "    \"\"\"\n",
    "    A function for performing numerical integration of the mathematical function according to\n",
    "    Gaussian Quadrature for N steps between a and b. Basically ripped off Newman's gaussint.py\n",
    "    INPUT:\n",
    "    function [function handle of single variable] is the function whose integral is to be numerically approximated \n",
    "    N [int] number of steps\n",
    "    a [float] lower bound of integration\n",
    "    b [float] upper bound of integration\n",
    "    \"\"\"\n",
    "    f_x,f_w = gaussxw(i_N)\n",
    "    f_xp = 0.5*(f_b-f_a)*f_x + 0.5*(f_b+f_a)\n",
    "    f_wp = 0.5*(f_b-f_a)*f_w\n",
    "\n",
    "    # Perform the integration\n",
    "    f_s = 0.0\n",
    "    for k in range(i_N):\n",
    "        f_s += f_wp[k]*function(f_xp[k])\n",
    "    return f_s\n"
   ]
  },
  {
   "cell_type": "code",
   "execution_count": 9,
   "metadata": {
    "ExecuteTime": {
     "end_time": "2018-09-28T01:44:22.438679Z",
     "start_time": "2018-09-28T01:44:22.429352Z"
    }
   },
   "outputs": [],
   "source": [
    "#define function to be integrated\n",
    "def errorfunction(f_t):\n",
    "    return 2/np.sqrt(np.pi)*np.exp(-f_t**2)"
   ]
  },
  {
   "cell_type": "code",
   "execution_count": 10,
   "metadata": {
    "ExecuteTime": {
     "end_time": "2018-09-28T01:44:36.707897Z",
     "start_time": "2018-09-28T01:44:22.729886Z"
    },
    "scrolled": false
   },
   "outputs": [],
   "source": [
    "i_length = int((1000-8)/2+1)\n",
    "a_erf_trap = np.empty(i_length)\n",
    "a_erf_simp = np.empty(i_length)\n",
    "a_erf_gauss = np.empty(i_length)\n",
    "a_N = np.empty(i_length)\n",
    "\n",
    "t = np.empty(10000)\n",
    "i = 8\n",
    "j = 0\n",
    "while i<=1000:\n",
    "    a_N[j] = i\n",
    "    a_erf_trap[j-8] = Trapezoid(errorfunction, i,0,3)\n",
    "    a_erf_simp[j-8] = Simpson(errorfunction, i, 0,3)\n",
    "    a_erf_gauss[j-8] = Gaussian(errorfunction, i, 0,3)\n",
    "    i += 2\n",
    "    j += 1"
   ]
  },
  {
   "cell_type": "code",
   "execution_count": 11,
   "metadata": {
    "ExecuteTime": {
     "end_time": "2018-09-28T01:44:36.782523Z",
     "start_time": "2018-09-28T01:44:36.777063Z"
    }
   },
   "outputs": [
    {
     "name": "stdout",
     "output_type": "stream",
     "text": [
      "Trapezoid rule evaluation of erf(3) for 8<N<1000:\n",
      "Simpson rule evaluation of erf(3) for 8<N<1000:\n",
      "Gaussian quadrature evaluation of erf(3) for 8<N<1000:\n"
     ]
    }
   ],
   "source": [
    "print('Trapezoid rule evaluation of erf(3) for 8<N<1000:')\n",
    "#print(a_erf_trap)\n",
    "print('Simpson rule evaluation of erf(3) for 8<N<1000:')\n",
    "#print(a_erf_simp)\n",
    "print('Gaussian quadrature evaluation of erf(3) for 8<N<1000:')\n",
    "#print(a_erf_gauss)"
   ]
  },
  {
   "cell_type": "code",
   "execution_count": 12,
   "metadata": {
    "ExecuteTime": {
     "end_time": "2018-09-28T01:44:36.839929Z",
     "start_time": "2018-09-28T01:44:36.831578Z"
    }
   },
   "outputs": [
    {
     "name": "stdout",
     "output_type": "stream",
     "text": [
      "Mean value for erf(3) with Trapezoid rule was 0.9999778231853969 with standard deviation of 5.715079892948464e-07\n",
      "Mean value for erf(3) with Simpson rule was 0.9999779012620776 with standard deviation of 9.939718061538508e-08\n",
      "Mean value for erf(3) with Gaussian quadrature was 0.9999779095625705 with standard deviation of 1.3022291594138554e-09\n"
     ]
    }
   ],
   "source": [
    "mn_trap = np.mean(a_erf_trap)\n",
    "mn_simp = np.mean(a_erf_simp)\n",
    "mn_gauss = np.mean(a_erf_gauss)\n",
    "sd_trap = np.std(a_erf_trap)\n",
    "sd_simp = np.std(a_erf_simp)\n",
    "sd_gauss = np.std(a_erf_gauss)\n",
    "print('Mean value for erf(3) with Trapezoid rule was {0} with standard deviation of {1}'.format(mn_trap, sd_trap))\n",
    "print('Mean value for erf(3) with Simpson rule was {0} with standard deviation of {1}'.format(mn_simp, sd_simp))\n",
    "print('Mean value for erf(3) with Gaussian quadrature was {0} with standard deviation of {1}'.format(mn_gauss, sd_gauss))"
   ]
  },
  {
   "cell_type": "code",
   "execution_count": 49,
   "metadata": {
    "ExecuteTime": {
     "end_time": "2018-09-28T02:58:37.845905Z",
     "start_time": "2018-09-28T02:58:37.704862Z"
    }
   },
   "outputs": [
    {
     "name": "stdout",
     "output_type": "stream",
     "text": [
      "[-3.26802328e-08 -2.38660845e-08 -1.78262677e-08 -1.35779698e-08\n",
      " -1.05208617e-08 -8.27634492e-09 -6.59885158e-09 -5.32507733e-09\n",
      " -4.34397921e-09 -3.57853125e-09 -2.97432898e-09 -2.49231212e-09\n",
      " -2.10401925e-09 -1.78842539e-09 -1.52980299e-09 -1.31625310e-09\n",
      " -1.13867566e-09 -9.90041603e-10 -8.64874071e-10 -7.58866302e-10\n",
      " -6.68605730e-10 -5.91368251e-10 -5.24964345e-10 -4.67620503e-10\n",
      " -4.17894069e-10 -3.74602520e-10 -3.36772944e-10 -3.03598303e-10\n",
      " -2.74408007e-10 -2.48643270e-10 -2.25831013e-10 -2.05574991e-10\n",
      " -1.87540352e-10 -1.71439986e-10 -1.57029639e-10 -1.44102693e-10\n",
      " -1.32478291e-10 -1.22002106e-10 -1.12541131e-10 -1.03980900e-10\n",
      " -9.62173835e-11 -8.91657572e-11 -8.27483043e-11 -7.68970776e-11\n",
      " -7.15558987e-11 -6.66685890e-11 -6.21925150e-11 -5.80850432e-11\n",
      " -5.43107566e-11 -5.08395676e-11 -4.76400562e-11 -4.46881301e-11\n",
      " -4.19624723e-11 -3.94413222e-11 -3.71045842e-11 -3.49409337e-11\n",
      " -3.29308305e-11 -3.10652816e-11 -2.93284103e-11 -2.77120009e-11\n",
      " -2.62032855e-11 -2.47982672e-11 -2.34853995e-11 -2.22586870e-11\n",
      " -2.11098028e-11 -2.00355273e-11 -1.90279776e-11 -1.80837121e-11\n",
      " -1.71960692e-11 -1.63634945e-11 -1.55791047e-11 -1.48422334e-11\n",
      " -1.41486617e-11 -1.34945039e-11 -1.28782054e-11 -1.22958806e-11\n",
      " -1.17473073e-11 -1.12277114e-11 -1.07376482e-11 -1.02735647e-11\n",
      " -9.83379563e-12 -9.41778587e-12 -9.02375902e-12 -8.65027174e-12\n",
      " -8.29532560e-12 -7.95869854e-12 -7.63905827e-12 -7.33351815e-12\n",
      " -7.04618608e-12 -6.77162186e-12 -6.50915934e-12 -6.26068594e-12\n",
      " -6.02298194e-12 -5.79693554e-12 -5.58054829e-12 -5.37592966e-12\n",
      " -5.17908277e-12 -4.99189504e-12 -4.81325621e-12 -4.64050169e-12\n",
      " -4.47807247e-12 -4.32174962e-12 -4.17253234e-12 -4.02864426e-12\n",
      " -3.89208381e-12 -3.76029743e-12 -3.63417331e-12 -3.51382247e-12\n",
      " -3.39835673e-12 -3.28777607e-12 -3.18074821e-12 -3.07949363e-12\n",
      " -2.98045955e-12 -2.88675466e-12 -2.79560333e-12 -2.70900402e-12\n",
      " -2.62529136e-12 -2.54424329e-12 -2.46652596e-12 -2.39336064e-12\n",
      " -2.32008431e-12 -2.25313638e-12 -2.18552230e-12 -2.12201614e-12\n",
      " -2.05950921e-12 -2.00122121e-12 -1.94271116e-12 -1.88697674e-12\n",
      " -1.83568330e-12 -1.78350167e-12 -1.73309643e-12 -1.68557783e-12\n",
      " -1.63928051e-12 -1.59398241e-12 -1.55101583e-12 -1.50871540e-12\n",
      " -1.46952366e-12 -1.42844450e-12 -1.39336068e-12 -1.35627841e-12\n",
      " -1.32041741e-12 -1.28622179e-12 -1.25291436e-12 -1.22105026e-12\n",
      " -1.18940820e-12 -1.16054176e-12 -1.13045406e-12 -1.10336402e-12\n",
      " -1.07582988e-12 -1.05007213e-12 -1.02276004e-12 -9.98001523e-13\n",
      " -9.73131978e-13 -9.51371126e-13 -9.27722853e-13 -9.06517125e-13\n",
      " -8.85089347e-13 -8.64660792e-13 -8.42899940e-13 -8.24358806e-13\n",
      " -8.05151524e-13 -7.86277315e-13 -7.68513354e-13 -7.51859641e-13\n",
      " -7.33762606e-13 -7.17775041e-13 -7.02564650e-13 -6.87132209e-13\n",
      " -6.70367471e-13 -6.56489377e-13 -6.41945134e-13 -6.29510361e-13\n",
      " -6.13855871e-13 -6.00643925e-13 -5.89430425e-13 -5.76551553e-13\n",
      " -5.64449855e-13 -5.52126107e-13 -5.40468508e-13 -5.29921156e-13\n",
      " -5.18818680e-13 -5.08049279e-13 -4.97835002e-13 -4.86288427e-13\n",
      " -4.78405670e-13 -4.68746516e-13 -4.59420436e-13 -4.49650258e-13\n",
      " -4.40324179e-13 -4.32108347e-13 -4.24225589e-13 -4.15676683e-13\n",
      " -4.06905727e-13 -3.98578871e-13 -3.89918940e-13 -3.84589752e-13\n",
      " -3.75707771e-13 -3.69046286e-13 -3.62828900e-13 -3.55390241e-13\n",
      " -3.48617731e-13 -3.42067270e-13 -3.35849884e-13 -3.29632498e-13\n",
      " -3.23082037e-13 -3.18863097e-13 -3.11979562e-13 -3.05318076e-13\n",
      " -3.00210938e-13 -2.95325848e-13 -2.89219487e-13 -2.85666695e-13\n",
      " -2.80004432e-13 -2.75785492e-13 -2.70123229e-13 -2.64905066e-13\n",
      " -2.61796372e-13 -2.56467184e-13 -2.51582095e-13 -2.47030080e-13\n",
      " -2.42700115e-13 -2.38703223e-13 -2.35816580e-13 -2.31486614e-13\n",
      " -2.27933822e-13 -2.23825906e-13 -2.19940040e-13 -2.16387248e-13\n",
      " -2.12834455e-13 -2.07949366e-13 -2.05839896e-13 -2.02287104e-13\n",
      " -1.98734312e-13 -1.97179965e-13 -1.91406678e-13 -1.88520034e-13\n",
      " -1.87409787e-13 -1.82968796e-13 -1.81192400e-13 -1.78194732e-13\n",
      " -1.74752964e-13 -1.72088370e-13 -1.69201727e-13 -1.66204058e-13\n",
      " -1.63872538e-13 -1.61318969e-13 -1.60319746e-13 -1.56544905e-13\n",
      " -1.54213385e-13 -1.52103914e-13 -1.49772395e-13 -1.47440875e-13\n",
      " -1.45220380e-13 -1.43221934e-13 -1.41223488e-13 -1.40002216e-13\n",
      " -1.36449424e-13 -1.34562003e-13 -1.31897409e-13 -1.30565112e-13\n",
      " -1.29343840e-13 -1.27456419e-13 -1.24902849e-13 -1.23459528e-13\n",
      " -1.21239033e-13 -1.19684686e-13 -1.17242141e-13 -1.14355498e-13\n",
      " -1.13467300e-13 -1.13023201e-13 -1.12135003e-13 -1.09248359e-13\n",
      " -1.09026309e-13 -1.07694012e-13 -1.03919171e-13 -1.01365601e-13\n",
      " -1.02586874e-13 -1.01920725e-13 -1.00588428e-13 -9.79238340e-14\n",
      " -9.61474379e-14 -9.45930913e-14 -9.38159180e-14 -9.21505467e-14\n",
      " -9.03741506e-14 -9.14843982e-14 -9.07072249e-14 -8.93749278e-14\n",
      " -8.67103337e-14 -8.46008634e-14 -8.65993089e-14 -8.32685663e-14\n",
      " -8.34906158e-14 -8.28244673e-14 -7.96047494e-14 -7.91606504e-14\n",
      " -7.81614276e-14 -7.72732295e-14 -7.52747839e-14 -7.50527344e-14\n",
      " -7.59409325e-14 -7.08337937e-14 -7.20550660e-14 -7.26101898e-14\n",
      " -7.02786699e-14 -6.81691996e-14 -6.81691996e-14 -6.62817788e-14\n",
      " -6.83912491e-14 -6.49494817e-14 -6.52825560e-14 -6.46164074e-14\n",
      " -6.40612837e-14 -6.35061599e-14 -6.35061599e-14 -6.22848876e-14\n",
      " -6.15077143e-14 -5.78438974e-14 -6.00643925e-14 -5.69556993e-14\n",
      " -5.75108231e-14 -5.91761944e-14 -5.83990212e-14 -5.39580310e-14\n",
      " -5.52903280e-14 -5.42911052e-14 -5.50682785e-14 -5.47352042e-14\n",
      " -5.41800805e-14 -5.16265111e-14 -5.25147091e-14 -4.97390903e-14\n",
      " -5.06272883e-14 -4.97390903e-14 -4.86288427e-14 -4.76296199e-14\n",
      " -4.94060160e-14 -4.68524466e-14 -4.77406447e-14 -4.54091248e-14\n",
      " -4.52981001e-14 -4.64083476e-14 -4.49650258e-14 -4.28555555e-14\n",
      " -4.41878525e-14 -4.26335059e-14 -4.39658030e-14 -4.13012089e-14\n",
      " -4.35217040e-14 -4.15232584e-14 -4.08571099e-14 -4.18563327e-14\n",
      " -3.87476395e-14 -4.08571099e-14 -3.96358376e-14 -3.97468623e-14\n",
      " -3.74153425e-14 -3.95248128e-14 -3.84145652e-14 -3.75263672e-14\n",
      " -3.55279216e-14 -3.51948474e-14 -3.66381692e-14 -3.44176741e-14\n",
      " -3.61940701e-14 -3.46397236e-14 -3.46397236e-14 -3.51948474e-14\n",
      " -3.41956246e-14 -3.21971790e-14 -3.38625503e-14 -3.34184513e-14\n",
      " -3.29743523e-14 -3.13089809e-14 -3.21971790e-14 -3.21971790e-14\n",
      " -3.04207829e-14 -3.17530799e-14 -3.17530799e-14 -3.10869314e-14\n",
      " -2.72010650e-14 -2.90884858e-14 -2.75341393e-14 -2.70900402e-14\n",
      " -2.93105353e-14 -2.85333620e-14 -2.79782383e-14 -2.84223373e-14\n",
      " -2.80892630e-14 -2.64238917e-14 -2.54246689e-14 -2.57577432e-14\n",
      " -2.54246689e-14 -2.62018422e-14 -2.67569660e-14 -2.64238917e-14\n",
      " -2.67569660e-14 -2.53136442e-14 -2.46474956e-14 -2.59797927e-14\n",
      " -2.62018422e-14 -2.33151986e-14 -2.27600748e-14 -2.54246689e-14\n",
      " -2.44254461e-14 -2.33151986e-14 -2.26490500e-14 -2.30931491e-14\n",
      " -2.30931491e-14 -2.15388025e-14 -2.22049510e-14 -2.23159758e-14\n",
      " -2.19829015e-14 -2.32041738e-14 -2.17608520e-14 -2.10947035e-14\n",
      " -2.10947035e-14 -2.09836787e-14 -2.05395797e-14 -2.08726540e-14\n",
      " -2.04285549e-14 -2.00954807e-14 -1.86521588e-14 -1.82080598e-14\n",
      " -1.84301093e-14 -1.90962579e-14 -1.97624064e-14 -1.79860103e-14\n",
      " -1.83190846e-14 -1.83190846e-14 -1.82080598e-14 -1.69867875e-14\n",
      " -1.92072826e-14 -1.73198618e-14 -1.86521588e-14 -1.74308865e-14\n",
      " -1.69867875e-14 -1.78749856e-14 -1.64316637e-14 -1.66537133e-14\n",
      " -1.75419113e-14 -1.66537133e-14 -1.83190846e-14 -1.88742084e-14\n",
      " -1.65426885e-14 -1.46552677e-14 -1.74308865e-14 -1.68757628e-14\n",
      " -1.50993667e-14 -1.59875647e-14 -1.66537133e-14 -1.43221934e-14\n",
      " -1.46552677e-14 -1.55434657e-14 -1.44332182e-14 -1.47662924e-14\n",
      " -1.59875647e-14 -1.34339954e-14 -1.37670696e-14 -1.44332182e-14\n",
      " -1.53214162e-14 -1.50993667e-14 -1.28788716e-14 -1.34339954e-14\n",
      " -1.37670696e-14 -1.31009211e-14 -1.21016983e-14 -1.28788716e-14\n",
      " -1.38780944e-14 -1.38780944e-14 -1.38780944e-14 -1.26568221e-14\n",
      " -1.17686240e-14 -1.21016983e-14 -1.15465745e-14 -1.19906735e-14\n",
      " -1.26568221e-14 -1.25457973e-14 -1.16575993e-14 -1.06583765e-14\n",
      " -1.29898963e-14 -1.08804260e-14 -1.28788716e-14 -1.33229706e-14\n",
      " -9.77017844e-15 -1.06583765e-14 -1.21016983e-14 -9.88120320e-15\n",
      " -1.15465745e-14 -1.95186909e-06 -8.98224908e-07 -4.64234324e-07\n",
      " -2.61342422e-07 -1.57439816e-07 -1.00148616e-07 -6.65940070e-08\n",
      " -4.59375749e-08]\n"
     ]
    }
   ],
   "source": [
    "#1b)\n",
    "#relative error of Gauss\n",
    "f_true = erf(3)\n",
    "a_rel_simp = (a_erf_simp - f_true)/f_true\n",
    "a_rel_trap = (a_erf_trap - f_true)/f_true\n",
    "a_rel_gauss = (a_erf_gauss - f_true)//f_true\n",
    "print(a_rel_simp)"
   ]
  },
  {
   "cell_type": "code",
   "execution_count": 13,
   "metadata": {
    "ExecuteTime": {
     "end_time": "2018-09-28T01:45:11.110821Z",
     "start_time": "2018-09-28T01:44:36.897106Z"
    },
    "scrolled": true
   },
   "outputs": [],
   "source": [
    "#1b)\n",
    "#get practical error of Gauss, trap, simp\n",
    "a_N2 = 2*a_N\n",
    "a_N1 = a_N//2\n",
    "a_erf_gauss_2 = np.empty(len(a_N2))\n",
    "a_erf_simp_1 = np.empty(len(a_N1))\n",
    "a_erf_trap_1 = np.empty(len(a_N1))\n",
    "for i in range(len(a_N2)):\n",
    "    #gauss\n",
    "    i_n = int(a_N2[i])\n",
    "    a_erf_gauss_2[i] = Gaussian(errorfunction, i_n, 0,3)\n",
    "    #trap\n",
    "    i_n_p = int(a_N1[i])\n",
    "    a_erf_trap_1[i] = Trapezoid(errorfunction, i_n, 0, 3)\n",
    "    #simp\n",
    "    a_erf_simp_1[i] = Simpson(errorfunction, i_n, 0, 3)\n",
    "    \n",
    "a_err_gauss = a_erf_gauss_2 - a_erf_gauss\n",
    "a_err_trap = (a_erf_trap - a_erf_trap_1)/3\n",
    "a_err_simp = (a_erf_simp - a_erf_simp_1)/15\n"
   ]
  },
  {
   "cell_type": "code",
   "execution_count": 55,
   "metadata": {
    "ExecuteTime": {
     "end_time": "2018-09-28T03:02:28.469870Z",
     "start_time": "2018-09-28T03:02:27.821767Z"
    },
    "scrolled": false
   },
   "outputs": [
    {
     "data": {
      "text/plain": [
       "<matplotlib.legend.Legend at 0x7f4b794bfb70>"
      ]
     },
     "execution_count": 55,
     "metadata": {},
     "output_type": "execute_result"
    },
    {
     "data": {
      "image/png": "[encoded data removed]",
      "text/plain": [
       "<Figure size 1008x1008 with 1 Axes>"
      ]
     },
     "metadata": {},
     "output_type": "display_data"
    }
   ],
   "source": [
    "plt.figure(figsize = (14,14))\n",
    "plt.yscale('log')\n",
    "plt.scatter(a_N, abs(a_rel_trap), s = 4, label = 'Trapezoid')\n",
    "plt.xlabel('Steps/Slices')\n",
    "plt.ylabel('Error')\n",
    "plt.title('Error vs. Steps/Slices')\n",
    "plt.legend()\n",
    "\n",
    "#plt.figure()\n",
    "plt.yscale('log')\n",
    "plt.scatter(a_N, abs(a_rel_simp), s = 4,label = 'Simpson')\n",
    "plt.xlabel('Steps/Slices')\n",
    "plt.ylabel('Error')\n",
    "plt.title('Error vs. Steps/Slices')\n",
    "#plt.legend()\n",
    "\n",
    "#plt.figure()\n",
    "plt.yscale('log')\n",
    "plt.scatter(a_N, abs(a_rel_gauss),s = 4, label = 'Gaussian')\n",
    "plt.xlabel('Steps/Slices')\n",
    "plt.ylabel('Error')\n",
    "plt.title('Error vs. Steps/Slices')\n",
    "plt.legend()"
   ]
  },
  {
   "cell_type": "code",
   "execution_count": 16,
   "metadata": {
    "ExecuteTime": {
     "end_time": "2018-09-28T01:45:12.457449Z",
     "start_time": "2018-09-28T01:45:12.447789Z"
    }
   },
   "outputs": [
    {
     "name": "stdout",
     "output_type": "stream",
     "text": [
      "-2.14242045531302e-08\n",
      "-5.080091658613065e-10\n",
      "-5.956925272750222e-11\n",
      "1.898264394564778e-07\n",
      "6.640031109289699e-09\n",
      "1.3022291162422363e-09\n"
     ]
    }
   ],
   "source": [
    "print(np.mean(a_err_trap))\n",
    "print(np.mean(a_err_simp))\n",
    "print(np.mean(a_err_gauss))\n",
    "print(np.std(a_err_trap))\n",
    "print(np.std(a_err_simp))\n",
    "print(np.std(a_err_gauss))"
   ]
  },
  {
   "cell_type": "code",
   "execution_count": 17,
   "metadata": {
    "ExecuteTime": {
     "end_time": "2018-09-28T01:45:12.641521Z",
     "start_time": "2018-09-28T01:45:12.623020Z"
    },
    "scrolled": false
   },
   "outputs": [
    {
     "name": "stdout",
     "output_type": "stream",
     "text": [
      "[-14.63191492 -15.3788275  -16.17023483 -17.19767604         -inf\n",
      " -17.75922005 -17.30779615 -17.12425845 -17.04189481 -17.00990989\n",
      " -17.00651395 -17.02060167 -17.04588242 -17.07852873 -17.11608893\n",
      " -17.15693128 -17.19993736 -17.244323   -17.28952874 -17.33515007\n",
      " -17.38089166 -17.42653659 -17.47192511 -17.51693955 -17.56149377\n",
      " -17.60552533 -17.64898975 -17.69185634 -17.73410488 -17.77572322\n",
      " -17.81670557 -17.85705085 -17.89676173 -17.93584369 -17.97430434\n",
      " -18.01215296 -18.04940004 -18.08605694 -18.12213561 -18.15764841\n",
      " -18.19260795 -18.22702694 -18.26091813 -18.29429414 -18.32716755\n",
      " -18.35955064 -18.39145562 -18.42289432 -18.45387835 -18.48441901\n",
      " -18.51452748 -18.5442144  -18.57349018 -18.60236511 -18.63084899\n",
      " -18.65895143 -18.68668161 -18.71404864 -18.74106119 -18.76772765\n",
      " -18.79405635 -18.82005515 -18.84573185 -18.87109373 -18.89614815\n",
      " -18.92090223 -18.94536237 -18.96953544 -18.99342776 -19.01704551\n",
      " -19.04039463 -19.06348104 -19.0863103  -19.10888772 -19.131219\n",
      " -19.15330888 -19.17516254 -19.19678494 -19.21818059 -19.23935402\n",
      " -19.26030994 -19.28105235 -19.30158575 -19.32191404 -19.34204101\n",
      " -19.36197091 -19.38170713 -19.4012536  -19.42061359 -19.43979082\n",
      " -19.45878823 -19.47760957 -19.49625776 -19.51473596 -19.53304728\n",
      " -19.55119431 -19.5691805  -19.5870079  -19.60467991 -19.62219888\n",
      " -19.63956733 -19.65678802 -19.67386341 -19.69079526 -19.70758677\n",
      " -19.72423992 -19.74075636 -19.75713936 -19.77339064 -19.78951163\n",
      " -19.80550532 -19.82137296 -19.83711704 -19.85273892 -19.86824086\n",
      " -19.88362478 -19.89889169 -19.91404452 -19.9290837  -19.94401148\n",
      " -19.95882994 -19.97353973 -19.98814361 -20.00264136 -20.01703604\n",
      " -20.03132834 -20.04552007 -20.05961239 -20.07360692 -20.0875052\n",
      " -20.10130696 -20.11501582 -20.12863172 -20.14215594 -20.15558969\n",
      " -20.16893444 -20.18219176 -20.19536141 -20.20844532 -20.2214455\n",
      " -20.23436194 -20.24719534 -20.25994789 -20.27261982 -20.28521236\n",
      " -20.29772635 -20.31016342 -20.32252337 -20.3348084  -20.34701857\n",
      " -20.35915453 -20.37121814 -20.38320938 -20.39513045 -20.40697978\n",
      " -20.41875988 -20.43047195 -20.44211584 -20.45369199 -20.46520228\n",
      " -20.47664715 -20.4880271  -20.49934286 -20.51059537 -20.52178504\n",
      " -20.53291314 -20.54397909 -20.55498495 -20.56593039 -20.57681649\n",
      " -20.58764352 -20.59841349 -20.60912452 -20.61978    -20.63037836\n",
      " -20.64092197 -20.65140988 -20.66184345 -20.67222269 -20.68254832\n",
      " -20.69282139 -20.70304209 -20.71321159 -20.72332859 -20.73339594\n",
      " -20.74341303 -20.75337956 -20.7632971  -20.77316527 -20.78298654\n",
      " -20.79275871 -20.8024835  -20.81216249 -20.82179387 -20.83138066\n",
      " -20.84092007 -20.85041493 -20.85986581 -20.86927153 -20.87863262\n",
      " -20.88795179 -20.89722808 -20.90646073 -20.91564935 -20.92479842\n",
      " -20.93390537 -20.94297159 -20.95199445 -20.96098037 -20.96992411\n",
      " -20.97883086 -20.98769264 -20.99652072 -21.00530583 -21.01405788\n",
      " -21.02276646 -21.03144105 -21.04007652 -21.04867524 -21.0572381\n",
      " -21.06576326 -21.07425305 -21.08270675 -21.09112491 -21.09950809\n",
      " -21.10785668 -21.11616827 -21.12444881 -21.13269555 -21.14090594\n",
      " -21.14908386 -21.15722856 -21.16533977 -21.1734177  -21.18146668\n",
      " -21.18947914 -21.19746053 -21.20541239 -21.21333005 -21.22121878\n",
      " -21.22907541 -21.2369037  -21.24469981 -21.25246507 -21.26019956\n",
      " -21.26790635 -21.27558362 -21.28322979 -21.2908483  -21.29843689\n",
      " -21.30599747 -21.31353004 -21.32103446 -21.32850858 -21.33595813\n",
      " -21.34337806 -21.35077326 -21.3581376  -21.36547667 -21.37278908\n",
      " -21.38007348 -21.38733441 -21.39456553 -21.40177301 -21.40895466\n",
      " -21.41610819 -21.42323956 -21.43034409 -21.43742281 -21.44447769\n",
      " -21.45150735 -21.45851289 -21.46549384 -21.47244989 -21.47938176\n",
      " -21.48628787 -21.49317511 -21.50003898 -21.50687583 -21.51368787\n",
      " -21.52048157 -21.5272494  -21.5339934  -21.54071741 -21.54742086\n",
      " -21.55409701 -21.56075356 -21.56738714 -21.57399812 -21.58058751\n",
      " -21.58715757 -21.59370108 -21.60023095 -21.60673443 -21.61321813\n",
      " -21.61967956 -21.62612413 -21.63254251 -21.63894586 -21.64532339\n",
      " -21.65168407 -21.65802364 -21.6643439  -21.67064319 -21.6769242\n",
      " -21.68318529 -21.68942465 -21.6956476  -21.70185044 -21.70803205\n",
      " -21.71419459 -21.72034358 -21.72646987 -21.73257553 -21.7386669\n",
      " -21.74473753 -21.75079147 -21.7568208  -21.76283856 -21.76883716\n",
      " -21.77481603 -21.78078079 -21.78672463 -21.79265139 -21.79855937\n",
      " -21.80445041 -21.81032478 -21.81618584 -21.82202438 -21.82784773\n",
      " -21.83365576 -21.83944247 -21.84521524 -21.85097306 -21.85671584\n",
      " -21.86243663 -21.86814696 -21.87383629 -21.87951031 -21.88516809\n",
      " -21.89081477 -21.89643765 -21.90204855 -21.90764368 -21.9132265\n",
      " -21.91878599 -21.9243367  -21.9298735  -21.935393   -21.9408956\n",
      " -21.94638087 -21.95185594 -21.95731271 -21.96275622 -21.96818659\n",
      " -21.97359842 -21.97899929 -21.98438404 -21.98975264 -21.99510954\n",
      " -22.00044911 -22.00577678 -22.01109247 -22.01639072 -22.02167664\n",
      " -22.02694936 -22.0322055  -22.03744975 -22.04267526 -22.04789328\n",
      " -22.05309922 -22.05828642 -22.06346476 -22.06862401 -22.07377446\n",
      " -22.0789141  -22.08403686 -22.08914553 -22.09424063 -22.09932593\n",
      " -22.10439628 -22.10945117 -22.11449649 -22.11953599 -22.12454707\n",
      " -22.12955575 -22.13455914 -22.13953384 -22.14450643 -22.14946336\n",
      " -22.1544086  -22.15934325 -22.16425984 -22.1691748  -22.1740725\n",
      " -22.17895068 -22.18382487 -22.18869634 -22.19353869 -22.19838502\n",
      " -22.20320813 -22.20801967 -22.21282377 -22.21761132 -22.22238842\n",
      " -22.22715648 -22.23191895 -22.23667042 -22.24140134 -22.24612573\n",
      " -22.25084236 -22.25553407 -22.26023671 -22.26490813 -22.26957717\n",
      " -22.27424052 -22.27887821 -22.28351972 -22.28814552 -22.29275727\n",
      " -22.29736662 -22.30196126 -22.3065542  -22.31111275 -22.31567434\n",
      " -22.32023089 -22.3247758  -22.32930458 -22.33381895 -22.33833128\n",
      " -22.34283639 -22.34733148 -22.35181008 -22.35628098 -22.36073676\n",
      " -22.36519432 -22.36962863 -22.3740611  -22.37847941 -22.38288891\n",
      " -22.38730055 -22.39168385 -22.39607068 -22.40044337 -22.40480821\n",
      " -22.40916184 -22.41350681 -22.41783952 -22.42217287 -22.42647548\n",
      " -22.4307869  -22.43508828 -22.43937757 -22.44365826 -22.44791623\n",
      " -22.45218324 -22.45644027 -22.46068163 -22.46491846 -22.46914108\n",
      " -22.47335882 -22.47756213 -22.48176256 -22.48594274 -22.49012878\n",
      " -22.49430175 -22.49846687 -22.50262354 -22.50676386 -22.51091011\n",
      " -22.51503943 -22.51915154 -22.52326473 -22.52737108 -22.53146908\n",
      " -22.53555425 -22.53963206 -22.54370554 -22.54776539 -22.5518236\n",
      " -22.5558648  -22.55989128 -22.56393823 -22.56795363 -22.57197183\n",
      " -22.57597343 -22.57996362 -22.58395624 -22.5879405  -12.70040448\n",
      " -13.12290546 -13.47435188 -13.77460707 -14.03641589 -14.26836915\n",
      " -14.47650403 -14.66521304]\n"
     ]
    },
    {
     "name": "stderr",
     "output_type": "stream",
     "text": [
      "/home/andrew/Programs/anaconda3/lib/python3.6/site-packages/ipykernel_launcher.py:1: RuntimeWarning: divide by zero encountered in log\n",
      "  \"\"\"Entry point for launching an IPython kernel.\n"
     ]
    }
   ],
   "source": [
    "t = np.log(abs(a_err_trap))\n",
    "print(t)"
   ]
  },
  {
   "cell_type": "markdown",
   "metadata": {},
   "source": [
    "### Part 3, blowing snow\n",
    "relationship between a Gaussian function and the Error Function is \n",
    "\\begin{equation}\n",
    "\\int_{-x}^x G(x) dx = \\mathrm{erf}(\\frac{x}{\\sigma \\sqrt{2}})\n",
    "\\end{equation}\n",
    "Since the Gaussian is symmetric about zero, or constant offset\n",
    "\\begin{equation}\n",
    "\\int_{0}^x G(x) dx = \\frac{1}{2}\\mathrm{erf}(\\frac{x}{\\sigma \\sqrt{2}})\n",
    "\\end{equation}\n",
    "Therefore \n",
    "\\begin{equation}\n",
    "P = \\frac{1}{2\\sqrt{2\\pi}\\delta}\\mathrm{erf}(\\frac{u_{10}}{\\sigma \\sqrt{2}})\n",
    "\\end{equation}"
   ]
  },
  {
   "cell_type": "code",
   "execution_count": 24,
   "metadata": {
    "ExecuteTime": {
     "end_time": "2018-09-28T01:48:35.408694Z",
     "start_time": "2018-09-28T01:48:35.320889Z"
    }
   },
   "outputs": [],
   "source": [
    "a_u10 = np.array([6,8,10])\n",
    "a_th = np.array([24,48,72])\n",
    "a_T = np.linspace(0,100,100)\n",
    "i_n = 100\n",
    "a_P = np.empty((len(a_th),len(a_T)))\n",
    "for i in range(len(a_th)):\n",
    "    a_meanu = 11.2*0.365*a_T + 0.00706*a_T**2 + 0.9*np.log(a_th[i])\n",
    "    a_delta = 4.3+0.145*a_T+0.00196*a_T**2\n",
    "    a_bound = a_u10[i] - a_meanu\n",
    "    a_P[i,:] = 1/(2*np.sqrt(2*np.pi)*a_delta)*a_erf_gauss_2[i]* Gaussian(errorfunction, i_n, 0,a_bound)"
   ]
  },
  {
   "cell_type": "code",
   "execution_count": 31,
   "metadata": {
    "ExecuteTime": {
     "end_time": "2018-09-28T01:49:45.315780Z",
     "start_time": "2018-09-28T01:49:45.292687Z"
    }
   },
   "outputs": [
    {
     "name": "stdout",
     "output_type": "stream",
     "text": [
      "[-2.86103811e-05 -2.76555293e-05 -2.67390896e-05 -2.58596803e-05\n",
      " -2.50159126e-05 -2.42064026e-05 -2.34297811e-05 -2.26847017e-05\n",
      " -2.19698463e-05 -2.12839309e-05 -2.06257085e-05 -1.99939722e-05\n",
      " -1.93875565e-05 -1.88053389e-05 -1.82462405e-05 -1.77092253e-05\n",
      " -1.71933011e-05 -1.66975176e-05 -1.62209669e-05 -1.57627811e-05\n",
      " -1.53221324e-05 -1.48982309e-05 -1.44903239e-05 -1.40976939e-05\n",
      " -1.37196579e-05 -1.33555654e-05 -1.30047972e-05 -1.26667642e-05\n",
      " -1.23409056e-05 -1.20266881e-05 -1.17236042e-05 -1.14311709e-05\n",
      " -1.11489291e-05 -1.08764415e-05 -1.06132925e-05 -1.03590862e-05\n",
      " -1.01134461e-05 -9.87601367e-06 -9.64644771e-06 -9.42442328e-06\n",
      " -9.20963094e-06 -9.00177595e-06 -8.80057750e-06 -8.60576802e-06\n",
      " -8.41709243e-06 -8.23430760e-06 -8.05718164e-06 -7.88549338e-06\n",
      " -7.71903179e-06 -7.55759551e-06 -7.40099229e-06 -7.24903859e-06\n",
      " -7.10155908e-06 -6.95838628e-06 -6.81936015e-06 -6.68432770e-06\n",
      " -6.55314264e-06 -6.42566507e-06 -6.30176115e-06 -6.18130280e-06\n",
      " -6.06416742e-06 -5.95023763e-06 -5.83940101e-06 -5.73154985e-06\n",
      " -5.62658096e-06 -5.52439540e-06 -5.42489833e-06 -5.32799877e-06\n",
      " -5.23360948e-06 -5.14164670e-06 -5.05203008e-06 -4.96468245e-06\n",
      " -4.87952971e-06 -4.79650067e-06 -4.71552694e-06 -4.63654280e-06\n",
      " -4.55948505e-06 -4.48429292e-06 -4.41090799e-06 -4.33927401e-06\n",
      " -4.26933689e-06 -4.20104456e-06 -4.13434686e-06 -4.06919552e-06\n",
      " -4.00554402e-06 -3.94334757e-06 -3.88256297e-06 -3.82314859e-06\n",
      " -3.76506432e-06 -3.70827144e-06 -3.65273263e-06 -3.59841186e-06\n",
      " -3.54527439e-06 -3.49328667e-06 -3.44241629e-06 -3.39263200e-06\n",
      " -3.34390359e-06 -3.29620186e-06 -3.24949862e-06 -3.20376663e-06]\n"
     ]
    }
   ],
   "source": [
    "\n",
    "print(a_P[0,:]-a_P[1,:])"
   ]
  },
  {
   "cell_type": "code",
   "execution_count": 40,
   "metadata": {
    "ExecuteTime": {
     "end_time": "2018-09-28T01:51:26.378471Z",
     "start_time": "2018-09-28T01:51:26.018936Z"
    }
   },
   "outputs": [
    {
     "name": "stdout",
     "output_type": "stream",
     "text": [
      "0\n",
      "1\n",
      "2\n"
     ]
    },
    {
     "data": {
      "image/png": "[encoded data removed]",
      "text/plain": [
       "<Figure size 1080x1080 with 1 Axes>"
      ]
     },
     "metadata": {},
     "output_type": "display_data"
    }
   ],
   "source": [
    "plt.figure(figsize = (15,15))\n",
    "for i in range(len(a_th)):\n",
    "    print(i)\n",
    "    plt.scatter(a_T, a_P[i,:])\n",
    "plt.show()"
   ]
  },
  {
   "cell_type": "code",
   "execution_count": null,
   "metadata": {},
   "outputs": [],
   "source": []
  }
 ],
 "metadata": {
  "kernelspec": {
   "display_name": "Python 3",
   "language": "python",
   "name": "python3"
  },
  "language_info": {
   "codemirror_mode": {
    "name": "ipython",
    "version": 3
   },
   "file_extension": ".py",
   "mimetype": "text/x-python",
   "name": "python",
   "nbconvert_exporter": "python",
   "pygments_lexer": "ipython3",
   "version": "3.6.5"
  },
  "varInspector": {
   "cols": {
    "lenName": 16,
    "lenType": 16,
    "lenVar": 40
   },
   "kernels_config": {
    "python": {
     "delete_cmd_postfix": "",
     "delete_cmd_prefix": "del ",
     "library": "var_list.py",
     "varRefreshCmd": "print(var_dic_list())"
    },
    "r": {
     "delete_cmd_postfix": ") ",
     "delete_cmd_prefix": "rm(",
     "library": "var_list.r",
     "varRefreshCmd": "cat(var_dic_list()) "
    }
   },
   "types_to_exclude": [
    "module",
    "function",
    "builtin_function_or_method",
    "instance",
    "_Feature"
   ],
   "window_display": false
  }
 },
 "nbformat": 4,
 "nbformat_minor": 2
}
