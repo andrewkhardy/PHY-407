{
 "cells": [
  {
   "cell_type": "markdown",
   "metadata": {},
   "source": [
    "## Question 1: Gaussian Quadrature\n",
    "\\begin{equation}\n",
    "    \\mathrm{erf}(3) = \\frac{2}{\\sqrt{\\pi}} \\int_0^3 e^{-t^2}\\mathrm{d}t\n",
    "\\end{equation}"
   ]
  },
  {
   "cell_type": "code",
   "execution_count": 59,
   "metadata": {
    "ExecuteTime": {
     "end_time": "2018-09-28T05:00:07.733408Z",
     "start_time": "2018-09-28T05:00:07.728074Z"
    }
   },
   "outputs": [],
   "source": [
    "#PART A\n",
    "# Andrew Hardy\n",
    "#i) \n",
    "#import packages\n",
    "import numpy as np\n",
    "from scipy.special import erf\n",
    "from gaussxw import gaussxw\n",
    "import matplotlib.pyplot as plt\n",
    "import seaborn as sns\n",
    "sns.set()"
   ]
  },
  {
   "cell_type": "code",
   "execution_count": 60,
   "metadata": {
    "ExecuteTime": {
     "end_time": "2018-09-28T05:00:08.228777Z",
     "start_time": "2018-09-28T05:00:08.207942Z"
    }
   },
   "outputs": [],
   "source": [
    "# defining variables taken from Q2.A from Lab 2, done by Brayden.\n",
    "#define a function for Trapezoid rule \n",
    "def Trapezoid(function, i_N, f_a, f_b):\n",
    "    \"\"\"\n",
    "    A function for performing numerical integration of the mathematical function \n",
    "    the trapezoid rule for N steps between a and b.\n",
    "    INPUT:\n",
    "    function [function handle of single variable] is the function whose integral is to be numerically approximated \n",
    "    N [int] number of steps\n",
    "    a [float] lower bound of integration\n",
    "    b [float] upper bound of integration\n",
    "    \"\"\"\n",
    "    f_h = (f_b-f_a)/i_N #width of slices\n",
    "    f_s = 0.5*function(f_a) + 0.5*function(f_b) #the constant terms in the series expansion defining the trapezoid rule as in equation 5.3 of Newman\n",
    "\n",
    "    for j in range(1,i_N):\n",
    "        f_s += function(f_a+j*f_h)\n",
    "        \n",
    "    f_integral = f_h*f_s\n",
    "    return f_integral\n",
    "\n",
    "#define a function for Simpson's rule\n",
    "def Simpson(function, i_N, f_a, f_b):\n",
    "    \"\"\"\n",
    "    A function for performing numerical integration of the mathematical function according to\n",
    "    Simpson's rule for N steps between a and b.\n",
    "    INPUT:\n",
    "    function [function handle of single variable] is the function whose integral is to be numerically approximated \n",
    "    N [int] number of steps\n",
    "    a [float] lower bound of integration\n",
    "    b [float] upper bound of integration\n",
    "    \"\"\"\n",
    "    f_h = (f_b-f_a)/i_N #width of slices\n",
    "    f_s = function(f_a) + function(f_b) #the constant terms in the series expansion defining the trapezoid rule as in equation 5.3 of Newman\n",
    "    \n",
    "    for k in range(1,i_N,2): #loop over odd terms\n",
    "        f_s += 4*function(f_a+k*f_h)\n",
    "    for k in range(2,i_N,2): #loop over even terms\n",
    "        f_s += 2*function(f_a+k*f_h)\n",
    "        \n",
    "    f_integral = f_h*f_s/3\n",
    "    return f_integral\n",
    "def Gaussian(function, i_N, f_a, f_b):\n",
    "    \"\"\"\n",
    "    A function for performing numerical integration of the mathematical function according to\n",
    "    Gaussian Quadrature for N steps between a and b. Basically ripped off Newman's gaussint.py\n",
    "    INPUT:\n",
    "    function [function handle of single variable] is the function whose integral is to be numerically approximated \n",
    "    N [int] number of steps\n",
    "    a [float] lower bound of integration\n",
    "    b [float] upper bound of integration\n",
    "    \"\"\"\n",
    "    f_x,f_w = gaussxw(i_N)\n",
    "    f_xp = 0.5*(f_b-f_a)*f_x + 0.5*(f_b+f_a)\n",
    "    f_wp = 0.5*(f_b-f_a)*f_w\n",
    "\n",
    "    # Perform the integration\n",
    "    f_s = 0.0\n",
    "    for k in range(i_N):\n",
    "        f_s += f_wp[k]*function(f_xp[k])\n",
    "    return f_s\n"
   ]
  },
  {
   "cell_type": "code",
   "execution_count": 61,
   "metadata": {
    "ExecuteTime": {
     "end_time": "2018-09-28T05:00:09.134546Z",
     "start_time": "2018-09-28T05:00:09.130142Z"
    }
   },
   "outputs": [],
   "source": [
    "#define function to be integrated\n",
    "def errorfunction(f_t):\n",
    "    return 2/np.sqrt(np.pi)*np.exp(-f_t**2) # define the Error function"
   ]
  },
  {
   "cell_type": "code",
   "execution_count": 62,
   "metadata": {
    "ExecuteTime": {
     "end_time": "2018-09-28T05:00:33.929307Z",
     "start_time": "2018-09-28T05:00:12.135095Z"
    },
    "scrolled": false
   },
   "outputs": [],
   "source": [
    "i_length = int((1000-8)/2+1)\n",
    "a_erf_trap = np.empty(i_length)\n",
    "a_erf_simp = np.empty(i_length)\n",
    "a_erf_gauss = np.empty(i_length)\n",
    "a_N = np.empty(i_length)\n",
    "# define several empty arrays to be filled with a sampling of points from N = 8, 1000 by even numbers\n",
    "\n",
    "t = np.empty(10000)\n",
    "i = 8\n",
    "j = 0\n",
    "while i<=1000:\n",
    "    a_N[j] = i\n",
    "    a_erf_trap[j-8] = Trapezoid(errorfunction, i,0,3)\n",
    "    a_erf_simp[j-8] = Simpson(errorfunction, i, 0,3)\n",
    "    a_erf_gauss[j-8] = Gaussian(errorfunction, i, 0,3)\n",
    "    i += 2\n",
    "    j += 1"
   ]
  },
  {
   "cell_type": "code",
   "execution_count": 11,
   "metadata": {
    "ExecuteTime": {
     "end_time": "2018-09-28T01:44:36.782523Z",
     "start_time": "2018-09-28T01:44:36.777063Z"
    }
   },
   "outputs": [
    {
     "name": "stdout",
     "output_type": "stream",
     "text": [
      "Trapezoid rule evaluation of erf(3) for 8<N<1000:\n",
      "Simpson rule evaluation of erf(3) for 8<N<1000:\n",
      "Gaussian quadrature evaluation of erf(3) for 8<N<1000:\n"
     ]
    }
   ],
   "source": [
    "print('Trapezoid rule evaluation of erf(3) for 8<N<1000:')\n",
    "#print(a_erf_trap)\n",
    "print('Simpson rule evaluation of erf(3) for 8<N<1000:')\n",
    "#print(a_erf_simp)\n",
    "print('Gaussian quadrature evaluation of erf(3) for 8<N<1000:')\n",
    "#print(a_erf_gauss)"
   ]
  },
  {
   "cell_type": "code",
   "execution_count": 12,
   "metadata": {
    "ExecuteTime": {
     "end_time": "2018-09-28T01:44:36.839929Z",
     "start_time": "2018-09-28T01:44:36.831578Z"
    }
   },
   "outputs": [
    {
     "name": "stdout",
     "output_type": "stream",
     "text": [
      "Mean value for erf(3) with Trapezoid rule was 0.9999778231853969 with standard deviation of 5.715079892948464e-07\n",
      "Mean value for erf(3) with Simpson rule was 0.9999779012620776 with standard deviation of 9.939718061538508e-08\n",
      "Mean value for erf(3) with Gaussian quadrature was 0.9999779095625705 with standard deviation of 1.3022291594138554e-09\n"
     ]
    }
   ],
   "source": [
    "# Brayden I don't think this is necessary or useful? \n",
    "mn_trap = np.mean(a_erf_trap)\n",
    "mn_simp = np.mean(a_erf_simp)\n",
    "mn_gauss = np.mean(a_erf_gauss)\n",
    "sd_trap = np.std(a_erf_trap)\n",
    "sd_simp = np.std(a_erf_simp)\n",
    "sd_gauss = np.std(a_erf_gauss)\n",
    "print('Mean value for erf(3) with Trapezoid rule was {0} with standard deviation of {1}'.format(mn_trap, sd_trap))\n",
    "print('Mean value for erf(3) with Simpson rule was {0} with standard deviation of {1}'.format(mn_simp, sd_simp))\n",
    "print('Mean value for erf(3) with Gaussian quadrature was {0} with standard deviation of {1}'.format(mn_gauss, sd_gauss))"
   ]
  },
  {
   "cell_type": "code",
   "execution_count": 57,
   "metadata": {
    "ExecuteTime": {
     "end_time": "2018-09-28T04:22:00.769275Z",
     "start_time": "2018-09-28T04:22:00.764943Z"
    }
   },
   "outputs": [],
   "source": [
    "#1b)\n",
    "#relative error of  compared to the Scipy true value\n",
    "f_true = erf(3)\n",
    "a_rel_simp = (a_erf_simp - f_true)/f_true\n",
    "a_rel_trap = (a_erf_trap - f_true)/f_true\n",
    "a_rel_gauss = (a_erf_gauss - f_true)//f_true"
   ]
  },
  {
   "cell_type": "code",
   "execution_count": 13,
   "metadata": {
    "ExecuteTime": {
     "end_time": "2018-09-28T01:45:11.110821Z",
     "start_time": "2018-09-28T01:44:36.897106Z"
    },
    "scrolled": true
   },
   "outputs": [],
   "source": [
    "#1b)\n",
    "#get practical error of Gauss, trap, simp\n",
    "a_N2 = 2*a_N    # double the size of N \n",
    "a_N1 = a_N//2   # Half the Size of N, I think this is then 1/4??\n",
    "# Defining empty arrays\n",
    "a_erf_gauss_2 = np.empty(len(a_N2))\n",
    "a_erf_simp_1 = np.empty(len(a_N1))\n",
    "a_erf_trap_1 = np.empty(len(a_N1))\n",
    "for i in range(len(a_N2)):\n",
    "    #gauss\n",
    "    i_n = int(a_N2[i])\n",
    "    a_erf_gauss_2[i] = Gaussian(errorfunction, i_n, 0,3)\n",
    "    #trap\n",
    "    i_n_p = int(a_N1[i])\n",
    "    a_erf_trap_1[i] = Trapezoid(errorfunction, i_n, 0, 3)\n",
    "    #simp\n",
    "    a_erf_simp_1[i] = Simpson(errorfunction, i_n, 0, 3)\n",
    "    \n",
    "a_err_gauss = a_erf_gauss_2 - a_erf_gauss\n",
    "a_err_trap = (a_erf_trap - a_erf_trap_1)/3\n",
    "a_err_simp = (a_erf_simp - a_erf_simp_1)/15\n"
   ]
  },
  {
   "cell_type": "code",
   "execution_count": 58,
   "metadata": {
    "ExecuteTime": {
     "end_time": "2018-09-28T04:23:00.364828Z",
     "start_time": "2018-09-28T04:22:59.461822Z"
    },
    "scrolled": false
   },
   "outputs": [
    {
     "data": {
      "text/plain": [
       "<matplotlib.legend.Legend at 0x7f4b79431c18>"
      ]
     },
     "execution_count": 58,
     "metadata": {},
     "output_type": "execute_result"
    },
    {
     "data": {
      "image/png": "[encoded data removed]",
      "text/plain": [
       "<Figure size 1008x1008 with 1 Axes>"
      ]
     },
     "metadata": {},
     "output_type": "display_data"
    }
   ],
   "source": [
    "\n",
    "# plotting function of the three methods\n",
    "plt.figure(figsize = (14,14))\n",
    "plt.yscale('log')\n",
    "plt.scatter(a_N, abs(a_rel_trap), s = 4, label = 'Trapezoid')\n",
    "plt.xlabel('Steps/Slices')\n",
    "plt.ylabel('Error')\n",
    "plt.title('Error vs. Steps/Slices')\n",
    "plt.legend()\n",
    "\n",
    "#plt.figure()\n",
    "plt.yscale('log')\n",
    "plt.scatter(a_N, abs(a_rel_simp), s = 4,label = 'Simpson')\n",
    "plt.xlabel('Steps/Slices')\n",
    "plt.ylabel('Error')\n",
    "plt.title('Error vs. Steps/Slices')\n",
    "#plt.legend()\n",
    "\n",
    "#plt.figure()\n",
    "plt.yscale('log')\n",
    "plt.scatter(a_N, abs(a_rel_gauss),s = 4, label = 'Gaussian')\n",
    "plt.xlabel('Steps/Slices')\n",
    "plt.ylabel('Error')\n",
    "plt.title('Error vs. Steps/Slices')\n",
    "plt.legend()"
   ]
  },
  {
   "cell_type": "code",
   "execution_count": 16,
   "metadata": {
    "ExecuteTime": {
     "end_time": "2018-09-28T01:45:12.457449Z",
     "start_time": "2018-09-28T01:45:12.447789Z"
    }
   },
   "outputs": [
    {
     "name": "stdout",
     "output_type": "stream",
     "text": [
      "-2.14242045531302e-08\n",
      "-5.080091658613065e-10\n",
      "-5.956925272750222e-11\n",
      "1.898264394564778e-07\n",
      "6.640031109289699e-09\n",
      "1.3022291162422363e-09\n"
     ]
    }
   ],
   "source": [
    "print(np.mean(a_err_trap))\n",
    "print(np.mean(a_err_simp))\n",
    "print(np.mean(a_err_gauss))\n",
    "print(np.std(a_err_trap))\n",
    "print(np.std(a_err_simp))\n",
    "print(np.std(a_err_gauss))"
   ]
  },
  {
   "cell_type": "markdown",
   "metadata": {},
   "source": [
    "### Part 3, blowing snow\n",
    "relationship between a Gaussian function and the Error Function is \n",
    "\\begin{equation}\n",
    "\\int_{-x}^x G(x) dx = \\mathrm{erf}(\\frac{x}{\\sigma \\sqrt{2}})\n",
    "\\end{equation}\n",
    "Since the Gaussian is symmetric about zero, or constant offset\n",
    "\\begin{equation}\n",
    "\\int_{0}^x G(x) dx = \\frac{1}{2}\\mathrm{erf}(\\frac{x}{\\sigma \\sqrt{2}})\n",
    "\\end{equation}\n",
    "Therefore \n",
    "\\begin{equation}\n",
    "P = \\frac{1}{2\\sqrt{2\\pi}\\delta}\\mathrm{erf}(\\frac{u_{10}}{\\sigma \\sqrt{2}})\n",
    "\\end{equation}"
   ]
  },
  {
   "cell_type": "code",
   "execution_count": 24,
   "metadata": {
    "ExecuteTime": {
     "end_time": "2018-09-28T01:48:35.408694Z",
     "start_time": "2018-09-28T01:48:35.320889Z"
    }
   },
   "outputs": [],
   "source": [
    "# defining constants\n",
    "a_u10 = np.array([6,8,10])  \n",
    "a_th = np.array([24,48,72])\n",
    "a_T = np.linspace(0,100,100)\n",
    "i_n = 100\n",
    "a_P = np.empty((len(a_th),len(a_T)))\n",
    "for i in range(len(a_th)):\n",
    "    a_meanu = 11.2*0.365*a_T + 0.00706*a_T**2 + 0.9*np.log(a_th[i])\n",
    "    a_delta = 4.3+0.145*a_T+0.00196*a_T**2\n",
    "    a_bound = a_u10[i] - a_meanu\n",
    "    a_P[i,:] = 1/(2*np.sqrt(2*np.pi)*a_delta)*a_erf_gauss_2[i]* Gaussian(errorfunction, i_n, 0,a_bound)"
   ]
  },
  {
   "cell_type": "code",
   "execution_count": 31,
   "metadata": {
    "ExecuteTime": {
     "end_time": "2018-09-28T01:49:45.315780Z",
     "start_time": "2018-09-28T01:49:45.292687Z"
    }
   },
   "outputs": [
    {
     "name": "stdout",
     "output_type": "stream",
     "text": [
      "[-2.86103811e-05 -2.76555293e-05 -2.67390896e-05 -2.58596803e-05\n",
      " -2.50159126e-05 -2.42064026e-05 -2.34297811e-05 -2.26847017e-05\n",
      " -2.19698463e-05 -2.12839309e-05 -2.06257085e-05 -1.99939722e-05\n",
      " -1.93875565e-05 -1.88053389e-05 -1.82462405e-05 -1.77092253e-05\n",
      " -1.71933011e-05 -1.66975176e-05 -1.62209669e-05 -1.57627811e-05\n",
      " -1.53221324e-05 -1.48982309e-05 -1.44903239e-05 -1.40976939e-05\n",
      " -1.37196579e-05 -1.33555654e-05 -1.30047972e-05 -1.26667642e-05\n",
      " -1.23409056e-05 -1.20266881e-05 -1.17236042e-05 -1.14311709e-05\n",
      " -1.11489291e-05 -1.08764415e-05 -1.06132925e-05 -1.03590862e-05\n",
      " -1.01134461e-05 -9.87601367e-06 -9.64644771e-06 -9.42442328e-06\n",
      " -9.20963094e-06 -9.00177595e-06 -8.80057750e-06 -8.60576802e-06\n",
      " -8.41709243e-06 -8.23430760e-06 -8.05718164e-06 -7.88549338e-06\n",
      " -7.71903179e-06 -7.55759551e-06 -7.40099229e-06 -7.24903859e-06\n",
      " -7.10155908e-06 -6.95838628e-06 -6.81936015e-06 -6.68432770e-06\n",
      " -6.55314264e-06 -6.42566507e-06 -6.30176115e-06 -6.18130280e-06\n",
      " -6.06416742e-06 -5.95023763e-06 -5.83940101e-06 -5.73154985e-06\n",
      " -5.62658096e-06 -5.52439540e-06 -5.42489833e-06 -5.32799877e-06\n",
      " -5.23360948e-06 -5.14164670e-06 -5.05203008e-06 -4.96468245e-06\n",
      " -4.87952971e-06 -4.79650067e-06 -4.71552694e-06 -4.63654280e-06\n",
      " -4.55948505e-06 -4.48429292e-06 -4.41090799e-06 -4.33927401e-06\n",
      " -4.26933689e-06 -4.20104456e-06 -4.13434686e-06 -4.06919552e-06\n",
      " -4.00554402e-06 -3.94334757e-06 -3.88256297e-06 -3.82314859e-06\n",
      " -3.76506432e-06 -3.70827144e-06 -3.65273263e-06 -3.59841186e-06\n",
      " -3.54527439e-06 -3.49328667e-06 -3.44241629e-06 -3.39263200e-06\n",
      " -3.34390359e-06 -3.29620186e-06 -3.24949862e-06 -3.20376663e-06]\n"
     ]
    }
   ],
   "source": [
    "\n",
    "print(a_P[0,:]-a_P[1,:])"
   ]
  },
  {
   "cell_type": "code",
   "execution_count": 40,
   "metadata": {
    "ExecuteTime": {
     "end_time": "2018-09-28T01:51:26.378471Z",
     "start_time": "2018-09-28T01:51:26.018936Z"
    }
   },
   "outputs": [
    {
     "name": "stdout",
     "output_type": "stream",
     "text": [
      "0\n",
      "1\n",
      "2\n"
     ]
    },
    {
     "data": {
      "image/png": "[encoded data removed]",
      "text/plain": [
       "<Figure size 1080x1080 with 1 Axes>"
      ]
     },
     "metadata": {},
     "output_type": "display_data"
    }
   ],
   "source": [
    "plt.figure(figsize = (15,15))\n",
    "for i in range(len(a_th)):\n",
    "    print(i)\n",
    "    plt.scatter(a_T, a_P[i,:])\n",
    "plt.show()"
   ]
  },
  {
   "cell_type": "code",
   "execution_count": null,
   "metadata": {},
   "outputs": [],
   "source": []
  }
 ],
 "metadata": {
  "kernelspec": {
   "display_name": "Python 3",
   "language": "python",
   "name": "python3"
  },
  "language_info": {
   "codemirror_mode": {
    "name": "ipython",
    "version": 3
   },
   "file_extension": ".py",
   "mimetype": "text/x-python",
   "name": "python",
   "nbconvert_exporter": "python",
   "pygments_lexer": "ipython3",
   "version": "3.6.5"
  },
  "varInspector": {
   "cols": {
    "lenName": 16,
    "lenType": 16,
    "lenVar": 40
   },
   "kernels_config": {
    "python": {
     "delete_cmd_postfix": "",
     "delete_cmd_prefix": "del ",
     "library": "var_list.py",
     "varRefreshCmd": "print(var_dic_list())"
    },
    "r": {
     "delete_cmd_postfix": ") ",
     "delete_cmd_prefix": "rm(",
     "library": "var_list.r",
     "varRefreshCmd": "cat(var_dic_list()) "
    }
   },
   "types_to_exclude": [
    "module",
    "function",
    "builtin_function_or_method",
    "instance",
    "_Feature"
   ],
   "window_display": false
  }
 },
 "nbformat": 4,
 "nbformat_minor": 2
}
