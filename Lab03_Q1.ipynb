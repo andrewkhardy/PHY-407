{
 "cells": [
  {
   "cell_type": "markdown",
   "metadata": {},
   "source": [
    "## Question 1: Gaussian Quadrature\n",
    "\\begin{equation}\n",
    "    \\mathrm{erf}(3) = \\frac{2}{\\sqrt{\\pi}} \\int_0^3 e^{-t^2}\\mathrm{d}t\n",
    "\\end{equation}"
   ]
  },
  {
   "cell_type": "code",
   "execution_count": 1,
   "metadata": {
    "ExecuteTime": {
     "end_time": "2018-09-26T03:30:09.928596Z",
     "start_time": "2018-09-26T03:30:09.586597Z"
    }
   },
   "outputs": [],
   "source": [
    "#PART A\n",
    "# Andrew Hardy\n",
    "#i) \n",
    "#import packages\n",
    "import numpy as np\n",
    "from scipy.special import erf\n",
    "from gaussxw import gaussxw\n",
    "import matplotlib.pyplot as plt\n"
   ]
  },
  {
   "cell_type": "code",
   "execution_count": 2,
   "metadata": {
    "ExecuteTime": {
     "end_time": "2018-09-26T03:40:55.624644Z",
     "start_time": "2018-09-26T03:40:55.617471Z"
    }
   },
   "outputs": [],
   "source": [
    "# defining variables taken from Q2.A from Lab 2, done by Brayden.\n",
    "#define a function for Trapezoid rule \n",
    "def Trapezoid(function, i_N, f_a, f_b):\n",
    "    \"\"\"\n",
    "    A function for performing numerical integration of the mathematical function \n",
    "    the trapezoid rule for N steps between a and b.\n",
    "    INPUT:\n",
    "    function [function handle of single variable] is the function whose integral is to be numerically approximated \n",
    "    N [int] number of steps\n",
    "    a [float] lower bound of integration\n",
    "    b [float] upper bound of integration\n",
    "    \"\"\"\n",
    "    f_h = (f_b-f_a)/i_N #width of slices\n",
    "    f_s = 0.5*function(f_a) + 0.5*function(f_b) #the constant terms in the series expansion defining the trapezoid rule as in equation 5.3 of Newman\n",
    "\n",
    "    for j in range(1,i_N):\n",
    "        f_s += function(f_a+j*f_h)\n",
    "        \n",
    "    f_integral = f_h*f_s\n",
    "    return f_integral\n",
    "\n",
    "#define a function for Simpson's rule\n",
    "def Simpson(function, i_N, f_a, f_b):\n",
    "    \"\"\"\n",
    "    A function for performing numerical integration of the mathematical function according to\n",
    "    Simpson's rule for N steps between a and b.\n",
    "    INPUT:\n",
    "    function [function handle of single variable] is the function whose integral is to be numerically approximated \n",
    "    N [int] number of steps\n",
    "    a [float] lower bound of integration\n",
    "    b [float] upper bound of integration\n",
    "    \"\"\"\n",
    "    f_h = (f_b-f_a)/i_N #width of slices\n",
    "    f_s = function(f_a) + function(f_b) #the constant terms in the series expansion defining the trapezoid rule as in equation 5.3 of Newman\n",
    "    \n",
    "    for k in range(1,i_N,2): #loop over odd terms\n",
    "        f_s += 4*function(f_a+k*f_h)\n",
    "    for k in range(2,i_N,2): #loop over even terms\n",
    "        f_s += 2*function(f_a+k*f_h)\n",
    "        \n",
    "    f_integral = f_h*f_s/3\n",
    "    return f_integral\n",
    "def Gaussian(function, i_N, f_a, f_b):\n",
    "    \"\"\"\n",
    "    A function for performing numerical integration of the mathematical function according to\n",
    "    Gaussian Quadrature for N steps between a and b. Basically ripped off Newman's gaussint.py\n",
    "    INPUT:\n",
    "    function [function handle of single variable] is the function whose integral is to be numerically approximated \n",
    "    N [int] number of steps\n",
    "    a [float] lower bound of integration\n",
    "    b [float] upper bound of integration\n",
    "    \"\"\"\n",
    "    f_x,f_w = gaussxw(i_N)\n",
    "    f_xp = 0.5*(f_b-f_a)*f_x + 0.5*(f_b+f_a)\n",
    "    f_wp = 0.5*(f_b-f_a)*f_w\n",
    "\n",
    "    # Perform the integration\n",
    "    f_s = 0.0\n",
    "    for k in range(i_N):\n",
    "        f_s += f_wp[k]*function(f_xp[k])\n",
    "    return f_s\n"
   ]
  },
  {
   "cell_type": "code",
   "execution_count": 3,
   "metadata": {
    "ExecuteTime": {
     "end_time": "2018-09-26T03:40:55.724594Z",
     "start_time": "2018-09-26T03:40:55.721463Z"
    }
   },
   "outputs": [],
   "source": [
    "#define function to be integrated\n",
    "def errorfunction(f_t):\n",
    "    return 2/np.sqrt(np.pi)*np.exp(-f_t**2)"
   ]
  },
  {
   "cell_type": "code",
   "execution_count": 4,
   "metadata": {
    "ExecuteTime": {
     "end_time": "2018-09-26T03:41:19.332572Z",
     "start_time": "2018-09-26T03:40:55.809034Z"
    },
    "scrolled": false
   },
   "outputs": [],
   "source": [
    "i_length = int((1000-8)/2+1)\n",
    "a_erf_trap = np.empty(i_length)\n",
    "a_erf_simp = np.empty(i_length)\n",
    "a_erf_gauss = np.empty(i_length)\n",
    "a_N = np.empty(i_length)\n",
    "\n",
    "t = np.empty(10000)\n",
    "i = 8\n",
    "j = 0\n",
    "while i<=1000:\n",
    "    a_N[j] = i\n",
    "    a_erf_trap[j-8] = Trapezoid(errorfunction, i,0,3)\n",
    "    a_erf_simp[j-8] = Simpson(errorfunction, i, 0,3)\n",
    "    a_erf_gauss[j-8] = Gaussian(errorfunction, i, 0,3)\n",
    "    i += 2\n",
    "    j += 1"
   ]
  },
  {
   "cell_type": "code",
   "execution_count": 5,
   "metadata": {},
   "outputs": [
    {
     "name": "stdout",
     "output_type": "stream",
     "text": [
      "Trapezoid rule evaluation of erf(3) for 8<N<1000:\n",
      "Simpson rule evaluation of erf(3) for 8<N<1000:\n",
      "Gaussian quadrature evaluation of erf(3) for 8<N<1000:\n"
     ]
    }
   ],
   "source": [
    "print('Trapezoid rule evaluation of erf(3) for 8<N<1000:')\n",
    "#print(a_erf_trap)\n",
    "print('Simpson rule evaluation of erf(3) for 8<N<1000:')\n",
    "#print(a_erf_simp)\n",
    "print('Gaussian quadrature evaluation of erf(3) for 8<N<1000:')\n",
    "#print(a_erf_gauss)"
   ]
  },
  {
   "cell_type": "code",
   "execution_count": 6,
   "metadata": {},
   "outputs": [
    {
     "name": "stdout",
     "output_type": "stream",
     "text": [
      "Mean value for erf(3) with Trapezoid rule was 0.9999778231853969 with standard deviation of 5.715079892949293e-07\n",
      "Mean value for erf(3) with Simpson rule was 0.9999779012620776 with standard deviation of 9.939718061536657e-08\n",
      "Mean value for erf(3) with Gaussian quadrature was 0.9999779095625705 with standard deviation of 1.3022291593934176e-09\n"
     ]
    }
   ],
   "source": [
    "mn_trap = np.mean(a_erf_trap)\n",
    "mn_simp = np.mean(a_erf_simp)\n",
    "mn_gauss = np.mean(a_erf_gauss)\n",
    "sd_trap = np.std(a_erf_trap)\n",
    "sd_simp = np.std(a_erf_simp)\n",
    "sd_gauss = np.std(a_erf_gauss)\n",
    "print('Mean value for erf(3) with Trapezoid rule was {0} with standard deviation of {1}'.format(mn_trap, sd_trap))\n",
    "print('Mean value for erf(3) with Simpson rule was {0} with standard deviation of {1}'.format(mn_simp, sd_simp))\n",
    "print('Mean value for erf(3) with Gaussian quadrature was {0} with standard deviation of {1}'.format(mn_gauss, sd_gauss))"
   ]
  },
  {
   "cell_type": "code",
   "execution_count": 7,
   "metadata": {
    "scrolled": true
   },
   "outputs": [],
   "source": [
    "#1b)\n",
    "#get error of Gauss, trap, simp\n",
    "a_N2 = 2*a_N\n",
    "a_N1 = a_N//2\n",
    "a_erf_gauss_2 = np.empty(len(a_N2))\n",
    "a_erf_simp_1 = np.empty(len(a_N1))\n",
    "a_erf_trap_1 = np.empty(len(a_N1))\n",
    "for i in range(len(a_N2)):\n",
    "    #gauss\n",
    "    i_n = int(a_N2[i])\n",
    "    a_erf_gauss_2[i] = Gaussian(errorfunction, i_n, 0,3)\n",
    "    #trap\n",
    "    i_n_p = int(a_N1[i])\n",
    "    a_erf_trap_1[i] = Trapezoid(errorfunction, i_n, 0, 3)\n",
    "    #simp\n",
    "    a_erf_simp_1[i] = Simpson(errorfunction, i_n, 0, 3)\n",
    "    \n",
    "a_err_gauss = a_erf_gauss_2 - a_erf_gauss\n",
    "a_err_trap = (a_erf_trap - a_erf_trap_1)/3\n",
    "a_err_simp = (a_erf_simp - a_erf_simp_1)/15\n"
   ]
  },
  {
   "cell_type": "code",
   "execution_count": 33,
   "metadata": {},
   "outputs": [
    {
     "name": "stdout",
     "output_type": "stream",
     "text": [
      "[-4.10782519e-15 -8.54871729e-15  8.65973959e-15 -4.99600361e-15\n",
      "  0.00000000e+00 -5.55111512e-16  9.99200722e-16 -3.88578059e-15\n",
      " -2.44249065e-15  7.10542736e-15  4.10782519e-15  2.66453526e-15\n",
      "  2.44249065e-15  1.77635684e-15  1.33226763e-15 -3.33066907e-15\n",
      " -1.66533454e-15 -3.88578059e-15 -7.77156117e-16 -1.66533454e-15\n",
      " -1.11022302e-16  4.44089210e-16  1.11022302e-16 -9.99200722e-16\n",
      " -4.44089210e-16 -1.11022302e-16  4.44089210e-15  3.88578059e-15\n",
      "  3.66373598e-15  2.88657986e-15  2.99760217e-15  1.11022302e-15\n",
      "  1.22124533e-15  8.88178420e-16  1.66533454e-15  2.33146835e-15\n",
      "  5.55111512e-16 -1.55431223e-15 -3.55271368e-15 -3.21964677e-15\n",
      " -1.44328993e-15 -8.88178420e-16  1.11022302e-16 -1.99840144e-15\n",
      " -3.33066907e-16 -1.22124533e-15  1.11022302e-16 -1.33226763e-15\n",
      " -6.66133815e-16  1.66533454e-15 -5.55111512e-16 -1.77635684e-15\n",
      " -8.88178420e-16 -3.33066907e-16 -4.44089210e-16  3.33066907e-16\n",
      " -1.11022302e-16  1.11022302e-16  6.66133815e-16 -9.99200722e-16\n",
      "  2.22044605e-16 -5.55111512e-16 -6.66133815e-16  2.22044605e-16\n",
      " -5.55111512e-16 -1.33226763e-15  6.66133815e-16  4.44089210e-16\n",
      " -2.22044605e-16  2.22044605e-15  3.55271368e-15  2.66453526e-15\n",
      "  3.55271368e-15  1.99840144e-15  2.77555756e-15  9.99200722e-16\n",
      "  3.44169138e-15  1.44328993e-15  1.44328993e-15  5.55111512e-16\n",
      "  1.11022302e-16  2.10942375e-15  1.99840144e-15  1.11022302e-15\n",
      "  1.11022302e-15  1.11022302e-15  9.99200722e-16  1.55431223e-15\n",
      "  7.77156117e-16  1.11022302e-15  9.99200722e-16  1.11022302e-16\n",
      "  1.33226763e-15  1.22124533e-15 -4.44089210e-16 -7.77156117e-16\n",
      "  5.55111512e-16  8.88178420e-16  1.66533454e-15  6.66133815e-16\n",
      "  0.00000000e+00 -2.22044605e-16  8.88178420e-16  0.00000000e+00\n",
      " -1.11022302e-16  2.22044605e-16 -3.33066907e-16  2.22044605e-16\n",
      " -5.55111512e-16  7.77156117e-16  1.11022302e-16  9.99200722e-16\n",
      " -7.77156117e-16  0.00000000e+00  9.99200722e-16  5.55111512e-16\n",
      "  3.33066907e-16 -6.66133815e-16  4.44089210e-16  3.33066907e-16\n",
      "  7.77156117e-16  4.44089210e-16  1.11022302e-15 -2.22044605e-16\n",
      "  1.11022302e-16 -2.22044605e-16 -4.44089210e-16  0.00000000e+00\n",
      " -2.99760217e-15 -1.11022302e-15 -1.33226763e-15 -4.44089210e-16\n",
      " -8.88178420e-16 -4.44089210e-16 -1.55431223e-15  1.11022302e-16\n",
      " -7.77156117e-16 -1.44328993e-15 -1.88737914e-15 -3.33066907e-16\n",
      " -5.55111512e-16  3.33066907e-16 -7.77156117e-16  7.77156117e-16\n",
      " -3.33066907e-16  5.55111512e-16  5.55111512e-16  6.66133815e-16\n",
      " -1.11022302e-16 -3.33066907e-16  2.22044605e-16 -7.77156117e-16\n",
      "  4.44089210e-16 -4.44089210e-16  0.00000000e+00  8.88178420e-16\n",
      " -3.33066907e-16 -5.55111512e-16  0.00000000e+00 -1.33226763e-15\n",
      " -1.11022302e-15  6.66133815e-16 -2.10942375e-15 -5.55111512e-16\n",
      " -8.88178420e-16  7.77156117e-16 -7.77156117e-16  2.22044605e-16\n",
      "  6.66133815e-16 -8.88178420e-16 -6.66133815e-16 -2.33146835e-15\n",
      " -5.55111512e-16  2.22044605e-16 -1.22124533e-15  3.33066907e-16\n",
      "  8.88178420e-16 -5.55111512e-16  7.77156117e-16 -6.66133815e-16\n",
      "  1.11022302e-16  1.11022302e-16  4.44089210e-16  1.66533454e-15\n",
      "  3.33066907e-16  0.00000000e+00 -7.77156117e-16 -7.77156117e-16\n",
      "  0.00000000e+00 -1.55431223e-15  1.11022302e-16  1.11022302e-16\n",
      " -1.11022302e-16  1.22124533e-15 -1.55431223e-15  7.77156117e-16\n",
      "  8.88178420e-16 -6.66133815e-16  2.22044605e-16  1.55431223e-15\n",
      " -9.99200722e-16 -2.22044605e-16 -6.66133815e-16  3.33066907e-16\n",
      "  3.33066907e-16  7.77156117e-16  9.99200722e-16  1.11022302e-15\n",
      " -3.33066907e-16  0.00000000e+00  1.11022302e-16 -7.77156117e-16\n",
      "  7.77156117e-16  3.33066907e-16  1.11022302e-16  0.00000000e+00\n",
      "  2.22044605e-16  7.77156117e-16 -1.66533454e-15  0.00000000e+00\n",
      "  2.22044605e-16 -3.33066907e-16 -4.44089210e-16 -1.77635684e-15\n",
      " -1.55431223e-15 -3.33066907e-16 -6.66133815e-16 -4.44089210e-16\n",
      " -6.66133815e-16 -1.66533454e-15  1.55431223e-15  6.66133815e-16\n",
      "  9.99200722e-16  2.22044605e-16 -7.77156117e-16 -7.77156117e-16\n",
      "  6.66133815e-16  7.77156117e-16 -5.55111512e-16 -1.99840144e-15\n",
      " -1.22124533e-15  3.33066907e-16  1.22124533e-15  2.22044605e-16\n",
      " -7.77156117e-16  1.88737914e-15  1.11022302e-15 -1.44328993e-15\n",
      "  7.77156117e-16  5.55111512e-16  8.88178420e-16  1.88737914e-15\n",
      "  8.88178420e-16  3.33066907e-16  2.33146835e-15  1.44328993e-15\n",
      "  1.66533454e-15  1.44328993e-15 -5.55111512e-16  5.55111512e-16\n",
      "  4.44089210e-16 -1.66533454e-15  1.11022302e-16  3.21964677e-15\n",
      "  8.88178420e-16  0.00000000e+00 -1.33226763e-15  1.33226763e-15\n",
      "  0.00000000e+00 -1.11022302e-16  1.22124533e-15  5.55111512e-16\n",
      "  1.44328993e-15  1.33226763e-15  4.44089210e-16 -1.11022302e-16\n",
      " -3.33066907e-16  2.22044605e-16  8.88178420e-16  8.88178420e-16\n",
      "  0.00000000e+00  6.66133815e-16  2.22044605e-16  3.33066907e-16\n",
      " -4.44089210e-16  8.88178420e-16  3.33066907e-16  2.22044605e-16\n",
      " -4.44089210e-16 -1.33226763e-15 -1.77635684e-15  1.44328993e-15\n",
      " -1.33226763e-15 -8.88178420e-16  9.99200722e-16 -1.11022302e-16\n",
      " -1.11022302e-16  7.77156117e-16  7.77156117e-16  0.00000000e+00\n",
      " -1.22124533e-15  9.99200722e-16  3.33066907e-16  5.55111512e-16\n",
      "  1.44328993e-15 -5.55111512e-16  0.00000000e+00  2.22044605e-16\n",
      "  1.88737914e-15  1.99840144e-15  7.77156117e-16  1.55431223e-15\n",
      "  1.11022302e-15  2.22044605e-15  2.77555756e-15  7.77156117e-16\n",
      "  2.10942375e-15  1.44328993e-15 -1.11022302e-16 -2.22044605e-16\n",
      "  1.66533454e-15  8.88178420e-16  2.22044605e-16  1.11022302e-15\n",
      "  0.00000000e+00 -4.44089210e-16 -8.88178420e-16  1.11022302e-16\n",
      " -4.44089210e-16 -1.11022302e-16  3.33066907e-16  9.99200722e-16\n",
      " -8.88178420e-16  8.88178420e-16  4.44089210e-16  3.33066907e-16\n",
      "  8.88178420e-16  1.55431223e-15  2.10942375e-15  1.22124533e-15\n",
      " -2.22044605e-16 -9.99200722e-16 -6.66133815e-16  1.11022302e-16\n",
      "  4.44089210e-16 -2.22044605e-16 -7.77156117e-16  6.66133815e-16\n",
      " -1.11022302e-15  8.88178420e-16  2.33146835e-15  1.44328993e-15\n",
      " -6.66133815e-16  7.77156117e-16  1.44328993e-15  2.22044605e-16\n",
      "  1.11022302e-16  1.77635684e-15  4.44089210e-16 -7.77156117e-16\n",
      " -1.44328993e-15  1.11022302e-15 -1.44328993e-15  8.88178420e-16\n",
      " -2.22044605e-16 -5.55111512e-16  5.55111512e-16 -1.77635684e-15\n",
      "  1.33226763e-15 -4.44089210e-16  1.11022302e-15  8.88178420e-16\n",
      " -8.88178420e-16 -7.77156117e-16  4.44089210e-16  4.44089210e-16\n",
      " -1.11022302e-16  6.66133815e-16 -1.33226763e-15 -3.33066907e-16\n",
      " -2.22044605e-16  1.11022302e-16 -7.77156117e-16  1.66533454e-15\n",
      "  3.66373598e-15  1.11022302e-16  5.55111512e-16  0.00000000e+00\n",
      "  0.00000000e+00  1.11022302e-16  6.66133815e-16 -8.88178420e-16\n",
      "  4.44089210e-16 -5.55111512e-16 -1.44328993e-15  2.22044605e-16\n",
      "  6.66133815e-16  7.77156117e-16  6.66133815e-16  1.11022302e-15\n",
      " -3.33066907e-16 -7.77156117e-16  1.11022302e-16 -4.44089210e-16\n",
      "  7.77156117e-16  3.33066907e-16 -3.33066907e-16 -9.99200722e-16\n",
      " -1.77635684e-15  2.33146835e-15 -1.44328993e-15  8.88178420e-16\n",
      " -2.22044605e-16 -4.44089210e-16  1.11022302e-15  1.22124533e-15\n",
      " -4.44089210e-16  1.33226763e-15  5.55111512e-16  0.00000000e+00\n",
      " -6.66133815e-16 -1.22124533e-15 -1.11022302e-16  2.22044605e-16\n",
      " -1.22124533e-15 -1.22124533e-15 -9.99200722e-16 -2.22044605e-16\n",
      "  0.00000000e+00  1.99840144e-15 -1.33226763e-15 -2.88657986e-15\n",
      "  2.22044605e-16 -6.66133815e-16 -2.22044605e-16 -4.44089210e-16\n",
      " -5.55111512e-16  4.44089210e-16 -8.88178420e-16  8.88178420e-16\n",
      "  1.11022302e-16 -3.33066907e-16  7.77156117e-16  2.22044605e-16\n",
      "  1.11022302e-16 -5.55111512e-16  3.33066907e-16  1.66533454e-15\n",
      " -3.33066907e-16 -2.44249065e-15 -1.44328993e-15  1.33226763e-15\n",
      "  7.77156117e-16 -1.22124533e-15  1.66533454e-15  6.66133815e-16\n",
      " -1.55431223e-15 -2.88657986e-15  2.22044605e-16  1.11022302e-16\n",
      " -1.44328993e-15  0.00000000e+00 -3.33066907e-16 -1.22124533e-15\n",
      "  3.33066907e-16  3.33066907e-16 -2.22044605e-16  1.44328993e-15\n",
      " -1.22124533e-15  6.66133815e-16 -5.55111512e-16  3.33066907e-16\n",
      " -1.11022302e-15  4.44089210e-16  7.77156117e-16  7.77156117e-16\n",
      "  1.11022302e-16 -6.66133815e-16  7.77156117e-16  0.00000000e+00\n",
      " -1.88737914e-15  1.11022302e-15  1.55431223e-15  5.55111512e-16\n",
      "  1.77635684e-15 -3.33066907e-16 -1.44328993e-15 -1.99840144e-15\n",
      " -5.55111512e-16 -2.90564236e-08 -5.48436185e-10 -1.15130128e-12\n",
      "  9.99200722e-16  7.43849426e-15  1.11022302e-15  1.04360964e-14\n",
      "  3.33066907e-15]\n"
     ]
    }
   ],
   "source": [
    "print(a_err_gauss)"
   ]
  },
  {
   "cell_type": "code",
   "execution_count": 12,
   "metadata": {},
   "outputs": [
    {
     "data": {
      "text/plain": [
       "<matplotlib.legend.Legend at 0x246ff53af60>"
      ]
     },
     "execution_count": 12,
     "metadata": {},
     "output_type": "execute_result"
    },
    {
     "data": {
      "image/png": "[encoded data removed]",
      "text/plain": [
       "<Figure size 432x288 with 1 Axes>"
      ]
     },
     "metadata": {},
     "output_type": "display_data"
    },
    {
     "data": {
      "image/png": "[encoded data removed]",
      "text/plain": [
       "<Figure size 432x288 with 1 Axes>"
      ]
     },
     "metadata": {},
     "output_type": "display_data"
    },
    {
     "data": {
      "image/png": "[encoded data removed]",
      "text/plain": [
       "<Figure size 432x288 with 1 Axes>"
      ]
     },
     "metadata": {},
     "output_type": "display_data"
    }
   ],
   "source": [
    "plt.figure()\n",
    "plt.yscale('log')\n",
    "plt.scatter(a_N, abs(a_err_trap), label = 'Trapezoid')\n",
    "plt.xlabel('Steps/Slices')\n",
    "plt.ylabel('Error')\n",
    "plt.title('Error vs. Steps/Slices')\n",
    "plt.legend()\n",
    "\n",
    "plt.figure()\n",
    "plt.yscale('log')\n",
    "plt.scatter(a_N, abs(a_err_simp), label = 'Simpson')\n",
    "plt.xlabel('Steps/Slices')\n",
    "plt.ylabel('Error')\n",
    "plt.title('Error vs. Steps/Slices')\n",
    "plt.legend()\n",
    "\n",
    "plt.figure()\n",
    "plt.yscale('log')\n",
    "plt.scatter(a_N, abs(a_err_gauss), label = 'Gaussian')\n",
    "plt.xlabel('Steps/Slices')\n",
    "plt.ylabel('Error')\n",
    "plt.title('Error vs. Steps/Slices')\n",
    "plt.legend()"
   ]
  },
  {
   "cell_type": "code",
   "execution_count": 9,
   "metadata": {},
   "outputs": [
    {
     "name": "stdout",
     "output_type": "stream",
     "text": [
      "-2.1424204553055743e-08\n",
      "-5.080091658613065e-10\n",
      "-5.956925295088713e-11\n",
      "1.8982643945649162e-07\n",
      "6.6400311093287744e-09\n",
      "1.3022291162320215e-09\n"
     ]
    }
   ],
   "source": [
    "print(np.mean(a_err_trap))\n",
    "print(np.mean(a_err_simp))\n",
    "print(np.mean(a_err_gauss))\n",
    "print(np.std(a_err_trap))\n",
    "print(np.std(a_err_simp))\n",
    "print(np.std(a_err_gauss))"
   ]
  },
  {
   "cell_type": "code",
   "execution_count": 24,
   "metadata": {},
   "outputs": [
    {
     "name": "stdout",
     "output_type": "stream",
     "text": [
      "[-14.63191492 -15.3788275  -16.17023483 -17.19767604         -inf\n",
      " -17.75922005 -17.30779615 -17.12425845 -17.04189481 -17.00990989\n",
      " -17.00651395 -17.02060167 -17.04588242 -17.07852873 -17.11608893\n",
      " -17.15693128 -17.19993736 -17.244323   -17.28952874 -17.33515007\n",
      " -17.38089166 -17.42653659 -17.47192511 -17.51693955 -17.56149377\n",
      " -17.60552533 -17.64898975 -17.69185634 -17.73410488 -17.77572322\n",
      " -17.81670557 -17.85705085 -17.89676173 -17.93584369 -17.97430434\n",
      " -18.01215296 -18.04940004 -18.08605694 -18.12213561 -18.15764841\n",
      " -18.19260795 -18.22702694 -18.26091813 -18.29429414 -18.32716755\n",
      " -18.35955064 -18.39145563 -18.42289432 -18.45387835 -18.48441901\n",
      " -18.51452748 -18.5442144  -18.57349018 -18.60236511 -18.63084899\n",
      " -18.65895143 -18.68668161 -18.71404864 -18.74106119 -18.76772765\n",
      " -18.79405635 -18.82005515 -18.84573185 -18.87109373 -18.89614815\n",
      " -18.92090223 -18.94536237 -18.96953544 -18.99342776 -19.01704551\n",
      " -19.04039463 -19.06348104 -19.0863103  -19.10888772 -19.131219\n",
      " -19.15330888 -19.17516254 -19.19678494 -19.21818059 -19.23935402\n",
      " -19.26030994 -19.28105235 -19.30158575 -19.32191404 -19.34204101\n",
      " -19.36197091 -19.38170713 -19.4012536  -19.42061359 -19.43979082\n",
      " -19.45878823 -19.47760957 -19.49625776 -19.51473596 -19.53304728\n",
      " -19.55119431 -19.5691805  -19.5870079  -19.60467991 -19.62219888\n",
      " -19.63956733 -19.65678802 -19.67386341 -19.69079526 -19.70758677\n",
      " -19.72423992 -19.74075636 -19.75713936 -19.77339064 -19.78951163\n",
      " -19.80550532 -19.82137296 -19.83711704 -19.85273892 -19.86824086\n",
      " -19.88362478 -19.89889169 -19.91404452 -19.9290837  -19.94401148\n",
      " -19.95882994 -19.97353973 -19.98814361 -20.00264136 -20.01703604\n",
      " -20.03132834 -20.04552007 -20.05961239 -20.07360692 -20.0875052\n",
      " -20.10130696 -20.11501582 -20.12863172 -20.14215594 -20.15558969\n",
      " -20.16893444 -20.18219176 -20.19536141 -20.20844532 -20.2214455\n",
      " -20.23436194 -20.24719534 -20.25994789 -20.27261982 -20.28521236\n",
      " -20.29772635 -20.31016342 -20.32252337 -20.3348084  -20.34701857\n",
      " -20.35915453 -20.37121814 -20.38320938 -20.39513045 -20.40697978\n",
      " -20.41875988 -20.43047195 -20.44211584 -20.45369196 -20.46520228\n",
      " -20.47664715 -20.4880271  -20.49934286 -20.51059537 -20.52178504\n",
      " -20.53291314 -20.54397909 -20.55498495 -20.56593039 -20.57681649\n",
      " -20.58764352 -20.59841349 -20.60912452 -20.61978    -20.63037836\n",
      " -20.64092197 -20.65140988 -20.66184345 -20.67222269 -20.68254832\n",
      " -20.69282139 -20.70304209 -20.71321159 -20.72332859 -20.73339594\n",
      " -20.74341303 -20.75337956 -20.7632971  -20.77316527 -20.78298654\n",
      " -20.79275871 -20.8024835  -20.81216249 -20.82179387 -20.83138066\n",
      " -20.84092007 -20.85041493 -20.85986581 -20.86927153 -20.87863262\n",
      " -20.88795179 -20.89722808 -20.90646073 -20.91564935 -20.92479842\n",
      " -20.93390537 -20.94297159 -20.95199445 -20.96098037 -20.96992411\n",
      " -20.97883086 -20.98769264 -20.99652072 -21.00530583 -21.01405788\n",
      " -21.02276646 -21.03144105 -21.04007652 -21.04867524 -21.0572381\n",
      " -21.06576326 -21.07425305 -21.08270675 -21.09112491 -21.09950809\n",
      " -21.10785668 -21.11616827 -21.12444881 -21.13269555 -21.14090594\n",
      " -21.14908386 -21.15722856 -21.16533977 -21.1734177  -21.18146668\n",
      " -21.18947914 -21.19746053 -21.20541239 -21.21333005 -21.22121878\n",
      " -21.22907541 -21.2369037  -21.24469981 -21.25246507 -21.26019956\n",
      " -21.26790635 -21.2755835  -21.28322979 -21.2908483  -21.29843689\n",
      " -21.30599747 -21.31353004 -21.32103446 -21.32850858 -21.33595813\n",
      " -21.34337806 -21.35077326 -21.3581376  -21.36547667 -21.37278908\n",
      " -21.38007348 -21.38733441 -21.39456553 -21.40177301 -21.40895466\n",
      " -21.41610819 -21.42323956 -21.43034409 -21.43742281 -21.44447769\n",
      " -21.45150735 -21.45851289 -21.46549384 -21.47244989 -21.47938176\n",
      " -21.48628787 -21.49317511 -21.50003898 -21.50687583 -21.51368803\n",
      " -21.52048157 -21.5272494  -21.5339934  -21.54071741 -21.54742086\n",
      " -21.55409701 -21.56075356 -21.56738714 -21.57399812 -21.58058751\n",
      " -21.58715757 -21.59370108 -21.60023095 -21.60673443 -21.61321813\n",
      " -21.61967956 -21.62612413 -21.63254251 -21.63894586 -21.64532339\n",
      " -21.65168407 -21.65802364 -21.6643439  -21.67064319 -21.6769242\n",
      " -21.68318529 -21.68942465 -21.6956476  -21.70185044 -21.70803205\n",
      " -21.71419459 -21.72034358 -21.72646997 -21.73257522 -21.7386669\n",
      " -21.74473753 -21.75079147 -21.7568208  -21.76283856 -21.76883716\n",
      " -21.77481603 -21.78078079 -21.78672463 -21.79265139 -21.79855937\n",
      " -21.80445041 -21.81032478 -21.81618584 -21.82202438 -21.82784773\n",
      " -21.83365576 -21.83944247 -21.84521524 -21.85097306 -21.85671584\n",
      " -21.86243663 -21.86814696 -21.87383629 -21.87951031 -21.88516809\n",
      " -21.89081477 -21.89643765 -21.90204855 -21.90764368 -21.9132265\n",
      " -21.91878599 -21.9243367  -21.9298735  -21.935393   -21.9408956\n",
      " -21.94638087 -21.95185594 -21.95731271 -21.96275622 -21.96818659\n",
      " -21.97359842 -21.97899929 -21.98438404 -21.98975264 -21.99510954\n",
      " -22.00044911 -22.00577678 -22.01109247 -22.01639072 -22.02167664\n",
      " -22.02694936 -22.03220564 -22.03744975 -22.04267526 -22.04789328\n",
      " -22.05309922 -22.05828642 -22.06346476 -22.06862387 -22.07377446\n",
      " -22.0789141  -22.08403686 -22.08914553 -22.09424063 -22.09932593\n",
      " -22.10439628 -22.10945117 -22.11449649 -22.11953599 -22.12454707\n",
      " -22.12955575 -22.13455914 -22.13953384 -22.14450643 -22.14946336\n",
      " -22.1544086  -22.15934325 -22.16425984 -22.1691748  -22.1740725\n",
      " -22.17895068 -22.18382487 -22.18869634 -22.19353869 -22.19838502\n",
      " -22.20320813 -22.20801967 -22.21282377 -22.21761132 -22.22238842\n",
      " -22.22715648 -22.23191895 -22.23667042 -22.24140134 -22.24612573\n",
      " -22.25084236 -22.25553441 -22.26023671 -22.26490813 -22.26957717\n",
      " -22.27424052 -22.27887821 -22.28351972 -22.28814552 -22.29275727\n",
      " -22.29736662 -22.30196126 -22.3065542  -22.31111275 -22.31567434\n",
      " -22.32023089 -22.3247758  -22.32930458 -22.33381895 -22.33833128\n",
      " -22.34283639 -22.34733148 -22.35181008 -22.35628098 -22.36073676\n",
      " -22.36519432 -22.36962863 -22.3740611  -22.37847941 -22.38288891\n",
      " -22.38730055 -22.39168385 -22.39607068 -22.40044337 -22.40480821\n",
      " -22.40916184 -22.41350681 -22.41783952 -22.42217287 -22.42647548\n",
      " -22.4307869  -22.43508828 -22.43937757 -22.44365826 -22.44791623\n",
      " -22.45218324 -22.45644027 -22.46068163 -22.46491846 -22.46914108\n",
      " -22.47335882 -22.47756213 -22.48176256 -22.48594274 -22.49012878\n",
      " -22.49430175 -22.49846687 -22.50262354 -22.50676386 -22.51091011\n",
      " -22.51503943 -22.51915154 -22.52326473 -22.52737108 -22.53146908\n",
      " -22.53555425 -22.53963206 -22.54370554 -22.54776539 -22.5518236\n",
      " -22.5558648  -22.55989128 -22.56393823 -22.56795363 -22.57197183\n",
      " -22.57597343 -22.57996362 -22.58395624 -22.58794098 -12.70040448\n",
      " -13.12290546 -13.47435188 -13.77460707 -14.03641589 -14.26836915\n",
      " -14.47650403 -14.66521304]\n"
     ]
    },
    {
     "name": "stderr",
     "output_type": "stream",
     "text": [
      "C:\\Users\\brayd\\Anaconda3\\lib\\site-packages\\ipykernel_launcher.py:1: RuntimeWarning: divide by zero encountered in log\n",
      "  \"\"\"Entry point for launching an IPython kernel.\n"
     ]
    }
   ],
   "source": [
    "t = np.log(abs(a_err_trap))\n",
    "print(t)"
   ]
  },
  {
   "cell_type": "code",
   "execution_count": null,
   "metadata": {},
   "outputs": [],
   "source": []
  }
 ],
 "metadata": {
  "kernelspec": {
   "display_name": "Python 3",
   "language": "python",
   "name": "python3"
  },
  "language_info": {
   "codemirror_mode": {
    "name": "ipython",
    "version": 3
   },
   "file_extension": ".py",
   "mimetype": "text/x-python",
   "name": "python",
   "nbconvert_exporter": "python",
   "pygments_lexer": "ipython3",
   "version": "3.6.5"
  },
  "varInspector": {
   "cols": {
    "lenName": 16,
    "lenType": 16,
    "lenVar": 40
   },
   "kernels_config": {
    "python": {
     "delete_cmd_postfix": "",
     "delete_cmd_prefix": "del ",
     "library": "var_list.py",
     "varRefreshCmd": "print(var_dic_list())"
    },
    "r": {
     "delete_cmd_postfix": ") ",
     "delete_cmd_prefix": "rm(",
     "library": "var_list.r",
     "varRefreshCmd": "cat(var_dic_list()) "
    }
   },
   "types_to_exclude": [
    "module",
    "function",
    "builtin_function_or_method",
    "instance",
    "_Feature"
   ],
   "window_display": false
  }
 },
 "nbformat": 4,
 "nbformat_minor": 2
}
