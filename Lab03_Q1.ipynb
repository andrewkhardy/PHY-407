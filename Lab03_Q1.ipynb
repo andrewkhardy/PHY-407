{
 "cells": [
  {
   "cell_type": "markdown",
   "metadata": {},
   "source": [
    "## Question 1: Gaussian Quadrature\n",
    "The error function is defined as. \n",
    "\\begin{equation}\n",
    "    \\mathrm{erf}(x) = \\frac{2}{\\sqrt{\\pi}} \\int_0^x e^{-t^2}\\mathrm{d}t\n",
    "\\end{equation}\n",
    "## Part a: Calculate $\\mathrm{erf}(3)$ using Trapezoid, Simpson's, and Gaussian quadrature\n",
    "Last lab we numerically approximated the integral for $x=3$ in this expression using Simpson's rule and Trapezoid rule to estimate $\\mathrm{erf}(3)$. Now, we will repeat this for several numbers of steps/slices between $N=8$ and $N=1000$, while also employing Gaussian quadrature method to calculate this integral. "
   ]
  },
  {
   "cell_type": "code",
   "execution_count": 1,
   "metadata": {
    "ExecuteTime": {
     "end_time": "2018-09-28T06:55:32.671822Z",
     "start_time": "2018-09-28T06:55:31.362516Z"
    }
   },
   "outputs": [],
   "source": [
    "#PART A\n",
    "# Andrew Hardy\n",
    "#i) \n",
    "#import packages\n",
    "import numpy as np\n",
    "from scipy.special import erf\n",
    "from gaussxw import gaussxw\n",
    "import matplotlib.pyplot as plt\n",
    "import seaborn as sns\n",
    "sns.set()"
   ]
  },
  {
   "cell_type": "code",
   "execution_count": 2,
   "metadata": {
    "ExecuteTime": {
     "end_time": "2018-09-28T06:55:32.758188Z",
     "start_time": "2018-09-28T06:55:32.730458Z"
    }
   },
   "outputs": [],
   "source": [
    "# defining variables taken from Q2.A from Lab 2, done by Brayden.\n",
    "#define a function for Trapezoid rule \n",
    "def Trapezoid(function, i_N, f_a, f_b):\n",
    "    \"\"\"\n",
    "    A function for performing numerical integration of the mathematical function \n",
    "    the trapezoid rule for N steps between a and b.\n",
    "    INPUT:\n",
    "    function [function handle of single variable] is the function whose integral is to be numerically approximated \n",
    "    N [int] number of steps\n",
    "    a [float] lower bound of integration\n",
    "    b [float] upper bound of integration\n",
    "    \"\"\"\n",
    "    f_h = (f_b-f_a)/i_N #width of slices\n",
    "    f_s = 0.5*function(f_a) + 0.5*function(f_b) #the constant terms in the series expansion defining the trapezoid rule as in equation 5.3 of Newman\n",
    "\n",
    "    for j in range(1,i_N):\n",
    "        f_s += function(f_a+j*f_h)\n",
    "        \n",
    "    f_integral = f_h*f_s\n",
    "    return f_integral\n",
    "\n",
    "#define a function for Simpson's rule\n",
    "def Simpson(function, i_N, f_a, f_b):\n",
    "    \"\"\"\n",
    "    A function for performing numerical integration of the mathematical function according to\n",
    "    Simpson's rule for N steps between a and b.\n",
    "    INPUT:\n",
    "    function [function handle of single variable] is the function whose integral is to be numerically approximated \n",
    "    N [int] number of steps\n",
    "    a [float] lower bound of integration\n",
    "    b [float] upper bound of integration\n",
    "    \"\"\"\n",
    "    f_h = (f_b-f_a)/i_N #width of slices\n",
    "    f_s = function(f_a) + function(f_b) #the constant terms in the series expansion defining the trapezoid rule as in equation 5.3 of Newman\n",
    "    \n",
    "    for k in range(1,i_N,2): #loop over odd terms\n",
    "        f_s += 4*function(f_a+k*f_h)\n",
    "    for k in range(2,i_N,2): #loop over even terms\n",
    "        f_s += 2*function(f_a+k*f_h)\n",
    "        \n",
    "    f_integral = f_h*f_s/3\n",
    "    return f_integral\n",
    "def Gaussian(function, i_N, f_a, f_b):\n",
    "    \"\"\"\n",
    "    A function for performing numerical integration of the mathematical function according to\n",
    "    Gaussian Quadrature for N steps between a and b. Basically ripped off Newman's gaussint.py\n",
    "    INPUT:\n",
    "    function [function handle of single variable] is the function whose integral is to be numerically approximated \n",
    "    N [int] number of steps\n",
    "    a [float] lower bound of integration\n",
    "    b [float] upper bound of integration\n",
    "    \"\"\"\n",
    "    f_x,f_w = gaussxw(i_N)\n",
    "    f_xp = 0.5*(f_b-f_a)*f_x + 0.5*(f_b+f_a)\n",
    "    f_wp = 0.5*(f_b-f_a)*f_w\n",
    "\n",
    "    # Perform the integration\n",
    "    f_s = 0.0\n",
    "    for k in range(i_N):\n",
    "        f_s += f_wp[k]*function(f_xp[k])\n",
    "    return f_s\n"
   ]
  },
  {
   "cell_type": "code",
   "execution_count": 3,
   "metadata": {
    "ExecuteTime": {
     "end_time": "2018-09-28T06:55:32.841640Z",
     "start_time": "2018-09-28T06:55:32.833067Z"
    }
   },
   "outputs": [],
   "source": [
    "#define function to be integrated\n",
    "def errorfunction(f_t):\n",
    "    return 2/np.sqrt(np.pi)*np.exp(-f_t**2) # define the Error function"
   ]
  },
  {
   "cell_type": "code",
   "execution_count": 4,
   "metadata": {
    "ExecuteTime": {
     "end_time": "2018-09-28T06:55:57.683644Z",
     "start_time": "2018-09-28T06:55:32.913457Z"
    },
    "scrolled": false
   },
   "outputs": [],
   "source": [
    "i_length = int((1000-8)/2+1) #define size for arrays\n",
    "#pre-allocate memory for arrays\n",
    "a_erf_trap = np.empty(i_length)\n",
    "a_erf_simp = np.empty(i_length)\n",
    "a_erf_gauss = np.empty(i_length)\n",
    "a_N = np.empty(i_length)\n",
    "# define several empty arrays to be filled with a sampling of points from N = 8, 1000 by even numbers\n",
    "\n",
    "i = 8 #start a N=8 steps\n",
    "j = 0 #a counter index\n",
    "while i<=1000: #go up to N=1000\n",
    "    a_N[j] = i\n",
    "    a_erf_trap[j-8] = Trapezoid(errorfunction, i,0,3)\n",
    "    a_erf_simp[j-8] = Simpson(errorfunction, i, 0,3)\n",
    "    a_erf_gauss[j-8] = Gaussian(errorfunction, i, 0,3)\n",
    "    i += 2 #increment steps/slices by 2 so that N is always even (Simpsons is only valid for even N)\n",
    "    j += 1 #increment counter index by 1"
   ]
  },
  {
   "cell_type": "code",
   "execution_count": 5,
   "metadata": {
    "ExecuteTime": {
     "end_time": "2018-09-28T06:55:58.085156Z",
     "start_time": "2018-09-28T06:55:58.072588Z"
    }
   },
   "outputs": [
    {
     "name": "stdout",
     "output_type": "stream",
     "text": [
      "Trapezoid rule evaluation of erf(3) for 8<N<1000:\n",
      "Simpson rule evaluation of erf(3) for 8<N<1000:\n",
      "Gaussian quadrature evaluation of erf(3) for 8<N<1000:\n"
     ]
    }
   ],
   "source": [
    "print('Trapezoid rule evaluation of erf(3) for 8<N<1000:')\n",
    "#print(a_erf_trap)\n",
    "print('Simpson rule evaluation of erf(3) for 8<N<1000:')\n",
    "#print(a_erf_simp)\n",
    "print('Gaussian quadrature evaluation of erf(3) for 8<N<1000:')\n",
    "#print(a_erf_gauss)"
   ]
  },
  {
   "cell_type": "code",
   "execution_count": 33,
   "metadata": {
    "ExecuteTime": {
     "end_time": "2018-09-28T06:55:58.420822Z",
     "start_time": "2018-09-28T06:55:58.391084Z"
    }
   },
   "outputs": [
    {
     "name": "stdout",
     "output_type": "stream",
     "text": [
      "Mean value for erf(3) with Trapezoid rule was 0.9999778231853969 with standard deviation of 5.715079892949293e-07\n",
      "Mean value for erf(3) with Simpson rule was 0.9999779012620776 with standard deviation of 9.939718061536657e-08\n",
      "Mean value for erf(3) with Gaussian quadrature was 0.9999779095625705 with standard deviation of 1.3022291593934176e-09\n"
     ]
    }
   ],
   "source": [
    "mn_trap = np.mean(a_erf_trap)\n",
    "mn_simp = np.mean(a_erf_simp)\n",
    "mn_gauss = np.mean(a_erf_gauss)\n",
    "sd_trap = np.std(a_erf_trap)\n",
    "sd_simp = np.std(a_erf_simp)\n",
    "sd_gauss = np.std(a_erf_gauss)\n",
    "print('Mean value for erf(3) with Trapezoid rule was {0} with standard deviation of {1}'.format(mn_trap, sd_trap))\n",
    "print('Mean value for erf(3) with Simpson rule was {0} with standard deviation of {1}'.format(mn_simp, sd_simp))\n",
    "print('Mean value for erf(3) with Gaussian quadrature was {0} with standard deviation of {1}'.format(mn_gauss, sd_gauss))"
   ]
  },
  {
   "cell_type": "markdown",
   "metadata": {},
   "source": [
    "## Part b: Estimation of error\n",
    "Below we calculate the relative error for Trapezoid rule, Simpson's rule, and Gaussian quadrature holding scipy's value for $\\mathrm{erf}(3)$ to the the ''true'' value. This is done acording to the simple equation of $\\epsilon_{\\mathrm{relative}} = \\frac{\\mathrm{estimated \\ value} - \\mathrm{true \\ value}}{\\mathrm{true \\ value}}$. Additionally we will use equation (2) from the lab manual (which is equation 5.66 in Newman) as a method of ''practical error estiamtion'' for Gaussian quadrature. For $N$ steps the error estimate $\\epsilon_N$ is given by:\n",
    "\\begin{equation}\n",
    "    \\epsilon_N = I_{2N} - I_N\n",
    "\\end{equation}\n",
    "The results of relative error are plotted on a log-log scale against steps/slices $N$ and the result of equation (2) over the range of different $N$ is compared to the relative error for each $N$ and turn out to be in good agreement."
   ]
  },
  {
   "cell_type": "code",
   "execution_count": 7,
   "metadata": {
    "ExecuteTime": {
     "end_time": "2018-09-28T06:55:58.698958Z",
     "start_time": "2018-09-28T06:55:58.691829Z"
    }
   },
   "outputs": [],
   "source": [
    "#1b)\n",
    "#relative error of  compared to the Scipy true value\n",
    "f_true = erf(3)\n",
    "a_rel_simp = (a_erf_simp - f_true)/f_true\n",
    "a_rel_trap = (a_erf_trap - f_true)/f_true\n",
    "a_rel_gauss = (a_erf_gauss - f_true)/f_true"
   ]
  },
  {
   "cell_type": "code",
   "execution_count": 16,
   "metadata": {
    "ExecuteTime": {
     "end_time": "2018-09-28T06:56:53.878756Z",
     "start_time": "2018-09-28T06:55:59.132537Z"
    },
    "scrolled": true
   },
   "outputs": [],
   "source": [
    "#1b)\n",
    "#Brayden Kell\n",
    "#get practical error of Gauss according to eq. (2) in lab manual\n",
    "a_N2 = 2*a_N    # double the size of N \n",
    "# Defining empty arrays for memory pre-allocation \n",
    "a_erf_gauss_2 = np.empty(len(a_N2))\n",
    "for i in range(len(a_N2)):\n",
    "    #gauss\n",
    "    i_n = int(a_N2[i])\n",
    "    a_erf_gauss_2[i] = Gaussian(errorfunction, i_n, 0,3)\n",
    "#implementation of equation (2) after calcuating I1, I2 above\n",
    "a_err_gauss = a_erf_gauss_2 - a_erf_gauss\n"
   ]
  },
  {
   "cell_type": "code",
   "execution_count": 37,
   "metadata": {
    "ExecuteTime": {
     "end_time": "2018-09-28T06:56:55.908085Z",
     "start_time": "2018-09-28T06:56:54.500154Z"
    }
   },
   "outputs": [
    {
     "data": {
      "text/plain": [
       "\"\\nplt.figure()\\nplt.yscale('log')\\nplt.xscale('log')\\nplt.scatter(a_N, abs(a_rel_gauss),s = 4, label = 'Gaussian')\\nplt.xlabel('Steps/Slices')\\nplt.ylabel('Error')\\nplt.title('Error vs. Steps/Slices')\\nplt.legend()\\n\""
      ]
     },
     "execution_count": 37,
     "metadata": {},
     "output_type": "execute_result"
    },
    {
     "data": {
      "image/png": "[encoded data removed]",
      "text/plain": [
       "<Figure size 432x288 with 1 Axes>"
      ]
     },
     "metadata": {},
     "output_type": "display_data"
    }
   ],
   "source": [
    "# plotting relative error for each of the three methods\n",
    "plt.figure()\n",
    "plt.yscale('log')\n",
    "plt.xscale('log')\n",
    "plt.scatter(a_N, abs(a_rel_trap), s = 4, label = 'Trapezoid')\n",
    "plt.xlabel('Steps/Slices')\n",
    "plt.ylabel('Error')\n",
    "plt.title('Error vs. Steps/Slices')\n",
    "\n",
    "plt.scatter(a_N, abs(a_rel_simp), s = 4,label = 'Simpson')\n",
    "plt.legend()\n",
    "#below is the code to produce the plot of relative error for Gaussian quadrature method against steps\n",
    "#but is commented out due to the small size of the error rendering values of -inf in log. \n",
    "'''\n",
    "plt.figure()\n",
    "plt.yscale('log')\n",
    "plt.xscale('log')\n",
    "plt.scatter(a_N, abs(a_rel_gauss),s = 4, label = 'Gaussian')\n",
    "plt.xlabel('Steps/Slices')\n",
    "plt.ylabel('Error')\n",
    "plt.title('Error vs. Steps/Slices')\n",
    "plt.legend()\n",
    "'''"
   ]
  },
  {
   "cell_type": "code",
   "execution_count": 19,
   "metadata": {},
   "outputs": [
    {
     "name": "stdout",
     "output_type": "stream",
     "text": [
      "The relative error for Gauss has median of 4.441E-16.\n",
      "The error according to equation (2) for Gauss has median of 7.772E-16.\n"
     ]
    }
   ],
   "source": [
    "md_rel_gauss = np.median(abs(a_rel_gauss))\n",
    "md_err_gauss = np.median(abs(a_err_gauss))\n",
    "print('The relative error for Gauss has median of {0:.3E}.'.format(md_rel_gauss))\n",
    "print('The error according to equation (2) for Gauss has median of {0:.3E}.'.format(md_err_gauss))\n"
   ]
  },
  {
   "cell_type": "markdown",
   "metadata": {},
   "source": [
    "Notice above that there is no plot included for the relative error of Gauss against number of steps since the order of magnitude for most of the values are so small ($O(10^{-16}$) that taking the log of it produces -inf values in python. Additionally, observe that both the relative error for Simpson and Trapezoid approach linearity, with a negative slope, as $N$ gets larger. The relative error for Simpson's rule is several orders of magnitude smaller than that of Trapezoid rule for every $N$ between $8$ and $1000$. Also, one can see that equation (2) is good agreement to relative error for Gaussian quadrature error estimation in this case, both having median values with $O(10^{-16})$ size. This is essentially round-off error (i.e. as close as you can possibly numerically compute an integral in python)."
   ]
  },
  {
   "cell_type": "markdown",
   "metadata": {},
   "source": [
    "### Part c: Blowing snow\n",
    "An empirical equation for blowing snow in the Canadian Praries is given by the following:\n",
    "\\begin{equation}\n",
    "    P(u_{10}, T_a, t_h) = \\frac{1}{\\sqrt{2\\pi}\\delta} \\int_0^{u_{10}} \\mathrm{exp}\\bigg [- \\frac{(\\bar{u}-u)^2}{2\\delta^2}\\bigg ]\\mathrm{d}u\n",
    "\\end{equation}\n",
    "with mean wind speed $\\bar{u} = 11.2 + 0.365T_a + 0.00706 T_a^2 + 0.9 \\mathrm{ln}(t_h)$, and standard deviation of wind speed $\\delta = 4.3 + 0.145 T_a + 0.00196 T_a^2$ for temperature in $^{\\circ}C$, $T_a$, and surface snow age in hours, $t_h$.\n",
    "\n",
    "ANDREW PUT IN THE EXPLANATION OF RECASTING IN TERMS OF ERF HERE :)\n",
    "\n",
    "Below we use Gaussian quadrature with $N=100$ to numerically evaluate the integral in the above equation and plot it as a function of $T_a$ for $u_{10} =(6,8,10)ms^{-1}$, $t_h = (24, 48, 72)$ hours."
   ]
  },
  {
   "cell_type": "code",
   "execution_count": 44,
   "metadata": {
    "ExecuteTime": {
     "end_time": "2018-09-28T07:17:50.140200Z",
     "start_time": "2018-09-28T07:17:50.122724Z"
    },
    "scrolled": true
   },
   "outputs": [],
   "source": [
    "a_u10 = np.array([6, 8, 10]) #some values for u_10\n",
    "a_th = np.array([24, 48, 72]) #some values for t_h in seconds\n",
    "a_ta = np.arange(-60, 30, 1) #some values for t_a\n",
    "def Umean(a_ta, i_th): #definition of u bar in the expression for probability of blowing snow \n",
    "    return 11.2 + 0.365 * a_ta + 0.00706 * a_ta ** 2 + 0.9 * np.log(i_th)\n",
    "def Delta(a_ta): #definition of delta in the expression for probability of blowing snow\n",
    "    return 4.3 + 0.145 * a_ta + 0.00196 * a_ta** 2\n",
    "def Perfversion(u): # probability of blowing snow (equation (3) from manual) re-cast to be in terms of erf\n",
    "    denom = np.sqrt(2 * np.pi) * Delta(a_ta) \n",
    "    numer = errorfunction((Umean(a_ta, i_th) - u) / (np.sqrt(2) * Delta(a_ta)))\n",
    "    return numer / denom\n",
    "def P(i_u10, a_ta, i_th): #use Gaussian quadrature to calculate the integral \n",
    "    a = 0  # beginning value\n",
    "    N = 100  # number of steps\n",
    "    return Gaussian(Perfversion, N, a, i_u10)"
   ]
  },
  {
   "cell_type": "code",
   "execution_count": 54,
   "metadata": {
    "ExecuteTime": {
     "end_time": "2018-09-28T07:21:00.924867Z",
     "start_time": "2018-09-28T07:21:00.144974Z"
    }
   },
   "outputs": [
    {
     "data": {
      "text/plain": [
       "<matplotlib.legend.Legend at 0x2cd6e618c50>"
      ]
     },
     "execution_count": 54,
     "metadata": {},
     "output_type": "execute_result"
    },
    {
     "data": {
      "image/png": "[encoded data removed]",
      "text/plain": [
       "<Figure size 432x288 with 1 Axes>"
      ]
     },
     "metadata": {},
     "output_type": "display_data"
    }
   ],
   "source": [
    "# Choosing color for characterizing u_10\n",
    "colours = ('r', 'g', 'b')\n",
    "\n",
    "# Choosing line type to characterize t_h\n",
    "lines = ('-','--',  ':')\n",
    "\n",
    "\n",
    "plt.figure()\n",
    "plt.clf()\n",
    "for (i_u10, colour) in zip(a_u10, colours):\n",
    "\t# For each u_10, we have different color\n",
    "\t\n",
    "\tfor (i_th, line) in zip(a_th, lines):\n",
    "\t# For each different t_h, we get a different line\n",
    "\t\n",
    "\t\tplot_str = colour + line\n",
    "\t\tplt.plot(a_ta, P(i_u10, a_ta, i_th), plot_str, linewidth = 2.2, \\\n",
    "\t    label = '{0} $=$ {1}, $t_h$ = {2}'.format('$u_{10}$', i_u10, i_th))\n",
    "\n",
    "plt.xlabel('avg hourly temperature')\n",
    "plt.ylabel('probability')\n",
    "plt.legend(loc = 'best')"
   ]
  },
  {
   "cell_type": "markdown",
   "metadata": {},
   "source": [
    "#### Dependency of blown snow based on several variables\n",
    "The most immediately visible dependence is that the snow probability has a vaguely gaussian probability distribuition, which peaks around -25 or so Celcius.   \n",
    "The next largest dependence is that as the strength of wind increases, the probability drastically increases, that is rather obvious. \n",
    "There's a third dependence, where younger snow, shown by the solid line, has a higher probability of blowing. This is also intuitive, because young snow feels fluffier and is less compact "
   ]
  },
  {
   "cell_type": "code",
   "execution_count": null,
   "metadata": {},
   "outputs": [],
   "source": []
  }
 ],
 "metadata": {
  "kernelspec": {
   "display_name": "Python 3",
   "language": "python",
   "name": "python3"
  },
  "language_info": {
   "codemirror_mode": {
    "name": "ipython",
    "version": 3
   },
   "file_extension": ".py",
   "mimetype": "text/x-python",
   "name": "python",
   "nbconvert_exporter": "python",
   "pygments_lexer": "ipython3",
   "version": "3.6.5"
  },
  "varInspector": {
   "cols": {
    "lenName": 16,
    "lenType": 16,
    "lenVar": 40
   },
   "kernels_config": {
    "python": {
     "delete_cmd_postfix": "",
     "delete_cmd_prefix": "del ",
     "library": "var_list.py",
     "varRefreshCmd": "print(var_dic_list())"
    },
    "r": {
     "delete_cmd_postfix": ") ",
     "delete_cmd_prefix": "rm(",
     "library": "var_list.r",
     "varRefreshCmd": "cat(var_dic_list()) "
    }
   },
   "types_to_exclude": [
    "module",
    "function",
    "builtin_function_or_method",
    "instance",
    "_Feature"
   ],
   "window_display": false
  }
 },
 "nbformat": 4,
 "nbformat_minor": 2
}
