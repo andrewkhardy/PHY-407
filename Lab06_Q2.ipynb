{
 "cells": [
  {
   "cell_type": "markdown",
   "metadata": {},
   "source": [
    "# Question 2:\n",
    " Question 2 asks us to consider the dynamics of two molecules under the infulence of the Lennard-Jones potential. It asks us to use the Verlet Method which is as follows. \n",
    " For the first step only,\n",
    "\\begin{equation}\n",
    "    \\vec { v } \\left( t + \\frac { 1 } { 2 } h \\right) = \\vec { v } ( t ) + \\frac { 1 } { 2 } h \\vec { f } ( \\vec { r } ( t ) , t )\n",
    "\\end{equation}\n",
    "the repeatedly apply the equations, \n",
    "\\begin{equation}\n",
    "\\vec { r } ( t + h ) = \\vec { r } ( t ) + h \\vec { v } \\left( t + \\frac { 1 } { 2 } h \\right)\n",
    "\\end{equation}\n",
    "\\begin{equation}\n",
    "\\vec { r } ( t + h ) = \\vec { r } ( t ) + h \\vec { v } \\left( t + \\frac { 1 } { 2 } h \\right)\n",
    "\\end{equation}\n",
    "\\begin{equation}\n",
    "\\vec { k } = h f ( \\vec { r } ( t + h ) , t + h )\n",
    "\\end{equation}\n",
    "\\begin{equation}\n",
    "\\vec { v } \\left( t + \\frac { 3 } { 2 } h \\right) = \\vec { v } \\left( t + \\frac { 1 } { 2 } h \\right) + \\vec { k }\n",
    "\\end{equation}"
   ]
  },
  {
   "cell_type": "markdown",
   "metadata": {},
   "source": [
    "### Equations of Motion\n",
    "The equations of motion that we are using are as follows, \n",
    "The Lennard-Jones potential is \n",
    "\\begin{equation}\n",
    "V ( r ) = 4 e \\left[ \\left( \\frac { \\sigma } { r } \\right) ^ { 12 } - \\left( \\frac { \\sigma } { r } \\right) ^ { 6 } \\right]\n",
    "\\end{equation}\n",
    "Now setting $\\sigma$, mass of particle, and $\\epsilon$ equal to 1. Then the force is \n",
    "F(r) = \\frac{"
   ]
  },
  {
   "cell_type": "markdown",
   "metadata": {},
   "source": [
    "### Q2 Part B\n",
    "Pseudocode:\n",
    "1. Define functions for x and y components of acceleration as found in part a) for each particle.\n",
    "2. Instantiate variables N = 1000 steps and h = 0.001 step size, as well as initial conditions for velocity components for each particle (in this case all 0).\n",
    "3. Definine initial conditions for position components as specified.\n",
    "4. Preallocate memory to an empty arrays of length N to later store x and y components for position and velocity for each particle.\n",
    "5. Store initial conditions for velocity and position components in the 0th index position of their respective arrays.\n",
    "6. Implement equations 8-11 component-wise from lab manual with acceleration components mentioned in step 1 as the components of $\\vec{f}$\n",
    "7. In a for-loop from 2 to N-1 (since we index from zero this corresponds to N iterations in total) update values for trajectory and velocity components according to the series of equations 8-11 in the lab manual (Verlet method) and store the values at each iteration in the appropriate array that we instantiated in step 4. \n"
   ]
  },
  {
   "cell_type": "code",
   "execution_count": 1,
   "metadata": {
    "ExecuteTime": {
     "end_time": "2018-10-17T13:23:08.222184Z",
     "start_time": "2018-10-17T13:23:08.205076Z"
    }
   },
   "outputs": [],
   "source": [
    "import numpy as np"
   ]
  },
  {
   "cell_type": "code",
   "execution_count": 2,
   "metadata": {
    "ExecuteTime": {
     "end_time": "2018-10-17T13:58:51.881198Z",
     "start_time": "2018-10-17T13:58:51.818908Z"
    }
   },
   "outputs": [],
   "source": [
    "def doVerlet(r1_xi, r1_yi, r2_xi, r2_yi):\n",
    "    '''\n",
    "    Function: DoVerlet: This function performs the Verlet algorithim \n",
    "    in order to calculate the position of two particles. \n",
    "    Input: The positions of the particles. \n",
    "    '''\n",
    "    \n",
    "    # acceleration\n",
    "    def a1_x(x1, x2, y1, y2):\n",
    "        r = np.sqrt((x2- x1)**2 + (y2 - y1)**2)  # separation distance\n",
    "        return 24 * (x2 - x1) * r**(-8) * (2 * r**(-6) - 1)\n",
    "    def a1_y(x1, x2, y1, y2):\n",
    "        r = np.sqrt((x2- x1)**2 + (y2 - y1)**2)   # separation distance\n",
    "        return 24 * (y2 - y1) * r**(-8) * (2 * r**(-6) - 1)\n",
    "    def a2_x(x1, x2, y1, y2):\n",
    "        r = np.sqrt((x2- x1)**2 + (y2 - y1)**2)   # separation distance\n",
    "        return -24 * (x2 - x1) * r**(-8) * (2 * r**(-6) - 1)\n",
    "    def a2_y(x1, x2, y1, y2):\n",
    "        r = np.sqrt((x2- x1)**2 + (y2 - y1)**2)    # separation distance\n",
    "        return -24 * (y2 - y1) * r**(-8) * (2 * r**(-6) - 1)\n",
    "\n",
    "    N = 100\n",
    "    h = 0.001\n",
    "\n",
    "    v1_xi = 0.0\n",
    "    v1_yi = 0.0\n",
    "    v2_xi = 0.0\n",
    "    v2_yi = 0.0\n",
    "\n",
    "    r1_x = np.empty(N)\n",
    "    r1_y = np.empty(N)\n",
    "    v1_x = np.empty(N)\n",
    "    v1_y = np.empty(N)\n",
    "    r2_x = np.empty(N)\n",
    "    r2_y = np.empty(N)\n",
    "    v2_x = np.empty(N)\n",
    "    v2_y = np.empty(N)\n",
    "    \n",
    "    v1_x[0] = v1_xi\n",
    "    v1_y[0] = v1_yi\n",
    "    v2_x[0] = v2_xi\n",
    "    v2_y[0] = v2_yi\n",
    "    r1_x[0] = r1_xi\n",
    "    r1_y[0] = r1_yi\n",
    "    r2_x[0] = r2_xi\n",
    "    r2_y[0] = r2_yi\n",
    "\n",
    "    #eq 7\n",
    "    #variables with _prep suffix get updated at each iteration and represent\n",
    "    #v(t+h/2) in Verlet algorithm (eq 8 - 11) in lab manual\n",
    "    v1_x_prep = v1_x[0] + 0.5 * h * a1_x(r1_xi, r2_xi,r1_yi, r2_yi)\n",
    "    v1_y_prep = v1_y[0] + 0.5 * h * a1_y(r1_xi, r2_xi,r1_yi, r2_yi)\n",
    "    v2_x_prep = v2_x[0] + 0.5 * h * a2_x(r1_xi, r2_xi,r1_yi, r2_yi)\n",
    "    v2_y_prep = v2_y[0] + 0.5 * h * a2_y(r1_xi, r2_xi,r1_yi, r2_yi)\n",
    "\n",
    "    for i in range(1,N):\n",
    "        #eq 8                                  \n",
    "        r1_x[i] = r1_x[i-1] + h * v1_x_prep\n",
    "        r1_y[i] = r1_y[i-1] + h * v1_y_prep\n",
    "        r2_x[i] = r2_x[i-1] + h * v2_x_prep\n",
    "        r2_y[i] = r2_y[i-1] + h * v2_y_prep\n",
    "        #eq 10\n",
    "        v1_x[i] = v1_x_prep + 0.5 * h * a1_x(r1_x[i], r2_x[i], r1_y[i], r2_y[i])\n",
    "        v1_x[i] = v1_y_prep + 0.5 * h * a1_x(r1_x[i], r2_x[i], r1_y[i], r2_y[i])\n",
    "        v2_x[i] = v2_x_prep + 0.5 * h * a2_x(r1_x[i], r2_x[i], r1_y[i], r2_y[i])                 \n",
    "        v2_y[i] = v2_y_prep + 0.5 * h * a2_y(r1_x[i], r2_x[i], r1_y[i], r2_y[i])\n",
    "        #eq 9 and 11 combined\n",
    "        v1_x_prep = v1_x_prep + h * a1_x(r1_x[i], r2_x[i], r1_y[i], r2_y[i])\n",
    "        v1_y_prep = v1_y_prep + h * a1_y(r1_x[i], r2_x[i], r1_y[i], r2_y[i])\n",
    "        v2_x_prep = v2_x_prep + h * a2_x(r1_x[i], r2_x[i], r1_y[i], r2_y[i])\n",
    "        v2_x_prep = v2_x_prep + h * a2_y(r1_x[i], r2_x[i], r1_y[i], r2_y[i])\n",
    "    t = np.linspace(0,h*(N-1),N)\n",
    "    return v1_x, v1_y, v2_x, v2_y, r1_x, r1_y, r2_x, r2_y, t"
   ]
  },
  {
   "cell_type": "code",
   "execution_count": 3,
   "metadata": {
    "ExecuteTime": {
     "end_time": "2018-10-17T13:58:52.914289Z",
     "start_time": "2018-10-17T13:58:52.849564Z"
    }
   },
   "outputs": [],
   "source": [
    "#The different initial conditions for Part 2\n",
    "#i)\n",
    "r1_xi_a = 4\n",
    "r1_yi_a = 4\n",
    "r2_xi_a = 5.2\n",
    "r2_yi_a = 4\n",
    "v1_x_a, v1_y_a, v2_x_a, v2_y_a, r1_x_a, r1_y_a, r2_x_a, r2_y_a,t = \\\n",
    "doVerlet(r1_xi_a, r1_yi_a, r2_xi_a, r2_yi_a)\n",
    "#ii)\n",
    "r1_xi_b = 4.5\n",
    "r1_yi_b = 4\n",
    "r2_xi_b = 5.2\n",
    "r2_yi_b = 4\n",
    "v1_x_b, v1_y_b, v2_x_b, v2_y_b, r1_x_b, r1_y_b, r2_x_b, r2_y_b,t = \\\n",
    "doVerlet(r1_xi_b, r1_yi_b, r2_xi_b, r2_yi_b)\n",
    "#iii)\n",
    "r1_xi_c = 2\n",
    "r1_yi_c = 3\n",
    "r2_xi_c = 3.5\n",
    "r2_yi_c = 4.4\n",
    "v1_x_c, v1_y_c, v2_x_c, v2_y_c, r1_x_c, r1_y_c, r2_x_c, r2_y_c,t = \\\n",
    "doVerlet(r1_xi_c, r1_yi_c, r2_xi_c, r2_yi_c)"
   ]
  },
  {
   "cell_type": "code",
   "execution_count": 5,
   "metadata": {
    "ExecuteTime": {
     "end_time": "2018-10-17T13:58:55.703263Z",
     "start_time": "2018-10-17T13:58:54.871983Z"
    },
    "scrolled": false
   },
   "outputs": [
    {
     "data": {
      "text/plain": [
       "(1.9243740654027262, 3.5761304173198685, 2.9294646254063372, 4.470030891871096)"
      ]
     },
     "execution_count": 5,
     "metadata": {},
     "output_type": "execute_result"
    },
    {
     "data": {
      "image/png": "[encoded data removed]",
      "text/plain": [
       "<Figure size 432x288 with 1 Axes>"
      ]
     },
     "metadata": {},
     "output_type": "display_data"
    },
    {
     "data": {
      "image/png": "[encoded data removed]",
      "text/plain": [
       "<Figure size 432x288 with 1 Axes>"
      ]
     },
     "metadata": {},
     "output_type": "display_data"
    },
    {
     "data": {
      "image/png": "[encoded data removed]",
      "text/plain": [
       "<Figure size 432x288 with 1 Axes>"
      ]
     },
     "metadata": {},
     "output_type": "display_data"
    }
   ],
   "source": [
    "#plot trajectories\n",
    "import matplotlib.pyplot as plt\n",
    "#i)\n",
    "plt.figure()\n",
    "plt.title('Trajectory of Particles for First IC')\n",
    "plt.xlabel('$x(t)$')\n",
    "plt.ylabel('$y(t)$')\n",
    "plt.plot(r1_x_a, r1_y_a, '.', label = 'Particle 1')\n",
    "plt.plot(r2_x_a, r2_y_a, '.', label = 'Particle 2')\n",
    "plt.legend()\n",
    "plt.axis('equal')\n",
    "#ii)\n",
    "plt.figure()\n",
    "plt.title('Trajectory of Particles for Second IC')\n",
    "plt.xlabel('$x(t)$')\n",
    "plt.ylabel('$y(t)$')\n",
    "plt.plot(r1_x_b, r1_y_b, '.', label = 'Particle 1')\n",
    "plt.plot(r2_x_b, r2_y_b, '.', label = 'Particle 2')\n",
    "plt.legend()\n",
    "plt.axis('equal')\n",
    "#iii)\n",
    "plt.figure()\n",
    "plt.title('Trajectory of Particles for Third IC')\n",
    "plt.xlabel('$x(t)$')\n",
    "plt.ylabel('$y(t)$')\n",
    "plt.plot(r1_x_c, r1_y_c, '.', label = 'Particle 1')\n",
    "plt.plot(r2_x_c, r2_y_c, '.', label = 'Particle 2')\n",
    "plt.legend()\n",
    "plt.axis('equal')"
   ]
  },
  {
   "cell_type": "code",
   "execution_count": null,
   "metadata": {},
   "outputs": [],
   "source": []
  },
  {
   "cell_type": "code",
   "execution_count": null,
   "metadata": {},
   "outputs": [],
   "source": []
  }
 ],
 "metadata": {
  "kernelspec": {
   "display_name": "Python 3",
   "language": "python",
   "name": "python3"
  },
  "language_info": {
   "codemirror_mode": {
    "name": "ipython",
    "version": 3
   },
   "file_extension": ".py",
   "mimetype": "text/x-python",
   "name": "python",
   "nbconvert_exporter": "python",
   "pygments_lexer": "ipython3",
   "version": "3.6.5"
  },
  "varInspector": {
   "cols": {
    "lenName": 16,
    "lenType": 16,
    "lenVar": 40
   },
   "kernels_config": {
    "python": {
     "delete_cmd_postfix": "",
     "delete_cmd_prefix": "del ",
     "library": "var_list.py",
     "varRefreshCmd": "print(var_dic_list())"
    },
    "r": {
     "delete_cmd_postfix": ") ",
     "delete_cmd_prefix": "rm(",
     "library": "var_list.r",
     "varRefreshCmd": "cat(var_dic_list()) "
    }
   },
   "types_to_exclude": [
    "module",
    "function",
    "builtin_function_or_method",
    "instance",
    "_Feature"
   ],
   "window_display": false
  }
 },
 "nbformat": 4,
 "nbformat_minor": 2
}
