{
 "cells": [
  {
   "cell_type": "markdown",
   "metadata": {},
   "source": [
    "## Question 3: Stefan-Botzmann constant\n",
    "Note: nothing to hand in for part 5.12a according to the assignment sheet. \n",
    "### Part a\n",
    "Note: this is 5.12b from Newman. \n"
   ]
  },
  {
   "cell_type": "code",
   "execution_count": 35,
   "metadata": {},
   "outputs": [
    {
     "name": "stdout",
     "output_type": "stream",
     "text": [
      "Numerical approximation via trapezoid rule of the Boltzmann black body power integral is: 6.366257619997779\n"
     ]
    }
   ],
   "source": [
    "#import numpy\n",
    "import numpy as np\n",
    "\n",
    "#define function to be integrated (after change of variables described in equation 5.67 Newman)\n",
    "def Integrand(z):\n",
    "    \"\"\"\n",
    "    This defines the mathematical funciton we want to integrate from 0 to 1 to approximate the total rate at which\n",
    "    energy is radiated by a black bodt per unit area according to the Planck theory of thermal radiation\n",
    "    INPUT:\n",
    "    z [float] is the independent variable (after change of variables from x where the integral in terms of x was from 0 to inf)\n",
    "    OUTPUT:\n",
    "    res [float] is the image of input z under the integrand function.\n",
    "    \"\"\"\n",
    "    res = z**3/((np.exp(z/(1-z))-1)*(1-z)**5)\n",
    "    return res\n",
    "\n",
    "#define a function for Trapezoid rule \n",
    "def Trapzzz(funktion, N, a, b):\n",
    "    \"\"\"\n",
    "    A function for performing numerical integration of the mathematical function denoted funktion according to \n",
    "    the trapezoid rule for N steps.\n",
    "    INPUT:\n",
    "    funktion [function handle of single variable] is the function whose integral is to be numerically approximated \n",
    "    N [int] number of steps\n",
    "    a [float] lower bound of integration\n",
    "    b [float] upper bound of integration\n",
    "    \"\"\"\n",
    "    h = (b-a)/N #width of trapezoids\n",
    "    s = 0.5*funktion(a) + 0.5*funktion(b) #the constant terms in the series expansion defining the trapezoid rule as in equation 5.3 of Newman\n",
    "\n",
    "    for j in range(1,N):\n",
    "        s += funktion(a+j*h)\n",
    "        \n",
    "    the_integral = h*s\n",
    "    return the_integral\n",
    "\n",
    "N = 10 #let's try 10 steps\n",
    "delta = 10**(-15) #<<1. if we integrate all the way to 1 we're going to get a division by 0 error due to the discretized nature of computation <--> BAD. But, we can get 'close'\n",
    "a = delta #lower bound is 0 after change of variable. We shift it up by small delta so that (exp(z/(1-z))-1) term doesnt cause integrand to blow up\n",
    "b = 1-delta #upper bound is 1 after change of variable. We shift it down by small delta so that the (1-z)^5 term doesnt cause integrand to blow up\n",
    "\n",
    "theIntegral = Trapzzz(Integrand, N, a, b)\n",
    "print('Numerical approximation via trapezoid rule of the Boltzmann black body power integral is: {0}'.format(theIntegral))\n",
    "\n",
    "#TO DO: Answer: \"How accurate do we think our answer is?\",\" as asks Newman. "
   ]
  },
  {
   "cell_type": "markdown",
   "metadata": {},
   "source": [
    "### Part b\n",
    "Note: this is 5.12c from Newman. \n",
    "According to Planck's theory of thermal radiation, the total rate at which energy is radiated by a black body per unit area $ W $, over all frequncies, is the following expression (Newman):\n",
    "\\begin{equation}\n",
    "    W = \\frac{k_B^4 T^4}{4 \\pi^2 c^2 \\hbar} \\int_{0}^{\\infty} \\frac{x^3}{e^x -1} dx \\qquad (1)\n",
    "\\end{equation}\n",
    "In part a we evaluated the integral $ \\int_{0}^{\\infty} \\frac{x^3}{e^x -1} dx $ numerically using the trapezoid rule and a change of variables to have finite bounds. \n",
    "As noted in Newman, Stefan's law for $W$ is given by the following:\n",
    "\\begin{equation}\n",
    "    W = \\sigma T^4 \\qquad (2)\n",
    "\\end{equation}\n",
    "Equation (1) and (2) ought to be equal for any given temperature $T$.\n",
    "We will use this equivalence and our numerical integration to estimate the Stefan-Boltzmann constant.\n",
    "More concretely, we will estimate $\\sigma$ as follows:\n",
    "\\begin{equation}\n",
    "    \\sigma = \\frac{k_B^4}{4 \\pi^2 c^2 \\hbar^3} \\int_{0}^{\\infty} \\frac{x^3}{e^x -1} dx \\qquad (3)\n",
    "\\end{equation}\n",
    "Note that equation (3) is equal to $ W/T^4 $."
   ]
  },
  {
   "cell_type": "code",
   "execution_count": 40,
   "metadata": {},
   "outputs": [
    {
     "name": "stdout",
     "output_type": "stream",
     "text": [
      "Estimation of Stefan-Botlzmann constant is: 5.5584366590226184e-08\n",
      "Percent error of: 1.9740597119659344 % from accepted value\n"
     ]
    }
   ],
   "source": [
    "#define some constants \n",
    "k_b = 1.380648813131313131313131 * 10**(-23) #J/K Boltzmann constant\n",
    "PIE = np.pi #pi\n",
    "c = 299792458 #m/s speed of light\n",
    "hbar = 1.0546 * 10 **(-34) #Js reduced Planck's constant\n",
    "\n",
    "Stefan = k_b**4/(4*(PIE**2)*(c**2)*hbar**3)*theIntegral\n",
    "print('Estimation of Stefan-Botlzmann constant is: {0}'.format(Stefan))\n",
    "\n",
    "Stefan_literature = 5.6703732121212121212 * 10**(-8)\n",
    "err = abs(Stefan_literature-Stefan)*100/Stefan_literature\n",
    "print('Percent error of: {0} % from accepted value'.format(err))\n"
   ]
  },
  {
   "cell_type": "code",
   "execution_count": null,
   "metadata": {},
   "outputs": [],
   "source": []
  }
 ],
 "metadata": {
  "kernelspec": {
   "display_name": "Python 3",
   "language": "python",
   "name": "python3"
  },
  "language_info": {
   "codemirror_mode": {
    "name": "ipython",
    "version": 3
   },
   "file_extension": ".py",
   "mimetype": "text/x-python",
   "name": "python",
   "nbconvert_exporter": "python",
   "pygments_lexer": "ipython3",
   "version": "3.6.5"
  }
 },
 "nbformat": 4,
 "nbformat_minor": 2
}
