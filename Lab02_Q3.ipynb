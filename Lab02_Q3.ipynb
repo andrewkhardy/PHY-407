{
 "cells": [
  {
   "cell_type": "markdown",
   "metadata": {},
   "source": [
    "## Question 3: Stefan-Botzmann constant\n",
    "Note: nothing to hand in for part 5.12a according to the assignment sheet. \n",
    "### Part a\n",
    "Note: this is 5.12b from Newman. \n",
    "\n",
    "The Planck theory of thermal radiation dictates that the amount of thermal energy per second electromagnetically radiated from a black body with unit area in an anglular frequency interval $\\mathrm{d}\\omega$ is the quantity $I(\\omega)\\mathrm{d}\\omega$ where $I(\\omega)$ represents the intensity of the thermal radiation as a function of angular frequency given as follows:\n",
    "\\begin{equation}\n",
    "    I(\\omega) = \\frac{\\hbar}{4\\pi^2 c^2} \\frac{\\omega^3}{(e^{\\hbar \\omega/ k_B T} - 1)} \\qquad (1)\n",
    "\\end{equation}\n",
    "where $\\hbar$, $k_B$, and $c$ are reduced Planck's constant ($h/(2\\pi)$), Boltzmann's constant, and the speed of light in a vacuum, respectively. \n",
    "\n",
    "It can then be shown that the total rate of black body energy radiation per unit area over all frequencies, $W$, is:\n",
    "\\begin{equation}\n",
    "    W = \\frac{k_B^4 T^4}{4\\pi^2 c^2 \\hbar^3} \\int_0^{\\infty} \\frac{x^3}{e^x - 1}\\mathrm{d}x \\qquad (2)\n",
    "\\end{equation}\n",
    "\n",
    "Here, we set out to numerically approximate the integral given in equation (2) using the Trapezoid rule, and estimate the accuracy of this method of numerical integration in this case. We will use Newman's suggested method in section 5.2.1 for 'practical estimation of errors' for Trapezoid rule to comment on the accuracy of the result. That is, the error for evaluating an integral for $N_2$ steps is given by $\\epsilon = \\frac{1}{3}(I_2 - I_1)$ where $I_2$ is the value of the integral for $N_2$ steps and $I_1$ is the value of the integral for $N_1 = N_2/2$ steps. \n",
    "\n",
    "In order to perform this numerical integration we will need to perform a change of variables to acquire a finite upper bound of integration. This transformation is given in Newman as $x = \\frac{z}{1-z}$. Simply substituting this change into equation (2) we see that the integrand in terms of $z$ becomes $\\frac{z^3}{(e^{z/(1-z)}-1)(1-z)^5}$ and it is simple to see that the lower bound is still $0$ but the upper bound becomes $1$ when integrating with respect to $z$ since $z \\rightarrow 1$ as $x \\rightarrow \\infty$.\n",
    "\n",
    "Below is pseudocode highlighting the steps in this computation:\n",
    "\n",
    "1. Import required packages.\n",
    "2. Define the integrand as a function. NB: this should be the integrand resulting from the change of variables above. \n",
    "3. Define a general function for Trapezoid rule numerical integration with inputs: function to integrade, lower bound, upper bound, and number of steps. \n",
    "4. Define number of steps $N = 10$, a small quantity $\\delta = 10^-15$, and bounds of integration $a = \\delta$, $b = 1 - \\delta$. This is effectively as close to integrating from $0$ to $1$ as we can get without incurring a dividing by zero error. \n",
    "5. Evaluate the integral by calling Trapezoid rule function evaluated for the integrand function, $N$ steps, $a$ LB, $b$ UB. \n",
    "6. Evaluate integral using Newman's practical estimation of errors method in 5.2.1 (see above)."
   ]
  },
  {
   "cell_type": "code",
   "execution_count": 2,
   "metadata": {},
   "outputs": [
    {
     "name": "stdout",
     "output_type": "stream",
     "text": [
      "Numerical approximation via trapezoid rule of the Boltzmann black body power integral is: 6.37\n",
      "Practical error estimation method of error for Trapezoid rule integration yields an error estimate of -0.34.\n",
      "The estimated error is -5.27 % the magnitude of the integral approximation.\n"
     ]
    }
   ],
   "source": [
    "#import numpy\n",
    "import numpy as np\n",
    "\n",
    "#define function to be integrated (after change of variables described in equation 5.67 Newman)\n",
    "def Integrand(z):\n",
    "    \"\"\"\n",
    "    This defines the mathematical funciton we want to integrate from 0 to 1 to approximate the total rate at which\n",
    "    energy is radiated by a black bodt per unit area according to the Planck theory of thermal radiation\n",
    "    INPUT:\n",
    "    z [float] is the independent variable (after change of variables from x where the integral in terms of x was from 0 to inf)\n",
    "    OUTPUT:\n",
    "    res [float] is the image of input z under the integrand function.\n",
    "    \"\"\"\n",
    "    res = z**3/((np.exp(z/(1-z))-1)*(1-z)**5)\n",
    "    return res\n",
    "\n",
    "#define a function for Trapezoid rule \n",
    "def Trapzzz(funktion, N, a, b):\n",
    "    \"\"\"\n",
    "    A function for performing numerical integration of the mathematical function denoted funktion according to \n",
    "    the trapezoid rule for N steps.\n",
    "    INPUT:\n",
    "    funktion [function handle of single variable] is the function whose integral is to be numerically approximated \n",
    "    N [int] number of steps\n",
    "    a [float] lower bound of integration\n",
    "    b [float] upper bound of integration\n",
    "    \"\"\"\n",
    "    h = (b-a)/N #width of trapezoids\n",
    "    s = 0.5*funktion(a) + 0.5*funktion(b) #the constant terms in the series expansion defining the trapezoid rule as in equation 5.3 of Newman\n",
    "\n",
    "    for j in range(1,N):\n",
    "        s += funktion(a+j*h)\n",
    "        \n",
    "    the_integral = h*s\n",
    "    return the_integral\n",
    "\n",
    "N = 10 #let's try 10 steps\n",
    "delta = 10**(-15) #<<1. if we integrate all the way to 1 we're going to get a division by 0 error due to the discretized nature of computation <--> BAD. But, we can get 'close'\n",
    "a = delta #lower bound is 0 after change of variable. We shift it up by small delta so that (exp(z/(1-z))-1) term doesnt cause integrand to blow up\n",
    "b = 1-delta #upper bound is 1 after change of variable. We shift it down by small delta so that the (1-z)^5 term doesnt cause integrand to blow up\n",
    "\n",
    "theIntegral = Trapzzz(Integrand, N, a, b)\n",
    "print('Numerical approximation via trapezoid rule of the Boltzmann black body power integral is: {0:.2f}'.format(theIntegral))\n",
    "\n",
    "I2 = theIntegral\n",
    "I1 = Trapzzz(Integrand, N//2, a, b)\n",
    "\n",
    "err = (I2 - I1)/3\n",
    "\n",
    "print('Practical error estimation method of error for Trapezoid rule integration yields an error estimate of {0:.2f}.'.format(err))\n",
    "relative_err = err*100/I2\n",
    "print('The estimated error is {0:.2f} % the magnitude of the integral approximation.'.format(relative_err))"
   ]
  },
  {
   "cell_type": "markdown",
   "metadata": {},
   "source": [
    "The relatively small ratio ($\\sim 5.27 \\%$) between error estimate using Newman's practical error estimation method in comparison to magintidue of the integral approximation indicates that our result may be rather acccurate. We may represent the resulting integral approximation as $6.37 \\pm 0.34$."
   ]
  },
  {
   "cell_type": "markdown",
   "metadata": {},
   "source": [
    "### Part b\n",
    "Note: this is 5.12c from Newman. \n",
    "\n",
    "Recall from Part a that the total rate at which energy is radaited by a black body per unit area over all frequencies is given by equation (2). \n",
    "\n",
    "In part a we evaluated the integral from this expression $ \\int_{0}^{\\infty} \\frac{x^3}{e^x -1} dx $ numerically using the Trapezoid rule with a change of variables to have finite bounds. \n",
    "\n",
    "As noted in Newman, Stefan's law also gives an expression for $W$ as follows:\n",
    "\\begin{equation}\n",
    "    W = \\sigma T^4 \\qquad (3)\n",
    "\\end{equation}\n",
    "\n",
    "Equation (2) and (3) ought to be equal for any given temperature $T$. We will use this equivalence and our numerical integration to estimate the Stefan-Boltzmann constant. More concretely, we will estimate $\\sigma$ as follows:\n",
    "\\begin{equation}\n",
    "    \\sigma = \\frac{k_B^4}{4 \\pi^2 c^2 \\hbar^3} \\int_{0}^{\\infty} \\frac{x^3}{e^x -1} dx \\qquad (4)\n",
    "\\end{equation}\n",
    "\n",
    "Note that equation (4) is equal to $ W/T^4 $."
   ]
  },
  {
   "cell_type": "code",
   "execution_count": 30,
   "metadata": {},
   "outputs": [
    {
     "name": "stdout",
     "output_type": "stream",
     "text": [
      "Estimation of Stefan-Botlzmann constant is: 5.61E-08 W m^-2 K^-4.\n",
      "scipy.constant Stefan-Boltzmann value is 5.67E-08 W m^-2 K^-4.\n",
      "Percent difference of our estimate of Stefan-Boltzmann constant from scipy value is 1.00 %.\n"
     ]
    }
   ],
   "source": [
    "#define some constants \n",
    "k_b = 1.38 * 10**(-23) #J/K Boltzmann constant\n",
    "c = 3*10**8 #m/s speed of light\n",
    "hbar = 1.05 * 10 **(-34) #Js reduced Planck's constant\n",
    "\n",
    "Stefan_est = k_b**4/(4*(np.pi**2)*(c**2)*hbar**3)*theIntegral\n",
    "print('Estimation of Stefan-Botlzmann constant is: {0:.2E} W m^-2 K^-4.'.format(Stefan_est))\n",
    "\n",
    "from scipy.constants import Stefan_Boltzmann\n",
    "\n",
    "Stefan_acc = Stefan_Boltzmann\n",
    "print('scipy.constant Stefan-Boltzmann value is {0:.2E} W m^-2 K^-4.'.format(Stefan_acc))\n",
    "\n",
    "err = abs(Stefan_acc-Stefan_est)*100/Stefan_acc\n",
    "print('Percent difference of our estimate of Stefan-Boltzmann constant from scipy value is {0:.2f} %.'.format(err))\n"
   ]
  },
  {
   "cell_type": "markdown",
   "metadata": {},
   "source": [
    "It is clear that even for a small number of steps, the Trapezoid rule yields a reasonable estimation of the integral in equation (2) given that we estimated the Stefan-Boltzmann constant to 3 significant figures with a percent difference as little as $1\\%$. This reinforces our assertion in Part a that our integral approximation appears to be relatively accurate based off of the small resulting value in the error estimation. "
   ]
  },
  {
   "cell_type": "code",
   "execution_count": null,
   "metadata": {},
   "outputs": [],
   "source": []
  }
 ],
 "metadata": {
  "kernelspec": {
   "display_name": "Python 3",
   "language": "python",
   "name": "python3"
  },
  "language_info": {
   "codemirror_mode": {
    "name": "ipython",
    "version": 3
   },
   "file_extension": ".py",
   "mimetype": "text/x-python",
   "name": "python",
   "nbconvert_exporter": "python",
   "pygments_lexer": "ipython3",
   "version": "3.6.5"
  }
 },
 "nbformat": 4,
 "nbformat_minor": 2
}
