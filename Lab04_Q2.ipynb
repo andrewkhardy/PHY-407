{
 "cells": [
  {
   "cell_type": "markdown",
   "metadata": {},
   "source": [
    "### Question 2: Asymmetric quantum well\n",
    "The system we want to work with here is a finite segment of the real line from $x = 0$ to $x = L$ with a variable potential $V(x) = \\frac{ax}{L}$ where $a$ is a constant with units of energy. In order to impose boundary conditions for the wavefunction $\\psi$ such that $\\psi(0) = \\psi(L) = 0$ we also demand that this potential blows up at the boundaries. We can then give the Fourier representation of the wavefunction as follows:\n",
    "$$ \n",
    "\\psi(x) = \\sum_{n=1}^{\\infty}\\psi_n \\mathrm{sin}\\frac{\\pi n x}{L}\n",
    "$$\n",
    "where $\\psi_1, \\psi_2,...$ are Fourier coefficients. These coefficients, in particular, are the components of the eigenvectors of the following eigenvalue equation for the Hamiltonian operator (obsevable of this measurement is energy):\n",
    "$$\n",
    "\\mathbf{H \\psi} = E\\mathbf{\\psi}\\\\\n",
    "\\mathbf{\\psi} = (\\psi_1, \\psi_2,...)\n",
    "$$\n",
    "$E$ being the energy eigenvalue. $\\mathbf{H}$ is the infinite dimensional matrix representation of the Hamiltonitan operator $\\hat H = -\\frac{\\hbar^2}{2 M}\\frac{\\mathrm{d}^2}{\\mathrm{d}x^2} + V(x)$. Different eigenvalues $E$ correspond to different discrete energy levels the particle can be observed in.\n",
    "\n",
    "It can be shown that the matrix elements of $\\mathbf{H}$ are given by:\n",
    "$$\n",
    "H_{mn} = \\frac{2}{L}\\int_0^L \\mathrm{sin}\\frac{\\pi m x}{L}\\big[ -\\frac{\\hbar^2}{2 M}\\frac{\\mathrm{d}^2}{\\mathrm{d}x^2} + V(x) \\big]\\mathrm{sin}\\frac{\\pi n x}{L} \\\\\n",
    "       = \\frac{2}{L}\\int_0^L \\mathrm{sin}\\frac{\\pi m x}{L}\\mathrm{sin}\\frac{\\pi n x}{L}\\big[ \\frac{\\hbar^2}{2 M}(\\frac{\\pi n}{L})^2 + V(x) \\big]\n",
    "$$\n",
    "The second line comes from acting the Hamiltonian operator on $\\mathrm{sin}\\frac{\\pi n x}{L}$.\n",
    "\n",
    "The following few blocks of code is to evaluate $H_{mn}$ for arbitrary integers $m,n$ (row and column of $\\mathbf{H}$, respectively) with $L = 5\\times 10^{-10} m$, $a = 10\\ \\mathrm{eV}$ for an electron whose mass and charge are $M = 9.1094\\times 10^{-31}\\ \\mathrm{kg}$, $\\mathrm{e} = 1.6022 \\times 10^{-19} \\ \\mathrm{C}$, respectively. In SI units, $a = 1.6022\\times 10^{-19} \\ \\mathrm{J}$. "
   ]
  },
  {
   "cell_type": "code",
   "execution_count": 2,
   "metadata": {},
   "outputs": [],
   "source": [
    "#Q2 \n",
    "#Code for end of Newman 6.9 b)\n",
    "#for H_mn\n",
    "#define constants\n",
    "M = 9.1094e-31 #kg (mass of electron)\n",
    "L = 5e-10 #m (Length of well)\n",
    "from scipy.constants import e #electron charge\n",
    "a = 10*e #J (energy constant in potential)\n",
    "from scipy.constants import hbar\n",
    "#define assymetric 1D potential \n",
    "def V(x):\n",
    "    \"\"\"\n",
    "    Input:\n",
    "    x [float] : position of particle in well\n",
    "    Output:\n",
    "    V(x) [float] : potential at position x\n",
    "    \"\"\"\n",
    "    return a*x/L"
   ]
  },
  {
   "cell_type": "code",
   "execution_count": 3,
   "metadata": {},
   "outputs": [],
   "source": [
    "#define a function for computing the element of H in the mth row nth col\n",
    "#use Gauss quadrature for numerical integration\n",
    "from gaussxw import gaussxwab\n",
    "import numpy as np\n",
    "#import some particular numpy \n",
    "#atributes to make code loop nicer\n",
    "#without np. everywhere\n",
    "from numpy import pi, sin\n",
    "\n",
    "#define integrand function for H\n",
    "def Integrand(x,m,n):\n",
    "    \"\"\"\n",
    "    Inputs:\n",
    "    x [float] : position of particle in well\n",
    "    m [integer] : row index of Hamiltonian (>=1)\n",
    "    n [integer] : column index of Hamiltonian (>=1)\n",
    "    Output:\n",
    "    Integrand(x, m, n) [float] : The value of the integrand in the\n",
    "    integral that defines elements of the Hamiltonian\n",
    "    \"\"\"\n",
    "    out = (2/L)*sin(pi*m*x/L)*sin(pi*n*x/L)*\\\n",
    "    (hbar**2/(2*M)*(pi*n/L)**2 + V(x))\n",
    "    return out\n",
    "    \n",
    "#define a function for H_{mn}\n",
    "def H(m,n):\n",
    "    \"\"\"\n",
    "    Inputs:\n",
    "    m [integer] : row index of Hamiltonian (>=1)\n",
    "    n [integer] : column index of Hamiltonian (>=1)\n",
    "    Output:\n",
    "    H(m,n) [float] : the element of the Hamiltonian for an\n",
    "    electron in the assymetric well with potential given by V(x)\n",
    "    above, in the mth row, nth column.\n",
    "    \"\"\"\n",
    "    N = 100 #steps for Gaussian quadrature. \n",
    "    #get points and weights for integration from 0 to L\n",
    "    xp, wp = gaussxwab(N, 0, L) \n",
    "\n",
    "    # Perform the integration\n",
    "    s = 0.0\n",
    "    for k in range(N):\n",
    "        s += wp[k]*Integrand(xp[k],m,n)\n",
    "    return s "
   ]
  },
  {
   "cell_type": "markdown",
   "metadata": {},
   "source": [
    "## Part c) from Newman 6.9\n",
    "As mentioned in the intial preamble, $\\mathbf{H}$ is an infinite dimensional matrix. So, we cannot calculate all of its eigenvalues in practice, but we can calculate the first 10x10 block of $\\mathbf{H}$ and approximate the first ten eigenvalues by calculating the eigenvalues of this block. Newman tell's us the value should be 5.84 eV."
   ]
  },
  {
   "cell_type": "code",
   "execution_count": 13,
   "metadata": {},
   "outputs": [],
   "source": [
    "#let's get the first 10x10 block of H\n",
    "Ham_10 = np.empty([10,10])#preallocate empty 10x10 array\n",
    "#imbedded for-loop to fill entries using above function\n",
    "for i in range(1,10+1):\n",
    "    for j in range(1,10+1):\n",
    "        Ham_10[i-1,j-1] = H(i,j)\n"
   ]
  },
  {
   "cell_type": "code",
   "execution_count": 5,
   "metadata": {},
   "outputs": [],
   "source": [
    "#eigh returns eigenvalues and eigenvectors\n",
    "#of Hermitian matrices. H is of course Hermitian\n",
    "#because Quantum Mechanics\n",
    "from numpy.linalg import eigh\n",
    "#get eigenvalues and eigenvectors\n",
    "eigenvals_10, eigenvects_10 = eigh(Ham_10)\n",
    "eigenvals_10_eV = eigenvals_10/ e #convert to units of eV\n",
    "ground_state_E_10 = eigenvals_10_eV[0] \n",
    "#^ array index ought to be 1 less than algebraic index.\n",
    "#ground state is n=1 so array index is 0."
   ]
  },
  {
   "cell_type": "code",
   "execution_count": 26,
   "metadata": {
    "scrolled": false
   },
   "outputs": [
    {
     "name": "stdout",
     "output_type": "stream",
     "text": [
      "For 10x10 block...\n",
      "Ground state energy eigenvalue estimate is: 5.8363731\n",
      "The magnitude of diference between theory value is 0.0036269\n",
      "This is 0.0621041% of theoretical value of 5.84eV.\n"
     ]
    }
   ],
   "source": [
    "print('For 10x10 block...')\n",
    "print('Ground state energy eigenvalue estimate is: {0:.7f}'.\\\n",
    "      format(ground_state_E_10)) \n",
    "theory = 5.84\n",
    "diff = abs(ground_state_E_10 - 5.84)\n",
    "print(\\\n",
    "'The magnitude of diference between theory value is {0:.7f}'\\\n",
    "     .format(diff))\n",
    "print('This is {0:.7f}% of theoretical value of 5.84eV.'\\\n",
    "     .format(100*diff/theory))"
   ]
  },
  {
   "cell_type": "markdown",
   "metadata": {},
   "source": [
    "The ground state came out to be ~5.84eV, as expected. Now let's do the same method of approximation but for a 100x100 block."
   ]
  },
  {
   "cell_type": "code",
   "execution_count": 1,
   "metadata": {
    "ExecuteTime": {
     "end_time": "2018-10-05T14:25:10.471272Z",
     "start_time": "2018-10-05T14:25:10.377939Z"
    }
   },
   "outputs": [
    {
     "ename": "NameError",
     "evalue": "name 'H' is not defined",
     "output_type": "error",
     "traceback": [
      "\u001b[0;31m---------------------------------------------------------------------------\u001b[0m",
      "\u001b[0;31mNameError\u001b[0m                                 Traceback (most recent call last)",
      "\u001b[0;32m<ipython-input-1-fcb02bf8f233>\u001b[0m in \u001b[0;36m<module>\u001b[0;34m()\u001b[0m\n\u001b[1;32m      4\u001b[0m \u001b[0;32mfor\u001b[0m \u001b[0mi\u001b[0m \u001b[0;32min\u001b[0m \u001b[0mrange\u001b[0m\u001b[0;34m(\u001b[0m\u001b[0;36m1\u001b[0m\u001b[0;34m,\u001b[0m\u001b[0;36m100\u001b[0m\u001b[0;34m+\u001b[0m\u001b[0;36m1\u001b[0m\u001b[0;34m)\u001b[0m\u001b[0;34m:\u001b[0m\u001b[0;34m\u001b[0m\u001b[0m\n\u001b[1;32m      5\u001b[0m     \u001b[0;32mfor\u001b[0m \u001b[0mj\u001b[0m \u001b[0;32min\u001b[0m \u001b[0mrange\u001b[0m\u001b[0;34m(\u001b[0m\u001b[0;36m1\u001b[0m\u001b[0;34m,\u001b[0m\u001b[0;36m100\u001b[0m\u001b[0;34m+\u001b[0m\u001b[0;36m1\u001b[0m\u001b[0;34m)\u001b[0m\u001b[0;34m:\u001b[0m\u001b[0;34m\u001b[0m\u001b[0m\n\u001b[0;32m----> 6\u001b[0;31m         \u001b[0mHam_100\u001b[0m\u001b[0;34m[\u001b[0m\u001b[0mi\u001b[0m\u001b[0;34m-\u001b[0m\u001b[0;36m1\u001b[0m\u001b[0;34m,\u001b[0m\u001b[0mj\u001b[0m\u001b[0;34m-\u001b[0m\u001b[0;36m1\u001b[0m\u001b[0;34m]\u001b[0m \u001b[0;34m=\u001b[0m \u001b[0mH\u001b[0m\u001b[0;34m(\u001b[0m\u001b[0mi\u001b[0m\u001b[0;34m,\u001b[0m\u001b[0mj\u001b[0m\u001b[0;34m)\u001b[0m\u001b[0;34m\u001b[0m\u001b[0m\n\u001b[0m",
      "\u001b[0;31mNameError\u001b[0m: name 'H' is not defined"
     ]
    }
   ],
   "source": [
    "#part c\n",
    "#let's get the first 100x100 block of H\n",
    "Ham_100 = np.empty([100,100])\n",
    "for i in range(1,100+1):\n",
    "    for j in range(1,100+1):\n",
    "        Ham_100[i-1,j-1] = H(i,j)"
   ]
  },
  {
   "cell_type": "code",
   "execution_count": 2,
   "metadata": {
    "ExecuteTime": {
     "end_time": "2018-10-05T14:25:10.764320Z",
     "start_time": "2018-10-05T14:25:10.749905Z"
    }
   },
   "outputs": [
    {
     "ename": "NameError",
     "evalue": "name 'eigh' is not defined",
     "output_type": "error",
     "traceback": [
      "\u001b[0;31m---------------------------------------------------------------------------\u001b[0m",
      "\u001b[0;31mNameError\u001b[0m                                 Traceback (most recent call last)",
      "\u001b[0;32m<ipython-input-2-f75fac2b8c90>\u001b[0m in \u001b[0;36m<module>\u001b[0;34m()\u001b[0m\n\u001b[0;32m----> 1\u001b[0;31m \u001b[0meigenvals_100\u001b[0m\u001b[0;34m,\u001b[0m \u001b[0meigenvects_100\u001b[0m \u001b[0;34m=\u001b[0m \u001b[0meigh\u001b[0m\u001b[0;34m(\u001b[0m\u001b[0mHam_100\u001b[0m\u001b[0;34m)\u001b[0m\u001b[0;34m\u001b[0m\u001b[0m\n\u001b[0m\u001b[1;32m      2\u001b[0m \u001b[0meigenvals_100_eV\u001b[0m \u001b[0;34m=\u001b[0m \u001b[0meigenvals_100\u001b[0m\u001b[0;34m/\u001b[0m \u001b[0me\u001b[0m \u001b[0;31m#convert to units of eV\u001b[0m\u001b[0;34m\u001b[0m\u001b[0m\n\u001b[1;32m      3\u001b[0m \u001b[0mground_state_E_100\u001b[0m \u001b[0;34m=\u001b[0m \u001b[0meigenvals_100_eV\u001b[0m\u001b[0;34m[\u001b[0m\u001b[0;36m0\u001b[0m\u001b[0;34m]\u001b[0m\u001b[0;34m\u001b[0m\u001b[0m\n",
      "\u001b[0;31mNameError\u001b[0m: name 'eigh' is not defined"
     ]
    }
   ],
   "source": [
    "eigenvals_100, eigenvects_100 = eigh(Ham_100)\n",
    "eigenvals_100_eV = eigenvals_100/ e #convert to units of eV\n",
    "ground_state_E_100 = eigenvals_100_eV[0]"
   ]
  },
  {
   "cell_type": "code",
   "execution_count": 37,
   "metadata": {
    "scrolled": true
   },
   "outputs": [
    {
     "name": "stdout",
     "output_type": "stream",
     "text": [
      "For 100x100 block...\n",
      "Ground state energy eigenvalue estimate is: 5.8363727\n",
      "The magnitude of diference between theory value is 0.0036273\n",
      "This is 0.0621109% of theoretical value of 5.84eV.\n",
      "Percent error for 100x100 is 6.210e-02 higher than for 10x10.\n",
      "Diff between 10x10 and 100x100 approximation is: 4.0067710e-07\n"
     ]
    }
   ],
   "source": [
    "print('For 100x100 block...')\n",
    "print('Ground state energy eigenvalue estimate is: {0:.7f}'.\\\n",
    "      format(ground_state_E_100)) \n",
    "theory = 5.84\n",
    "diff1 = abs(ground_state_E_100 - 5.84)\n",
    "print(\\\n",
    "'The magnitude of diference between theory value is {0:.7f}'\\\n",
    "     .format(diff1))\n",
    "print('This is {0:.7f}% of theoretical value of 5.84eV.'\\\n",
    "     .format(100*diff1/theory))\n",
    "print(\\\n",
    "'Percent error for 100x100 is {0:.3e} higher than for 10x10.'\\\n",
    "     .format(100*diff1/theory - 100*diff/theory))\n",
    "diff_est = eigenvals_10_eV[0] - eigenvals_100_eV[0]\n",
    "print(\\\n",
    "'Diff between 10x10 and 100x100 approximation is: {0:.7e}'\\\n",
    "     .format(diff_est))"
   ]
  },
  {
   "cell_type": "markdown",
   "metadata": {},
   "source": [
    "Still quite close, but our % error is oddly slightly higher for the 100x100 case. The difference is negligble, but we can conclude that larger matrices do not have a large impact on the error once you reach a certain threshold."
   ]
  },
  {
   "cell_type": "code",
   "execution_count": 3,
   "metadata": {
    "ExecuteTime": {
     "end_time": "2018-10-05T14:26:15.254208Z",
     "start_time": "2018-10-05T14:26:15.247840Z"
    }
   },
   "outputs": [],
   "source": [
    "#6.9 part e) in Newman\n",
    "#define a function for the wavefucntion psi(x) for this\n",
    "#particle in this potential well\n",
    "def psi(x, m):\n",
    "    \"\"\"\n",
    "    Inputs:\n",
    "    x [float] : position of particle\n",
    "    along the real line\n",
    "    m [integer] : integer greater than or equal to 1\n",
    "    denoting energy level of particle\n",
    "    \"\"\"\n",
    "    #the eigenvector for mth energy level is\n",
    "    #the m-1 element in eigenvects_100 b/c of\n",
    "    #algebraic vs python indexing\n",
    "    the_vector = eigenvects_100[m-1] \n",
    "    wave = 0.0\n",
    "    for n in range(1,len(the_vector)+1):\n",
    "        wave += the_vector[n-1]*sin(pi*n*x/L)\n",
    "    return wave"
   ]
  },
  {
   "cell_type": "code",
   "execution_count": 4,
   "metadata": {
    "ExecuteTime": {
     "end_time": "2018-10-05T14:26:16.046485Z",
     "start_time": "2018-10-05T14:26:16.030371Z"
    },
    "scrolled": true
   },
   "outputs": [
    {
     "ename": "NameError",
     "evalue": "name 'L' is not defined",
     "output_type": "error",
     "traceback": [
      "\u001b[0;31m---------------------------------------------------------------------------\u001b[0m",
      "\u001b[0;31mNameError\u001b[0m                                 Traceback (most recent call last)",
      "\u001b[0;32m<ipython-input-4-b75662d750bf>\u001b[0m in \u001b[0;36m<module>\u001b[0;34m()\u001b[0m\n\u001b[1;32m      1\u001b[0m \u001b[0;31m#a range of positions between 0 and L\u001b[0m\u001b[0;34m\u001b[0m\u001b[0;34m\u001b[0m\u001b[0m\n\u001b[0;32m----> 2\u001b[0;31m \u001b[0mx\u001b[0m \u001b[0;34m=\u001b[0m \u001b[0mnp\u001b[0m\u001b[0;34m.\u001b[0m\u001b[0mlinspace\u001b[0m\u001b[0;34m(\u001b[0m\u001b[0;36m0\u001b[0m\u001b[0;34m,\u001b[0m\u001b[0mL\u001b[0m\u001b[0;34m,\u001b[0m\u001b[0;36m100\u001b[0m\u001b[0;34m)\u001b[0m\u001b[0;34m\u001b[0m\u001b[0m\n\u001b[0m\u001b[1;32m      3\u001b[0m \u001b[0;31m#wave functions for energy\u001b[0m\u001b[0;34m\u001b[0m\u001b[0;34m\u001b[0m\u001b[0m\n\u001b[1;32m      4\u001b[0m \u001b[0;31m#levels 1, 2, 3\u001b[0m\u001b[0;34m\u001b[0m\u001b[0;34m\u001b[0m\u001b[0m\n\u001b[1;32m      5\u001b[0m \u001b[0mpsi1\u001b[0m \u001b[0;34m=\u001b[0m \u001b[0mpsi\u001b[0m\u001b[0;34m(\u001b[0m\u001b[0mx\u001b[0m\u001b[0;34m,\u001b[0m\u001b[0;36m1\u001b[0m\u001b[0;34m)\u001b[0m\u001b[0;34m\u001b[0m\u001b[0m\n",
      "\u001b[0;31mNameError\u001b[0m: name 'L' is not defined"
     ]
    }
   ],
   "source": [
    "#a range of positions between 0 and L\n",
    "x = np.linspace(0,L,100)\n",
    "#wave functions for energy\n",
    "#levels 1, 2, 3\n",
    "psi1 = psi(x,1)\n",
    "psi2 = psi(x,2)\n",
    "psi3 = psi(x,3)\n",
    "#corresponding probability densities\n",
    "dens1 = psi1**2\n",
    "dens2 = psi2**2\n",
    "dens3 = psi3**2\n",
    "\n",
    "#plot probability densities\n",
    "font = 12\n",
    "import matplotlib.pyplot as plt\n",
    "plt.figure()\n",
    "plt.title('Probability density vs $0\\leq x \\leq L$',\n",
    "          fontsize = font)\n",
    "plt.xlabel('Position x in meters',fontsize = font)\n",
    "plt.ylabel('$|\\psi(x)|$', fontsize = font)\n",
    "plt.plot(x,dens1, label = 'ground state')\n",
    "plt.plot(x,dens2, label = '1st excited state')\n",
    "plt.plot(x,dens3, label = '2nd excited state')\n",
    "plt.legend(bbox_to_anchor=(1.05, 1), loc=2, \\\n",
    "           borderaxespad=0., fontsize = font)\n"
   ]
  },
  {
   "cell_type": "markdown",
   "metadata": {},
   "source": [
    "For some $x$ the probability amplitudes exceed 1! This is a clear indication that the wavefunctions aren't normalized. Let's now do this and plot again. The reason these weren't normalized is because previously we didn't pay any attention to the 'length'(modulus) of our eigenvectors, which ought to be normalized to one for a valid wavefunction. Thus, the manual normalization was required after computing the probility amplitudes. I could of course go back and normalize the eigenvectors and pretend like this didn't crop up,but I figured it would be more transparent to explain by this conrete example of what happens when you don't normalize eigenvectors. The normalized plot is below."
   ]
  },
  {
   "cell_type": "code",
   "execution_count": 64,
   "metadata": {},
   "outputs": [
    {
     "data": {
      "text/plain": [
       "<matplotlib.legend.Legend at 0x28a62af0908>"
      ]
     },
     "execution_count": 64,
     "metadata": {},
     "output_type": "execute_result"
    },
    {
     "data": {
      "image/png": "[encoded data removed]",
      "text/plain": [
       "<Figure size 432x288 with 1 Axes>"
      ]
     },
     "metadata": {},
     "output_type": "display_data"
    }
   ],
   "source": [
    "dens1 /= np.sum(dens1) #normalize\n",
    "dens2 /= np.sum(dens2) #normalize\n",
    "dens3 /= np.sum(dens3) #normalize\n",
    "#plot normalzied probability densities \n",
    "plt.figure()\n",
    "plt.title(\\\n",
    "'Normalized Probability density vs $0\\leq x \\leq L$',\\\n",
    "          fontsize = font)\n",
    "plt.xlabel('Position x in meters',fontsize = font)\n",
    "plt.ylabel('$|\\psi(x)|$',fontsize = font)\n",
    "plt.plot(x,dens1, label = 'ground state')\n",
    "plt.plot(x,dens2, label = '1st excited state')\n",
    "plt.plot(x,dens3, label = '2nd excited state')\n",
    "plt.legend(bbox_to_anchor=(1.05, 1), loc=2,\\\n",
    "        borderaxespad=0.,fontsize = font)"
   ]
  },
  {
   "cell_type": "code",
   "execution_count": null,
   "metadata": {},
   "outputs": [],
   "source": []
  }
 ],
 "metadata": {
  "kernelspec": {
   "display_name": "Python 3",
   "language": "python",
   "name": "python3"
  },
  "language_info": {
   "codemirror_mode": {
    "name": "ipython",
    "version": 3
   },
   "file_extension": ".py",
   "mimetype": "text/x-python",
   "name": "python",
   "nbconvert_exporter": "python",
   "pygments_lexer": "ipython3",
   "version": "3.6.5"
  },
  "varInspector": {
   "cols": {
    "lenName": 16,
    "lenType": 16,
    "lenVar": 40
   },
   "kernels_config": {
    "python": {
     "delete_cmd_postfix": "",
     "delete_cmd_prefix": "del ",
     "library": "var_list.py",
     "varRefreshCmd": "print(var_dic_list())"
    },
    "r": {
     "delete_cmd_postfix": ") ",
     "delete_cmd_prefix": "rm(",
     "library": "var_list.r",
     "varRefreshCmd": "cat(var_dic_list()) "
    }
   },
   "types_to_exclude": [
    "module",
    "function",
    "builtin_function_or_method",
    "instance",
    "_Feature"
   ],
   "window_display": false
  }
 },
 "nbformat": 4,
 "nbformat_minor": 2
}
